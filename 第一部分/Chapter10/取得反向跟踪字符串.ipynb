{
 "cells": [
  {
   "cell_type": "markdown",
   "source": [
    "# 什么是反向跟踪(Traceback)"
   ],
   "metadata": {
    "collapsed": false
   }
  },
  {
   "cell_type": "markdown",
   "source": [
    "> 如果 Python 遇到错误，它就会生成一些错误信息，称为“反向跟踪”。\n",
    "> 反向跟踪包含了出错消息、导致该错误的代码行号，以及导致该错误的函数调用的序列。\n",
    "> 这个序列称为“调用栈”。"
   ],
   "metadata": {
    "collapsed": false
   }
  },
  {
   "cell_type": "code",
   "execution_count": 2,
   "outputs": [
    {
     "ename": "Exception",
     "evalue": "This is the error message.",
     "output_type": "error",
     "traceback": [
      "\u001B[0;31m---------------------------------------------------------------------------\u001B[0m",
      "\u001B[0;31mException\u001B[0m                                 Traceback (most recent call last)",
      "Cell \u001B[0;32mIn[2], line 7\u001B[0m\n\u001B[1;32m      4\u001B[0m \u001B[38;5;28;01mdef\u001B[39;00m \u001B[38;5;21mbacon\u001B[39m():\n\u001B[1;32m      5\u001B[0m     \u001B[38;5;66;03m# 在这里报错\u001B[39;00m\n\u001B[1;32m      6\u001B[0m     \u001B[38;5;28;01mraise\u001B[39;00m \u001B[38;5;167;01mException\u001B[39;00m(\u001B[38;5;124m'\u001B[39m\u001B[38;5;124mThis is the error message.\u001B[39m\u001B[38;5;124m'\u001B[39m)\n\u001B[0;32m----> 7\u001B[0m \u001B[43mspam\u001B[49m\u001B[43m(\u001B[49m\u001B[43m)\u001B[49m\n",
      "Cell \u001B[0;32mIn[2], line 2\u001B[0m, in \u001B[0;36mspam\u001B[0;34m()\u001B[0m\n\u001B[1;32m      1\u001B[0m \u001B[38;5;28;01mdef\u001B[39;00m \u001B[38;5;21mspam\u001B[39m():\n\u001B[0;32m----> 2\u001B[0m     \u001B[43mbacon\u001B[49m\u001B[43m(\u001B[49m\u001B[43m)\u001B[49m\n",
      "Cell \u001B[0;32mIn[2], line 6\u001B[0m, in \u001B[0;36mbacon\u001B[0;34m()\u001B[0m\n\u001B[1;32m      4\u001B[0m \u001B[38;5;28;01mdef\u001B[39;00m \u001B[38;5;21mbacon\u001B[39m():\n\u001B[1;32m      5\u001B[0m     \u001B[38;5;66;03m# 在这里报错\u001B[39;00m\n\u001B[0;32m----> 6\u001B[0m     \u001B[38;5;28;01mraise\u001B[39;00m \u001B[38;5;167;01mException\u001B[39;00m(\u001B[38;5;124m'\u001B[39m\u001B[38;5;124mThis is the error message.\u001B[39m\u001B[38;5;124m'\u001B[39m)\n",
      "\u001B[0;31mException\u001B[0m: This is the error message."
     ]
    }
   ],
   "source": [
    "def spam():\n",
    "    bacon()\n",
    "\n",
    "def bacon():\n",
    "    # 在这里报错\n",
    "    raise Exception('This is the error message.')\n",
    "spam()"
   ],
   "metadata": {
    "collapsed": false,
    "ExecuteTime": {
     "end_time": "2023-05-30T11:28:12.548414Z",
     "start_time": "2023-05-30T11:28:12.512640Z"
    }
   }
  },
  {
   "cell_type": "markdown",
   "source": [
    "> 我们可以看 Trace Back 他会一层层返回报错，最终溯源到错误的源头"
   ],
   "metadata": {
    "collapsed": false
   }
  },
  {
   "cell_type": "markdown",
   "source": [
    "## 获取报错字符串并返回到文件"
   ],
   "metadata": {
    "collapsed": false
   }
  },
  {
   "cell_type": "code",
   "execution_count": 4,
   "outputs": [
    {
     "name": "stdout",
     "output_type": "stream",
     "text": [
      "The traceback info was written to errorInfo.txt.\n"
     ]
    },
    {
     "data": {
      "text/plain": "232"
     },
     "execution_count": 4,
     "metadata": {},
     "output_type": "execute_result"
    }
   ],
   "source": [
    "import traceback, os\n",
    "try:\n",
    "    raise Exception('This is the error message.')\n",
    "except:\n",
    "    with open('/Users/momo/Desktop/Python_Auto/第二部分/Chapter10/data/errorInfo.txt', 'w') as errorFile:\n",
    "        errorFile.write(traceback.format_exc())\n",
    "    print('The traceback info was written to errorInfo.txt.')\n",
    "\n",
    "# 往文件中写入了多少大小的字符串\n",
    "os.path.getsize('/Users/momo/Desktop/Python_Auto/第二部分/Chapter10/data/errorInfo.txt')"
   ],
   "metadata": {
    "collapsed": false,
    "ExecuteTime": {
     "end_time": "2023-05-30T11:39:55.355307Z",
     "start_time": "2023-05-30T11:39:55.328863Z"
    }
   }
  }
 ],
 "metadata": {
  "kernelspec": {
   "display_name": "Python 3",
   "language": "python",
   "name": "python3"
  },
  "language_info": {
   "codemirror_mode": {
    "name": "ipython",
    "version": 2
   },
   "file_extension": ".py",
   "mimetype": "text/x-python",
   "name": "python",
   "nbconvert_exporter": "python",
   "pygments_lexer": "ipython2",
   "version": "2.7.6"
  }
 },
 "nbformat": 4,
 "nbformat_minor": 0
}
