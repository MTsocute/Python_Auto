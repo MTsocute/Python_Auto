{
 "cells": [
  {
   "cell_type": "markdown",
   "source": [
    "# 学会使用 logging 日志平替 print()"
   ],
   "metadata": {
    "collapsed": false
   }
  },
  {
   "cell_type": "code",
   "execution_count": 1,
   "outputs": [
    {
     "name": "stderr",
     "output_type": "stream",
     "text": [
      " 2023-05-31 03:52:44,974 - DEBUG - Start of program\n",
      " 2023-05-31 03:52:44,975 - DEBUG - Start of factorial(5%)\n",
      " 2023-05-31 03:52:44,976 - DEBUG - i is 0, total is 0\n",
      " 2023-05-31 03:52:44,977 - DEBUG - i is 1, total is 0\n",
      " 2023-05-31 03:52:44,977 - DEBUG - i is 2, total is 0\n",
      " 2023-05-31 03:52:44,978 - DEBUG - i is 3, total is 0\n",
      " 2023-05-31 03:52:44,979 - DEBUG - i is 4, total is 0\n",
      " 2023-05-31 03:52:44,980 - DEBUG - i is 5, total is 0\n",
      " 2023-05-31 03:52:44,980 - DEBUG - End of factorial(5%)\n",
      " 2023-05-31 03:52:44,981 - DEBUG - End of program\n"
     ]
    },
    {
     "name": "stdout",
     "output_type": "stream",
     "text": [
      "0\n"
     ]
    }
   ],
   "source": [
    "import logging      # 就当用于操作日志的一个类\n",
    "\n",
    "# 对于输出出来内容的一些基本设置\n",
    "\"\"\"\n",
    "    %(asctime)s：代表日志记录的时间，即日志被创建的时间。格式为\"年-月-日 小时:分钟:秒\"。\n",
    "    %(levelname)s：代表日志记录的级别。级别包括DEBUG、INFO、WARNING、ERROR 和 CRITICAL。\n",
    "    %(message)s：代表日志消息的内容。\n",
    "\"\"\"\n",
    "logging.basicConfig(\n",
    "    level=logging.DEBUG,\n",
    "    format=' %(asctime)s - %(levelname)s - %(message)s'\n",
    "    )\n",
    "\n",
    "logging.debug('Start of program')   # 这个函数会输出内容到message去\n",
    "\n",
    "def factorial(n):\n",
    "    logging.debug('Start of factorial(%s%%)' % n)\n",
    "    total = 1\n",
    "    for i in range(n + 1):\n",
    "        total *= i\n",
    "        logging.debug('i is ' + str(i) + ', total is ' + str(total))\n",
    "    logging.debug('End of factorial(%s%%)' % n)\n",
    "    return total\n",
    "\n",
    "print(factorial(5))\n",
    "logging.debug('End of program')"
   ],
   "metadata": {
    "collapsed": false,
    "ExecuteTime": {
     "end_time": "2023-05-30T19:52:44.991584Z",
     "start_time": "2023-05-30T19:52:44.973630Z"
    }
   }
  },
  {
   "cell_type": "markdown",
   "source": [
    "# 日志级别 levelname 详细解释"
   ],
   "metadata": {
    "collapsed": false
   }
  },
  {
   "cell_type": "markdown",
   "source": [
    "|    级别    | 日志函数               | 描述                               |\n",
    "|:--------:|:-------------------|:---------------------------------|\n",
    "|  DEBUG   | logging.debug()    | 最低级别别。用于小细节。通常只有在诊断问题时，你才会关心这些消息 |\n",
    "|   INFO   | logging.info()     | 用于记录程序中一般事件的信息，或确认一切工作正常         |\n",
    "| WARNING  | logging.warning()  | 用于表示可能的问题，它不会阻止程序的工作，但将来可能会      |\n",
    "|  ERROR   | logging.error()    | 用于记录错误，它导致程序做某事失败                |\n",
    "| CRITICAL | logging.critical() | 最高级别，表示致命错误，导致程序或将将要导致程序完全停止工作   |\n"
   ],
   "metadata": {
    "collapsed": false
   }
  },
  {
   "cell_type": "markdown",
   "source": [
    "## config 设置允许输出所有级别的日志"
   ],
   "metadata": {
    "collapsed": false
   }
  },
  {
   "cell_type": "code",
   "execution_count": 2,
   "outputs": [],
   "source": [
    "import logging\n",
    "# 显示所有级别的日志\n",
    "logging.basicConfig(level=logging.DEBUG, format=' %(asctime)s - %(levelname)s - %(message)s')"
   ],
   "metadata": {
    "collapsed": false,
    "ExecuteTime": {
     "end_time": "2023-05-30T20:08:27.183450Z",
     "start_time": "2023-05-30T20:08:27.174089Z"
    }
   }
  },
  {
   "cell_type": "markdown",
   "source": [
    "## config 设置只允许输出 error | critical 级别的日志"
   ],
   "metadata": {
    "collapsed": false
   }
  },
  {
   "cell_type": "code",
   "execution_count": null,
   "outputs": [],
   "source": [
    "import logging\n",
    "# 只显示 ERROR 和 CRITICAL 级别的\n",
    "logging.basicConfig(level=logging.ERROR, format=' %(asctime)s - %(levelname)s - %(message)s')"
   ],
   "metadata": {
    "collapsed": false
   }
  },
  {
   "cell_type": "markdown",
   "source": [
    "## 展示不同级别的日志"
   ],
   "metadata": {
    "collapsed": false
   }
  },
  {
   "cell_type": "code",
   "execution_count": 3,
   "outputs": [
    {
     "name": "stderr",
     "output_type": "stream",
     "text": [
      " 2023-05-31 04:08:36,116 - DEBUG - Some debugging details.\n"
     ]
    }
   ],
   "source": [
    "logging.debug('Some debugging details.')"
   ],
   "metadata": {
    "collapsed": false,
    "ExecuteTime": {
     "end_time": "2023-05-30T20:08:36.135903Z",
     "start_time": "2023-05-30T20:08:36.119028Z"
    }
   }
  },
  {
   "cell_type": "code",
   "execution_count": 4,
   "outputs": [
    {
     "name": "stderr",
     "output_type": "stream",
     "text": [
      " 2023-05-31 04:08:59,210 - INFO - The logging module is working.\n"
     ]
    }
   ],
   "source": [
    "logging.info('The logging module is working.')"
   ],
   "metadata": {
    "collapsed": false,
    "ExecuteTime": {
     "end_time": "2023-05-30T20:08:59.218534Z",
     "start_time": "2023-05-30T20:08:59.213450Z"
    }
   }
  },
  {
   "cell_type": "code",
   "execution_count": 5,
   "outputs": [
    {
     "name": "stderr",
     "output_type": "stream",
     "text": [
      " 2023-05-31 04:09:12,144 - WARNING - The logging module is working.\n"
     ]
    }
   ],
   "source": [
    "logging.warning('The logging module is working.')"
   ],
   "metadata": {
    "collapsed": false,
    "ExecuteTime": {
     "end_time": "2023-05-30T20:09:12.151788Z",
     "start_time": "2023-05-30T20:09:12.146994Z"
    }
   }
  },
  {
   "cell_type": "code",
   "execution_count": 6,
   "outputs": [
    {
     "name": "stderr",
     "output_type": "stream",
     "text": [
      " 2023-05-31 04:09:22,584 - CRITICAL - The logging module is working.\n"
     ]
    }
   ],
   "source": [
    "logging.critical('The logging module is working.')"
   ],
   "metadata": {
    "collapsed": false,
    "ExecuteTime": {
     "end_time": "2023-05-30T20:09:22.591970Z",
     "start_time": "2023-05-30T20:09:22.587275Z"
    }
   }
  },
  {
   "cell_type": "markdown",
   "source": [
    "# 禁止日志\n",
    "> 相较于 print() 最大的优势就在这里，一个禁止管理全部的调试输出，不需要像 print() 那样一个个删掉或者注释掉"
   ],
   "metadata": {
    "collapsed": false
   }
  },
  {
   "cell_type": "code",
   "execution_count": 12,
   "outputs": [],
   "source": [
    "import logging\n",
    "\n",
    "logging.basicConfig(level=logging.DEBUG, format=' %(asctime)s - %(levelname)s - %(message)s')\n",
    "\n",
    "logging.debug('Niemamade~')\n",
    "\n",
    "# 关闭所有的日志\n",
    "logging.disable(logging.CRITICAL)\n",
    "\n",
    "logging.error('Error, Error')\n",
    "logging.debug(\"Niemamade\")"
   ],
   "metadata": {
    "collapsed": false,
    "ExecuteTime": {
     "end_time": "2023-05-31T09:10:26.290156Z",
     "start_time": "2023-05-31T09:10:26.286823Z"
    }
   }
  },
  {
   "cell_type": "markdown",
   "source": [
    "# 日志保存到电脑"
   ],
   "metadata": {
    "collapsed": false
   }
  },
  {
   "cell_type": "code",
   "execution_count": 13,
   "outputs": [],
   "source": [
    "import logging\n",
    "\n",
    "# filename 保存文件路径\n",
    "logging.basicConfig(filename='/Users/momo/Desktop/Python_Auto/第二部分/Chapter10/data/logging.txt',\n",
    "                    level=logging.DEBUG, format=' %(asctime)s - %(levelname)s - %(message)s')\n",
    "\n",
    "for i in range(10):\n",
    "    logging.debug(\"Life is fucking Moive\\n\")"
   ],
   "metadata": {
    "collapsed": false,
    "ExecuteTime": {
     "end_time": "2023-05-31T09:13:00.695811Z",
     "start_time": "2023-05-31T09:13:00.691597Z"
    }
   }
  }
 ],
 "metadata": {
  "kernelspec": {
   "display_name": "Python 3",
   "language": "python",
   "name": "python3"
  },
  "language_info": {
   "codemirror_mode": {
    "name": "ipython",
    "version": 2
   },
   "file_extension": ".py",
   "mimetype": "text/x-python",
   "name": "python",
   "nbconvert_exporter": "python",
   "pygments_lexer": "ipython2",
   "version": "2.7.6"
  }
 },
 "nbformat": 4,
 "nbformat_minor": 0
}
