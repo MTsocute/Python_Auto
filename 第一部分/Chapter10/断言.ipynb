{
 "cells": [
  {
   "cell_type": "markdown",
   "source": [
    "# 断言(assert) 就是 测试模块中用于检测用的\n",
    "> 一个心智正常的检查，确保代码没有做什么明显错误的事情"
   ],
   "metadata": {
    "collapsed": false
   }
  },
  {
   "cell_type": "markdown",
   "source": [
    "## 1. 用法：assert condition, message【报错的时候返回】"
   ],
   "metadata": {
    "collapsed": false
   }
  },
  {
   "cell_type": "code",
   "execution_count": 6,
   "outputs": [
    {
     "name": "stdout",
     "output_type": "stream",
     "text": [
      "条件为真，继续执行\n"
     ]
    }
   ],
   "source": [
    "# 示例1\n",
    "x = 5\n",
    "assert x > 0, \"x 必须大于 0\"  # 条件为真，继续执行\n",
    "print(\"条件为真，继续执行\")"
   ],
   "metadata": {
    "collapsed": false,
    "ExecuteTime": {
     "end_time": "2023-05-30T11:47:51.258422Z",
     "start_time": "2023-05-30T11:47:51.249389Z"
    }
   }
  },
  {
   "cell_type": "code",
   "execution_count": 4,
   "outputs": [
    {
     "ename": "AssertionError",
     "evalue": "y 必须是偶数",
     "output_type": "error",
     "traceback": [
      "\u001B[0;31m---------------------------------------------------------------------------\u001B[0m",
      "\u001B[0;31mAssertionError\u001B[0m                            Traceback (most recent call last)",
      "Cell \u001B[0;32mIn[4], line 3\u001B[0m\n\u001B[1;32m      1\u001B[0m \u001B[38;5;66;03m# 示例2\u001B[39;00m\n\u001B[1;32m      2\u001B[0m y \u001B[38;5;241m=\u001B[39m \u001B[38;5;241m11\u001B[39m\n\u001B[0;32m----> 3\u001B[0m \u001B[38;5;28;01massert\u001B[39;00m y \u001B[38;5;241m%\u001B[39m \u001B[38;5;241m2\u001B[39m \u001B[38;5;241m==\u001B[39m \u001B[38;5;241m0\u001B[39m, \u001B[38;5;124m\"\u001B[39m\u001B[38;5;124my 必须是偶数\u001B[39m\u001B[38;5;124m\"\u001B[39m  \u001B[38;5;66;03m# 条件为假，引发 AssertionError 异常\u001B[39;00m\n\u001B[1;32m      4\u001B[0m \u001B[38;5;28mprint\u001B[39m(\u001B[38;5;124m\"\u001B[39m\u001B[38;5;124m不会执行到这里\u001B[39m\u001B[38;5;124m\"\u001B[39m)\n",
      "\u001B[0;31mAssertionError\u001B[0m: y 必须是偶数"
     ]
    }
   ],
   "source": [
    "# 示例2\n",
    "y = 11\n",
    "assert y % 2 == 0, \"y 必须是偶数\"  # 条件为假，引发 AssertionError 异常\n",
    "print(\"不会执行到这里\")"
   ],
   "metadata": {
    "collapsed": false,
    "ExecuteTime": {
     "end_time": "2023-05-30T11:47:46.214507Z",
     "start_time": "2023-05-30T11:47:46.207522Z"
    }
   }
  },
  {
   "cell_type": "code",
   "execution_count": 5,
   "outputs": [
    {
     "ename": "AssertionError",
     "evalue": "z 必须大于 0",
     "output_type": "error",
     "traceback": [
      "\u001B[0;31m---------------------------------------------------------------------------\u001B[0m",
      "\u001B[0;31mAssertionError\u001B[0m                            Traceback (most recent call last)",
      "Cell \u001B[0;32mIn[5], line 3\u001B[0m\n\u001B[1;32m      1\u001B[0m \u001B[38;5;66;03m# 示例3\u001B[39;00m\n\u001B[1;32m      2\u001B[0m z \u001B[38;5;241m=\u001B[39m \u001B[38;5;241m-\u001B[39m\u001B[38;5;241m3\u001B[39m\n\u001B[0;32m----> 3\u001B[0m \u001B[38;5;28;01massert\u001B[39;00m z \u001B[38;5;241m>\u001B[39m \u001B[38;5;241m0\u001B[39m, \u001B[38;5;124m\"\u001B[39m\u001B[38;5;124mz 必须大于 0\u001B[39m\u001B[38;5;124m\"\u001B[39m  \u001B[38;5;66;03m# 条件为假，引发 AssertionError 异常\u001B[39;00m\n\u001B[1;32m      4\u001B[0m \u001B[38;5;28mprint\u001B[39m(\u001B[38;5;124m\"\u001B[39m\u001B[38;5;124m不会执行到这里\u001B[39m\u001B[38;5;124m\"\u001B[39m)\n",
      "\u001B[0;31mAssertionError\u001B[0m: z 必须大于 0"
     ]
    }
   ],
   "source": [
    "# 示例3\n",
    "z = -3\n",
    "assert z > 0, \"z 必须大于 0\"  # 条件为假，引发 AssertionError 异常\n",
    "print(\"不会执行到这里\")"
   ],
   "metadata": {
    "collapsed": false,
    "ExecuteTime": {
     "end_time": "2023-05-30T11:47:47.848404Z",
     "start_time": "2023-05-30T11:47:47.837925Z"
    }
   }
  },
  {
   "cell_type": "code",
   "execution_count": 8,
   "outputs": [
    {
     "name": "stdout",
     "output_type": "stream",
     "text": [
      "条件为真，继续执行\n"
     ]
    }
   ],
   "source": [
    "podBayDoorStatus = 'open'\n",
    "\n",
    "assert podBayDoorStatus == 'open', 'podBayDoorStatus 必须是 open'\n",
    "print(\"条件为真，继续执行\")"
   ],
   "metadata": {
    "collapsed": false,
    "ExecuteTime": {
     "end_time": "2023-05-30T11:50:36.286953Z",
     "start_time": "2023-05-30T11:50:36.274694Z"
    }
   }
  },
  {
   "cell_type": "markdown",
   "source": [
    "## 2. 在交通灯模拟中使用断言\n",
    "> 以 'ns' 和 'ew' 为键，分别表示南北向和东西向的信号灯。这些键的值可以是 'green'、'yellow' 或 'red' 之一"
   ],
   "metadata": {
    "collapsed": false
   }
  },
  {
   "cell_type": "code",
   "execution_count": 11,
   "outputs": [
    {
     "ename": "AssertionError",
     "evalue": "Neither light is red! {'ns': 'yellow', 'ew': 'green'}",
     "output_type": "error",
     "traceback": [
      "\u001B[0;31m---------------------------------------------------------------------------\u001B[0m",
      "\u001B[0;31mAssertionError\u001B[0m                            Traceback (most recent call last)",
      "Cell \u001B[0;32mIn[11], line 23\u001B[0m\n\u001B[1;32m     18\u001B[0m             stoplight[key] \u001B[38;5;241m=\u001B[39m \u001B[38;5;124m'\u001B[39m\u001B[38;5;124mgreen\u001B[39m\u001B[38;5;124m'\u001B[39m\n\u001B[1;32m     20\u001B[0m     \u001B[38;5;28;01massert\u001B[39;00m \u001B[38;5;124m'\u001B[39m\u001B[38;5;124mred\u001B[39m\u001B[38;5;124m'\u001B[39m \u001B[38;5;129;01min\u001B[39;00m stoplight\u001B[38;5;241m.\u001B[39mvalues(), \u001B[38;5;124m'\u001B[39m\u001B[38;5;124mNeither light is red! \u001B[39m\u001B[38;5;124m'\u001B[39m \u001B[38;5;241m+\u001B[39m \u001B[38;5;28mstr\u001B[39m(stoplight)\n\u001B[0;32m---> 23\u001B[0m \u001B[43mswitchLights\u001B[49m\u001B[43m(\u001B[49m\u001B[43mmarket_2nd\u001B[49m\u001B[43m)\u001B[49m\n",
      "Cell \u001B[0;32mIn[11], line 20\u001B[0m, in \u001B[0;36mswitchLights\u001B[0;34m(stoplight)\u001B[0m\n\u001B[1;32m     17\u001B[0m     \u001B[38;5;28;01melif\u001B[39;00m stoplight[key] \u001B[38;5;241m==\u001B[39m \u001B[38;5;124m'\u001B[39m\u001B[38;5;124mred\u001B[39m\u001B[38;5;124m'\u001B[39m:\n\u001B[1;32m     18\u001B[0m         stoplight[key] \u001B[38;5;241m=\u001B[39m \u001B[38;5;124m'\u001B[39m\u001B[38;5;124mgreen\u001B[39m\u001B[38;5;124m'\u001B[39m\n\u001B[0;32m---> 20\u001B[0m \u001B[38;5;28;01massert\u001B[39;00m \u001B[38;5;124m'\u001B[39m\u001B[38;5;124mred\u001B[39m\u001B[38;5;124m'\u001B[39m \u001B[38;5;129;01min\u001B[39;00m stoplight\u001B[38;5;241m.\u001B[39mvalues(), \u001B[38;5;124m'\u001B[39m\u001B[38;5;124mNeither light is red! \u001B[39m\u001B[38;5;124m'\u001B[39m \u001B[38;5;241m+\u001B[39m \u001B[38;5;28mstr\u001B[39m(stoplight)\n",
      "\u001B[0;31mAssertionError\u001B[0m: Neither light is red! {'ns': 'yellow', 'ew': 'green'}"
     ]
    }
   ],
   "source": [
    "\n",
    "# 这两个变量将针对 Market 街和第 2 街路口，以及 Mission 街和第 16 街路口\n",
    "market_2nd = {'ns': 'green', 'ew': 'red'}\n",
    "mission_16th = {'ns': 'red', 'ew': 'green'}\n",
    "\n",
    "def switchLights(stoplight):\n",
    "    \"\"\"\n",
    "        转变红路灯下一次变换的颜色\n",
    "        #TOOD:代码潜在问题，就是无法确保红灯数量，如果都是路灯就会撞车了\n",
    "    \"\"\"\n",
    "    for key in stoplight.keys():\n",
    "        if stoplight[key] == 'green':\n",
    "            stoplight[key] = 'yellow'\n",
    "\n",
    "        elif stoplight[key] == 'yellow':\n",
    "            stoplight[key] = 'red'\n",
    "\n",
    "        elif stoplight[key] == 'red':\n",
    "            stoplight[key] = 'green'\n",
    "\n",
    "    # SOLVE:\n",
    "    assert 'red' in stoplight.values(), 'Neither light is red! ' + str(stoplight)\n",
    "\n",
    "\n",
    "switchLights(market_2nd)"
   ],
   "metadata": {
    "collapsed": false,
    "ExecuteTime": {
     "end_time": "2023-05-30T12:10:47.400074Z",
     "start_time": "2023-05-30T12:10:47.382001Z"
    }
   }
  }
 ],
 "metadata": {
  "kernelspec": {
   "display_name": "Python 3",
   "language": "python",
   "name": "python3"
  },
  "language_info": {
   "codemirror_mode": {
    "name": "ipython",
    "version": 2
   },
   "file_extension": ".py",
   "mimetype": "text/x-python",
   "name": "python",
   "nbconvert_exporter": "python",
   "pygments_lexer": "ipython2",
   "version": "2.7.6"
  }
 },
 "nbformat": 4,
 "nbformat_minor": 0
}
