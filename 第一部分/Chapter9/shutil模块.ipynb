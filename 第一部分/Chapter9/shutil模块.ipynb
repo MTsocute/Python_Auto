{
 "cells": [
  {
   "cell_type": "markdown",
   "source": [
    "# shutil 模块"
   ],
   "metadata": {
    "collapsed": false
   }
  },
  {
   "cell_type": "markdown",
   "source": [
    "## 1. shutil.copy() 复制文件"
   ],
   "metadata": {
    "collapsed": false
   }
  },
  {
   "cell_type": "code",
   "execution_count": null,
   "outputs": [],
   "source": [
    "import os, shutil\n",
    "\n",
    "# 在这个程序中，校准当前的路径为指定路径下\n",
    "os.chdir(\"/Users/momo/Desktop/Python_Auto/第二部分/Chapter9/\")"
   ],
   "metadata": {
    "collapsed": false
   }
  },
  {
   "cell_type": "markdown",
   "source": [
    "### 指定名称和不指定名称的复制\n",
    "> 函数返回一个字符串就是复制后的地址"
   ],
   "metadata": {
    "collapsed": false
   }
  },
  {
   "cell_type": "markdown",
   "source": [
    "> 不指定名称"
   ],
   "metadata": {
    "collapsed": false
   }
  },
  {
   "cell_type": "code",
   "execution_count": 4,
   "outputs": [
    {
     "data": {
      "text/plain": "'/Users/momo/Desktop/Python_Auto/第二部分/Chapter9/data/ts_demo/ts_1'"
     },
     "execution_count": 4,
     "metadata": {},
     "output_type": "execute_result"
    }
   ],
   "source": [
    "import os, shutil\n",
    "os.chdir(\"/Users/momo/Desktop/Python_Auto/第二部分/Chapter9/\")\n",
    "\n",
    "# 不指定名称就是复制过去名字一样的\n",
    "shutil.copy('/Users/momo/Desktop/Python_Auto/第二部分/Chapter9/data/ts_1',\n",
    "            '/Users/momo/Desktop/Python_Auto/第二部分/Chapter9/data/ts_demo/')"
   ],
   "metadata": {
    "collapsed": false,
    "ExecuteTime": {
     "end_time": "2023-05-27T08:45:32.460015Z",
     "start_time": "2023-05-27T08:45:32.444790Z"
    }
   }
  },
  {
   "cell_type": "markdown",
   "source": [
    "> 指定名称"
   ],
   "metadata": {
    "collapsed": false
   }
  },
  {
   "cell_type": "code",
   "execution_count": 5,
   "outputs": [
    {
     "data": {
      "text/plain": "'/Users/momo/Desktop/Python_Auto/第二部分/Chapter9/data/ts_demo/ts_2'"
     },
     "execution_count": 5,
     "metadata": {},
     "output_type": "execute_result"
    }
   ],
   "source": [
    "shutil.copy('/Users/momo/Desktop/Python_Auto/第二部分/Chapter9/data/ts_1',\n",
    "            '/Users/momo/Desktop/Python_Auto/第二部分/Chapter9/data/ts_demo/ts_2')"
   ],
   "metadata": {
    "collapsed": false,
    "ExecuteTime": {
     "end_time": "2023-05-27T08:45:58.801728Z",
     "start_time": "2023-05-27T08:45:58.793126Z"
    }
   }
  },
  {
   "cell_type": "markdown",
   "source": [
    "## 2. shutil.copytree() 复制文件夹\n",
    "> 复制成功后返回一个复制文件所在位置的全部字符串\n",
    "> 注意要自己要给文件夹命名"
   ],
   "metadata": {
    "collapsed": false
   }
  },
  {
   "cell_type": "code",
   "execution_count": 8,
   "outputs": [
    {
     "data": {
      "text/plain": "'/Users/momo/Desktop/Python_Auto/第二部分/Chapter9/data/ts_demo2'"
     },
     "execution_count": 8,
     "metadata": {},
     "output_type": "execute_result"
    }
   ],
   "source": [
    "import os, shutil\n",
    "os.chdir(\"/Users/momo/Desktop/Python_Auto/第二部分/Chapter9/\")\n",
    "\n",
    "# 复制文件夹和其全部内容到指定文件夹下面\n",
    "shutil.copytree('/Users/momo/Desktop/Python_Auto/第二部分/Chapter9/ts_demo2',\n",
    "                '/Users/momo/Desktop/Python_Auto/第二部分/Chapter9/data/ts_demo2'   # 注意这里最后一个要自己命名\n",
    "                )"
   ],
   "metadata": {
    "collapsed": false,
    "ExecuteTime": {
     "end_time": "2023-05-27T09:16:29.053960Z",
     "start_time": "2023-05-27T09:16:29.047099Z"
    }
   }
  },
  {
   "cell_type": "markdown",
   "source": [
    "## 3.shutil.move() 文件移动"
   ],
   "metadata": {
    "collapsed": false
   }
  },
  {
   "cell_type": "markdown",
   "source": [
    "### 文件移动造成的内容覆盖"
   ],
   "metadata": {
    "collapsed": false
   }
  },
  {
   "cell_type": "code",
   "execution_count": 9,
   "outputs": [
    {
     "data": {
      "text/plain": "'/Users/momo/Desktop/Python_Auto/第二部分/Chapter9/data/ts_demo/move'"
     },
     "execution_count": 9,
     "metadata": {},
     "output_type": "execute_result"
    }
   ],
   "source": [
    "import shutil\n",
    "\n",
    "shutil.move('/Users/momo/Desktop/Python_Auto/第二部分/Chapter9/move',\n",
    "            '/Users/momo/Desktop/Python_Auto/第二部分/Chapter9/data/ts_demo')"
   ],
   "metadata": {
    "collapsed": false,
    "ExecuteTime": {
     "end_time": "2023-05-27T09:20:27.013056Z",
     "start_time": "2023-05-27T09:20:27.006105Z"
    }
   }
  },
  {
   "cell_type": "markdown",
   "source": [
    "> **move** 是一个文件\n",
    "> 如果 /Users/momo/Desktop/Python_Auto/第二部分/Chapter9/data/ts_demo 的 ts_demo 文件夹下本来也有一个 move 文件\n",
    "> ts_demo 下的 move 的内容会被覆盖"
   ],
   "metadata": {
    "collapsed": false
   }
  },
  {
   "cell_type": "markdown",
   "source": [
    "### 文件移动造成的改名"
   ],
   "metadata": {
    "collapsed": false
   }
  },
  {
   "cell_type": "code",
   "execution_count": 1,
   "outputs": [
    {
     "data": {
      "text/plain": "'/Users/momo/Desktop/Python_Auto/第二部分/Chapter9/data/ts_demo2/life.txt'"
     },
     "execution_count": 1,
     "metadata": {},
     "output_type": "execute_result"
    }
   ],
   "source": [
    "import shutil\n",
    "\n",
    "shutil.move('/Users/momo/Desktop/Python_Auto/第二部分/Chapter9/ts.txt',\n",
    "            '/Users/momo/Desktop/Python_Auto/第二部分/Chapter9/data/ts_demo2/life.txt')"
   ],
   "metadata": {
    "collapsed": false,
    "ExecuteTime": {
     "end_time": "2023-05-28T08:22:28.403857Z",
     "start_time": "2023-05-28T08:22:28.384275Z"
    }
   }
  },
  {
   "cell_type": "markdown",
   "source": [
    "> 文件原名为 ts.txt\n",
    "> 但是移动到某个文件夹下路径名，最后结尾指定了名字和原来不同\n",
    "> 那么移动之后就会造成改名"
   ],
   "metadata": {
    "collapsed": false
   }
  },
  {
   "cell_type": "markdown",
   "source": [
    "### 移动文件到不存在的文件夹(前面目录存在)"
   ],
   "metadata": {
    "collapsed": false
   }
  },
  {
   "cell_type": "code",
   "execution_count": 5,
   "outputs": [
    {
     "data": {
      "text/plain": "'/Users/momo/Desktop/Python_Auto/第二部分/Chapter9/data/ts_demo3'"
     },
     "execution_count": 5,
     "metadata": {},
     "output_type": "execute_result"
    }
   ],
   "source": [
    "import shutil\n",
    "\n",
    "shutil.move('/Users/momo/Desktop/Python_Auto/第二部分/Chapter9/demo.txt',\n",
    "            '/Users/momo/Desktop/Python_Auto/第二部分/Chapter9/data/ts_demo3'   # 不存在的文件夹\n",
    "            )"
   ],
   "metadata": {
    "collapsed": false,
    "ExecuteTime": {
     "end_time": "2023-05-28T08:33:49.128734Z",
     "start_time": "2023-05-28T08:33:49.122240Z"
    }
   }
  },
  {
   "cell_type": "markdown",
   "source": [
    "> 我们把一个存在的文件，移动到一个不存在的文件夹中\n",
    "> 由于只有基本名称不存在，所以就把这个文件夹名当作为文件名了\n",
    "> 就会把 demo.txt 移动到那个目录下，然后创建一个 ts_demo3 且没有后缀的文件"
   ],
   "metadata": {
    "collapsed": false
   }
  },
  {
   "cell_type": "markdown",
   "source": [
    "### 移动文件到不存在的文件夹(前面目录不存在)"
   ],
   "metadata": {
    "collapsed": false
   }
  },
  {
   "cell_type": "code",
   "execution_count": 8,
   "outputs": [
    {
     "ename": "FileNotFoundError",
     "evalue": "[Errno 2] No such file or directory: '/Users/momo/Desktop/Python_Auto/第二部分/Chapter9/data/ts_1'",
     "output_type": "error",
     "traceback": [
      "\u001B[0;31m---------------------------------------------------------------------------\u001B[0m",
      "\u001B[0;31mFileNotFoundError\u001B[0m                         Traceback (most recent call last)",
      "File \u001B[0;32m/opt/homebrew/Cellar/python@3.11/3.11.3/Frameworks/Python.framework/Versions/3.11/lib/python3.11/shutil.py:825\u001B[0m, in \u001B[0;36mmove\u001B[0;34m(src, dst, copy_function)\u001B[0m\n\u001B[1;32m    824\u001B[0m \u001B[38;5;28;01mtry\u001B[39;00m:\n\u001B[0;32m--> 825\u001B[0m     os\u001B[38;5;241m.\u001B[39mrename(src, real_dst)\n\u001B[1;32m    826\u001B[0m \u001B[38;5;28;01mexcept\u001B[39;00m \u001B[38;5;167;01mOSError\u001B[39;00m:\n",
      "\u001B[0;31mFileNotFoundError\u001B[0m: [Errno 2] No such file or directory: '/Users/momo/Desktop/Python_Auto/第二部分/Chapter9/data/ts_1' -> '我乱写的_不存在的/lalala/heiheiehie'",
      "\nDuring handling of the above exception, another exception occurred:\n",
      "\u001B[0;31mFileNotFoundError\u001B[0m                         Traceback (most recent call last)",
      "Cell \u001B[0;32mIn[8], line 3\u001B[0m\n\u001B[1;32m      1\u001B[0m \u001B[38;5;28;01mimport\u001B[39;00m \u001B[38;5;21;01mshutil\u001B[39;00m\n\u001B[0;32m----> 3\u001B[0m \u001B[43mshutil\u001B[49m\u001B[38;5;241;43m.\u001B[39;49m\u001B[43mmove\u001B[49m\u001B[43m(\u001B[49m\u001B[38;5;124;43m'\u001B[39;49m\u001B[38;5;124;43m/Users/momo/Desktop/Python_Auto/第二部分/Chapter9/data/ts_1\u001B[39;49m\u001B[38;5;124;43m'\u001B[39;49m\u001B[43m,\u001B[49m\n\u001B[1;32m      4\u001B[0m \u001B[43m            \u001B[49m\u001B[38;5;124;43m'\u001B[39;49m\u001B[38;5;124;43m我乱写的_不存在的/lalala/heiheiehie\u001B[39;49m\u001B[38;5;124;43m'\u001B[39;49m\u001B[43m   \u001B[49m\u001B[38;5;66;43;03m# 不存在的文件夹\u001B[39;49;00m\n\u001B[1;32m      5\u001B[0m \u001B[43m            \u001B[49m\u001B[43m)\u001B[49m\n",
      "File \u001B[0;32m/opt/homebrew/Cellar/python@3.11/3.11.3/Frameworks/Python.framework/Versions/3.11/lib/python3.11/shutil.py:845\u001B[0m, in \u001B[0;36mmove\u001B[0;34m(src, dst, copy_function)\u001B[0m\n\u001B[1;32m    843\u001B[0m         rmtree(src)\n\u001B[1;32m    844\u001B[0m     \u001B[38;5;28;01melse\u001B[39;00m:\n\u001B[0;32m--> 845\u001B[0m         \u001B[43mcopy_function\u001B[49m\u001B[43m(\u001B[49m\u001B[43msrc\u001B[49m\u001B[43m,\u001B[49m\u001B[43m \u001B[49m\u001B[43mreal_dst\u001B[49m\u001B[43m)\u001B[49m\n\u001B[1;32m    846\u001B[0m         os\u001B[38;5;241m.\u001B[39munlink(src)\n\u001B[1;32m    847\u001B[0m \u001B[38;5;28;01mreturn\u001B[39;00m real_dst\n",
      "File \u001B[0;32m/opt/homebrew/Cellar/python@3.11/3.11.3/Frameworks/Python.framework/Versions/3.11/lib/python3.11/shutil.py:436\u001B[0m, in \u001B[0;36mcopy2\u001B[0;34m(src, dst, follow_symlinks)\u001B[0m\n\u001B[1;32m    434\u001B[0m \u001B[38;5;28;01mif\u001B[39;00m os\u001B[38;5;241m.\u001B[39mpath\u001B[38;5;241m.\u001B[39misdir(dst):\n\u001B[1;32m    435\u001B[0m     dst \u001B[38;5;241m=\u001B[39m os\u001B[38;5;241m.\u001B[39mpath\u001B[38;5;241m.\u001B[39mjoin(dst, os\u001B[38;5;241m.\u001B[39mpath\u001B[38;5;241m.\u001B[39mbasename(src))\n\u001B[0;32m--> 436\u001B[0m \u001B[43mcopyfile\u001B[49m\u001B[43m(\u001B[49m\u001B[43msrc\u001B[49m\u001B[43m,\u001B[49m\u001B[43m \u001B[49m\u001B[43mdst\u001B[49m\u001B[43m,\u001B[49m\u001B[43m \u001B[49m\u001B[43mfollow_symlinks\u001B[49m\u001B[38;5;241;43m=\u001B[39;49m\u001B[43mfollow_symlinks\u001B[49m\u001B[43m)\u001B[49m\n\u001B[1;32m    437\u001B[0m copystat(src, dst, follow_symlinks\u001B[38;5;241m=\u001B[39mfollow_symlinks)\n\u001B[1;32m    438\u001B[0m \u001B[38;5;28;01mreturn\u001B[39;00m dst\n",
      "File \u001B[0;32m/opt/homebrew/Cellar/python@3.11/3.11.3/Frameworks/Python.framework/Versions/3.11/lib/python3.11/shutil.py:256\u001B[0m, in \u001B[0;36mcopyfile\u001B[0;34m(src, dst, follow_symlinks)\u001B[0m\n\u001B[1;32m    254\u001B[0m     os\u001B[38;5;241m.\u001B[39msymlink(os\u001B[38;5;241m.\u001B[39mreadlink(src), dst)\n\u001B[1;32m    255\u001B[0m \u001B[38;5;28;01melse\u001B[39;00m:\n\u001B[0;32m--> 256\u001B[0m     \u001B[38;5;28;01mwith\u001B[39;00m \u001B[38;5;28mopen\u001B[39m(src, \u001B[38;5;124m'\u001B[39m\u001B[38;5;124mrb\u001B[39m\u001B[38;5;124m'\u001B[39m) \u001B[38;5;28;01mas\u001B[39;00m fsrc:\n\u001B[1;32m    257\u001B[0m         \u001B[38;5;28;01mtry\u001B[39;00m:\n\u001B[1;32m    258\u001B[0m             \u001B[38;5;28;01mwith\u001B[39;00m \u001B[38;5;28mopen\u001B[39m(dst, \u001B[38;5;124m'\u001B[39m\u001B[38;5;124mwb\u001B[39m\u001B[38;5;124m'\u001B[39m) \u001B[38;5;28;01mas\u001B[39;00m fdst:\n\u001B[1;32m    259\u001B[0m                 \u001B[38;5;66;03m# macOS\u001B[39;00m\n",
      "\u001B[0;31mFileNotFoundError\u001B[0m: [Errno 2] No such file or directory: '/Users/momo/Desktop/Python_Auto/第二部分/Chapter9/data/ts_1'"
     ]
    }
   ],
   "source": [
    "import shutil\n",
    "\n",
    "shutil.move('/Users/momo/Desktop/Python_Auto/第二部分/Chapter9/data/ts_1',\n",
    "            '我乱写的_不存在的/lalala/heiheiehie'   # 不存在的文件夹\n",
    "            )"
   ],
   "metadata": {
    "collapsed": false,
    "ExecuteTime": {
     "end_time": "2023-05-28T08:50:24.454833Z",
     "start_time": "2023-05-28T08:50:24.424158Z"
    }
   }
  },
  {
   "cell_type": "markdown",
   "source": [
    "## 4.文件和文件夹的删除"
   ],
   "metadata": {
    "collapsed": false
   }
  },
  {
   "cell_type": "code",
   "execution_count": 10,
   "outputs": [
    {
     "data": {
      "image/png": "[encoded data removed]",
      "text/plain": "<IPython.core.display.Image object>"
     },
     "execution_count": 10,
     "metadata": {},
     "output_type": "execute_result"
    }
   ],
   "source": [
    "from IPython.display import Image\n",
    "Image(filename='/Users/momo/Desktop/Python_Auto/第二部分/Chapter9/image/img.png')"
   ],
   "metadata": {
    "collapsed": false,
    "ExecuteTime": {
     "end_time": "2023-05-28T08:56:25.168704Z",
     "start_time": "2023-05-28T08:56:25.138828Z"
    }
   }
  },
  {
   "cell_type": "markdown",
   "source": [
    "### 1. os.unlink()"
   ],
   "metadata": {
    "collapsed": false
   }
  },
  {
   "cell_type": "code",
   "execution_count": 20,
   "outputs": [],
   "source": [
    "import os\n",
    "\n",
    "filePath = '/Users/momo/Desktop/Python_Auto/第二部分/Chapter9/data/ts_demo4/empty'\n",
    "\n",
    "for file in os.listdir(filePath):\n",
    "    # print(file)\n",
    "    # 删除指定位置下的文件\n",
    "    os.unlink(filePath + str(os.path.sep) + str(file))\n",
    "    print('Done')"
   ],
   "metadata": {
    "collapsed": false,
    "ExecuteTime": {
     "end_time": "2023-05-28T09:07:16.889724Z",
     "start_time": "2023-05-28T09:07:16.868297Z"
    }
   }
  },
  {
   "cell_type": "markdown",
   "source": [
    "### 2. os.rmdir()"
   ],
   "metadata": {
    "collapsed": false
   }
  },
  {
   "cell_type": "code",
   "execution_count": 24,
   "outputs": [
    {
     "name": "stdout",
     "output_type": "stream",
     "text": [
      "['full', 'empty']\n"
     ]
    }
   ],
   "source": [
    "import os\n",
    "filePath = '/Users/momo/Desktop/Python_Auto/第二部分/Chapter9/data/ts_demo4/'\n",
    "ls = os.listdir(filePath)\n",
    "print(ls)"
   ],
   "metadata": {
    "collapsed": false,
    "ExecuteTime": {
     "end_time": "2023-05-28T09:15:26.494077Z",
     "start_time": "2023-05-28T09:15:26.459076Z"
    }
   }
  },
  {
   "cell_type": "markdown",
   "source": [
    "> 如其名，两个文件夹一个有内容，一个没有"
   ],
   "metadata": {
    "collapsed": false
   }
  },
  {
   "cell_type": "markdown",
   "source": [
    "#### 2.1 如果文件夹为空，就可以删除"
   ],
   "metadata": {
    "collapsed": false
   }
  },
  {
   "cell_type": "code",
   "execution_count": 26,
   "outputs": [
    {
     "name": "stdout",
     "output_type": "stream",
     "text": [
      "Done\n"
     ]
    }
   ],
   "source": [
    "os.rmdir(filePath + ls[1])\n",
    "print('Done')"
   ],
   "metadata": {
    "collapsed": false,
    "ExecuteTime": {
     "end_time": "2023-05-28T09:16:12.397287Z",
     "start_time": "2023-05-28T09:16:12.385713Z"
    }
   }
  },
  {
   "cell_type": "markdown",
   "source": [
    "#### 2.2 如果文件夹有内容，就无法删除"
   ],
   "metadata": {
    "collapsed": false
   }
  },
  {
   "cell_type": "code",
   "execution_count": 27,
   "outputs": [
    {
     "ename": "OSError",
     "evalue": "[Errno 66] Directory not empty: '/Users/momo/Desktop/Python_Auto/第二部分/Chapter9/data/ts_demo4/full'",
     "output_type": "error",
     "traceback": [
      "\u001B[0;31m---------------------------------------------------------------------------\u001B[0m",
      "\u001B[0;31mOSError\u001B[0m                                   Traceback (most recent call last)",
      "Cell \u001B[0;32mIn[27], line 1\u001B[0m\n\u001B[0;32m----> 1\u001B[0m \u001B[43mos\u001B[49m\u001B[38;5;241;43m.\u001B[39;49m\u001B[43mrmdir\u001B[49m\u001B[43m(\u001B[49m\u001B[43mfilePath\u001B[49m\u001B[43m \u001B[49m\u001B[38;5;241;43m+\u001B[39;49m\u001B[43m \u001B[49m\u001B[43mls\u001B[49m\u001B[43m[\u001B[49m\u001B[38;5;241;43m0\u001B[39;49m\u001B[43m]\u001B[49m\u001B[43m)\u001B[49m\n\u001B[1;32m      2\u001B[0m \u001B[38;5;28mprint\u001B[39m(\u001B[38;5;124m'\u001B[39m\u001B[38;5;124mDone\u001B[39m\u001B[38;5;124m'\u001B[39m)\n",
      "\u001B[0;31mOSError\u001B[0m: [Errno 66] Directory not empty: '/Users/momo/Desktop/Python_Auto/第二部分/Chapter9/data/ts_demo4/full'"
     ]
    }
   ],
   "source": [
    "os.rmdir(filePath + ls[0])\n",
    "print('Done')"
   ],
   "metadata": {
    "collapsed": false,
    "ExecuteTime": {
     "end_time": "2023-05-28T09:16:19.448158Z",
     "start_time": "2023-05-28T09:16:19.417481Z"
    }
   }
  },
  {
   "cell_type": "markdown",
   "source": [
    "### 3.shutil.rmtree()\n",
    "> 解决 2.2 问题，删除文件夹连带里面的内容"
   ],
   "metadata": {
    "collapsed": false
   }
  },
  {
   "cell_type": "code",
   "execution_count": 28,
   "outputs": [
    {
     "name": "stdout",
     "output_type": "stream",
     "text": [
      "Done\n"
     ]
    }
   ],
   "source": [
    "import shutil\n",
    "\n",
    "shutil.rmtree('/Users/momo/Desktop/Python_Auto/第二部分/Chapter9/data/ts_demo4/full')\n",
    "print(\"Done\")"
   ],
   "metadata": {
    "collapsed": false,
    "ExecuteTime": {
     "end_time": "2023-05-28T09:21:49.892160Z",
     "start_time": "2023-05-28T09:21:49.818424Z"
    }
   }
  },
  {
   "cell_type": "markdown",
   "source": [
    "## 5. send2trash module 安全的删除\n",
    "> 删除的内容发送到回收站，而不是不可恢复的删除"
   ],
   "metadata": {
    "collapsed": false
   }
  },
  {
   "cell_type": "code",
   "execution_count": 35,
   "outputs": [
    {
     "name": "stdout",
     "output_type": "stream",
     "text": [
      "192\n"
     ]
    }
   ],
   "source": [
    "import send2trash\n",
    "\n",
    "# creates the file\n",
    "with open('/Users/momo/Desktop/Python_Auto/第二部分/Chapter9/data/bacon.txt', 'a') as baconFile:\n",
    "    baconFile.write('Bacon is not a vegetable.\\n')"
   ],
   "metadata": {
    "collapsed": false,
    "ExecuteTime": {
     "end_time": "2023-05-28T09:25:35.444027Z",
     "start_time": "2023-05-28T09:25:35.425052Z"
    }
   }
  },
  {
   "cell_type": "code",
   "execution_count": 36,
   "outputs": [
    {
     "name": "stdout",
     "output_type": "stream",
     "text": [
      "Done\n"
     ]
    }
   ],
   "source": [
    "send2trash.send2trash('/Users/momo/Desktop/Python_Auto/第二部分/Chapter9/data/bacon.txt')\n",
    "print(\"Done\")"
   ],
   "metadata": {
    "collapsed": false,
    "ExecuteTime": {
     "end_time": "2023-05-28T09:26:19.591431Z",
     "start_time": "2023-05-28T09:26:19.492236Z"
    }
   }
  }
 ],
 "metadata": {
  "kernelspec": {
   "display_name": "Python 3",
   "language": "python",
   "name": "python3"
  },
  "language_info": {
   "codemirror_mode": {
    "name": "ipython",
    "version": 2
   },
   "file_extension": ".py",
   "mimetype": "text/x-python",
   "name": "python",
   "nbconvert_exporter": "python",
   "pygments_lexer": "ipython2",
   "version": "2.7.6"
  }
 },
 "nbformat": 4,
 "nbformat_minor": 0
}
