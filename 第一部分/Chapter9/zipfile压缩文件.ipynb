{
 "cells": [
  {
   "cell_type": "markdown",
   "source": [
    "# 创建一个 zip 对象"
   ],
   "metadata": {
    "collapsed": false
   }
  },
  {
   "cell_type": "code",
   "execution_count": 10,
   "outputs": [],
   "source": [
    "import zipfile, os\n",
    "\n",
    "# move\n",
    "os.chdir('/Users/momo/Desktop/Python_Auto/第二部分/Chapter9')\n",
    "\n",
    "# 创建一个zip对象\n",
    "exampleZip = zipfile.ZipFile('/Users/momo/Desktop/Python_Auto/第二部分/Chapter9/data/cats.zip')"
   ],
   "metadata": {
    "collapsed": false,
    "ExecuteTime": {
     "end_time": "2023-05-29T12:41:31.295649Z",
     "start_time": "2023-05-29T12:41:31.288362Z"
    }
   }
  },
  {
   "cell_type": "markdown",
   "source": [
    "## 1. 查看压缩文件里面有什么"
   ],
   "metadata": {
    "collapsed": false
   }
  },
  {
   "cell_type": "code",
   "execution_count": 11,
   "outputs": [
    {
     "data": {
      "text/plain": "['cats/', 'cats/catnames.txt', 'cats/zophie.jpg']"
     },
     "execution_count": 11,
     "metadata": {},
     "output_type": "execute_result"
    }
   ],
   "source": [
    "# 查看压缩文件里面有什么\n",
    "exampleZip.namelist()"
   ],
   "metadata": {
    "collapsed": false,
    "ExecuteTime": {
     "end_time": "2023-05-29T12:41:38.609848Z",
     "start_time": "2023-05-29T12:41:38.603645Z"
    }
   }
  },
  {
   "cell_type": "markdown",
   "source": [
    "## 2.返回 zip 对象里面的一个 file 对象"
   ],
   "metadata": {
    "collapsed": false
   }
  },
  {
   "cell_type": "code",
   "execution_count": 15,
   "outputs": [],
   "source": [
    "import zipfile, os\n",
    "\n",
    "# move\n",
    "os.chdir('/Users/momo/Desktop/Python_Auto/第二部分/Chapter9')\n",
    "\n",
    "# 创建一个zip对象\n",
    "exampleZip = zipfile.ZipFile('/Users/momo/Desktop/Python_Auto/第二部分/Chapter9/data/cats.zip')\n",
    "\n",
    "# 返回一个 zip 下的 file 对象\n",
    "spamInfo = exampleZip.getinfo('cats/catnames.txt')"
   ],
   "metadata": {
    "collapsed": false,
    "ExecuteTime": {
     "end_time": "2023-05-29T12:55:27.593035Z",
     "start_time": "2023-05-29T12:55:27.585720Z"
    }
   }
  },
  {
   "cell_type": "markdown",
   "source": [
    "### 2.1 使用 file 对象 file_size 方法\n",
    "> 表示原文件大小"
   ],
   "metadata": {
    "collapsed": false
   }
  },
  {
   "cell_type": "code",
   "execution_count": 16,
   "outputs": [
    {
     "data": {
      "text/plain": "21"
     },
     "execution_count": 16,
     "metadata": {},
     "output_type": "execute_result"
    }
   ],
   "source": [
    "spamInfo.file_size"
   ],
   "metadata": {
    "collapsed": false,
    "ExecuteTime": {
     "end_time": "2023-05-29T12:56:31.647005Z",
     "start_time": "2023-05-29T12:56:31.639516Z"
    }
   }
  },
  {
   "cell_type": "markdown",
   "source": [
    "### 2.2 使用 file 对象 compress_size\n",
    "> 表示压缩后的大小"
   ],
   "metadata": {
    "collapsed": false
   }
  },
  {
   "cell_type": "code",
   "execution_count": 17,
   "outputs": [
    {
     "data": {
      "text/plain": "21"
     },
     "execution_count": 17,
     "metadata": {},
     "output_type": "execute_result"
    }
   ],
   "source": [
    "spamInfo.compress_size"
   ],
   "metadata": {
    "collapsed": false,
    "ExecuteTime": {
     "end_time": "2023-05-29T12:57:41.445234Z",
     "start_time": "2023-05-29T12:57:41.438225Z"
    }
   }
  },
  {
   "cell_type": "code",
   "execution_count": 21,
   "outputs": [],
   "source": [
    "exampleZip.close()"
   ],
   "metadata": {
    "collapsed": false,
    "ExecuteTime": {
     "end_time": "2023-05-29T13:05:47.749388Z",
     "start_time": "2023-05-29T13:05:47.738359Z"
    }
   }
  },
  {
   "cell_type": "markdown",
   "source": [
    "## 3. 计算压缩效率"
   ],
   "metadata": {
    "collapsed": false
   }
  },
  {
   "cell_type": "code",
   "execution_count": 20,
   "outputs": [
    {
     "name": "stdout",
     "output_type": "stream",
     "text": [
      "Compressed file is 1.0 smaller!\n"
     ]
    }
   ],
   "source": [
    "import zipfile, os\n",
    "\n",
    "os.chdir('/Users/momo/Desktop/Python_Auto/第二部分/Chapter9')\n",
    "\n",
    "zip = zipfile.ZipFile('/Users/momo/Desktop/Python_Auto/第二部分/Chapter9/data/cats.zip')\n",
    "\n",
    "# File Object\n",
    "fileobj = zip.getinfo('cats/catnames.txt')\n",
    "\n",
    "# Original File Size\n",
    "os = fileobj.file_size\n",
    "\n",
    "# Compressed Size\n",
    "cs = fileobj.compress_size\n",
    "\n",
    "print(f'Compressed file is {round((os / cs), 2)} smaller!')\n",
    "\n",
    "zip.close()"
   ],
   "metadata": {
    "collapsed": false,
    "ExecuteTime": {
     "end_time": "2023-05-29T13:05:19.660439Z",
     "start_time": "2023-05-29T13:05:19.654847Z"
    }
   }
  },
  {
   "cell_type": "markdown",
   "source": [
    "## 4. 解压文件"
   ],
   "metadata": {
    "collapsed": false
   }
  },
  {
   "cell_type": "markdown",
   "source": [
    "### 1. 解压全部文件"
   ],
   "metadata": {
    "collapsed": false
   }
  },
  {
   "cell_type": "code",
   "execution_count": 31,
   "outputs": [],
   "source": [
    "import zipfile, os\n",
    "\n",
    "os.chdir('/Users/momo/Desktop/Python_Auto/第二部分/Chapter9')\n",
    "\n",
    "zip = zipfile.ZipFile('/Users/momo/Desktop/Python_Auto/第二部分/Chapter9/data/cats.zip')\n",
    "\n",
    "zip.extractall('/Users/momo/Desktop/Python_Auto/第二部分/Chapter9/data/ts_demo4')"
   ],
   "metadata": {
    "collapsed": false,
    "ExecuteTime": {
     "end_time": "2023-05-29T13:14:13.784573Z",
     "start_time": "2023-05-29T13:14:13.770131Z"
    }
   }
  },
  {
   "cell_type": "code",
   "execution_count": 30,
   "outputs": [],
   "source": [
    "zip.close()"
   ],
   "metadata": {
    "collapsed": false,
    "ExecuteTime": {
     "end_time": "2023-05-29T13:14:12.578701Z",
     "start_time": "2023-05-29T13:14:12.565814Z"
    }
   }
  },
  {
   "cell_type": "markdown",
   "source": [
    "### 2. 解压单个文件\n",
    "> 但是是文件夹 + 文件"
   ],
   "metadata": {
    "collapsed": false
   }
  },
  {
   "cell_type": "code",
   "execution_count": 36,
   "outputs": [
    {
     "name": "stdout",
     "output_type": "stream",
     "text": [
      "['cats/', 'cats/catnames.txt', 'cats/zophie.jpg']\n"
     ]
    },
    {
     "data": {
      "text/plain": "'/Users/momo/Desktop/Python_Auto/第二部分/Chapter9/data/ts_demo5/cats/catnames.txt'"
     },
     "execution_count": 36,
     "metadata": {},
     "output_type": "execute_result"
    }
   ],
   "source": [
    "import zipfile, os\n",
    "\n",
    "os.chdir('/Users/momo/Desktop/Python_Auto/第二部分/Chapter9')\n",
    "\n",
    "zip2 = zipfile.ZipFile('/Users/momo/Desktop/Python_Auto/第二部分/Chapter9/data/cats.zip')\n",
    "\n",
    "print(zip2.namelist())\n",
    "\n",
    "zip2.extract('cats/catnames.txt', '/Users/momo/Desktop/Python_Auto/第二部分/Chapter9/data/ts_demo5')"
   ],
   "metadata": {
    "collapsed": false,
    "ExecuteTime": {
     "end_time": "2023-05-29T13:18:17.691038Z",
     "start_time": "2023-05-29T13:18:17.678526Z"
    }
   }
  },
  {
   "cell_type": "code",
   "execution_count": 29,
   "outputs": [],
   "source": [
    "zip2.close()"
   ],
   "metadata": {
    "collapsed": false,
    "ExecuteTime": {
     "end_time": "2023-05-29T13:14:00.621591Z",
     "start_time": "2023-05-29T13:14:00.611076Z"
    }
   }
  },
  {
   "cell_type": "markdown",
   "source": [
    "## 5. 创建 ZIP 压缩文件"
   ],
   "metadata": {
    "collapsed": false
   }
  },
  {
   "cell_type": "code",
   "execution_count": 37,
   "outputs": [],
   "source": [
    "import zipfile\n",
    "# 新建一个压缩文件\n",
    "newZip = zipfile.ZipFile('/Users/momo/Desktop/Python_Auto/第二部分/Chapter9/data/new.zip', 'w')\n",
    "\n",
    "# 指定某个文件为内容\n",
    "newZip.write('/Users/momo/Desktop/Python_Auto/第二部分/Chapter9/data/ts_demo3',\n",
    "             compress_type=zipfile.ZIP_DEFLATED     # 指定压缩格式\n",
    "             )\n",
    "\n",
    "newZip.close()"
   ],
   "metadata": {
    "collapsed": false,
    "ExecuteTime": {
     "end_time": "2023-05-29T13:25:47.804886Z",
     "start_time": "2023-05-29T13:25:47.783052Z"
    }
   }
  },
  {
   "cell_type": "markdown",
   "source": [
    "## 6. 添加内容到压缩文件中去"
   ],
   "metadata": {
    "collapsed": false
   }
  },
  {
   "cell_type": "code",
   "execution_count": 40,
   "outputs": [],
   "source": [
    "import zipfile\n",
    "# 新建一个压缩文件\n",
    "newZip = zipfile.ZipFile('/Users/momo/Desktop/Python_Auto/第二部分/Chapter9/data/new.zip', 'a')\n",
    "\n",
    "# 指定某个文件为内容\n",
    "newZip.write('/Users/momo/Desktop/Python_Auto/第二部分/Chapter9/data/ts_demo2/life.txt',\n",
    "             compress_type=zipfile.ZIP_DEFLATED     # 指定压缩格式\n",
    "             )"
   ],
   "metadata": {
    "collapsed": false,
    "ExecuteTime": {
     "end_time": "2023-05-29T13:39:26.532818Z",
     "start_time": "2023-05-29T13:39:26.517566Z"
    }
   }
  },
  {
   "cell_type": "code",
   "execution_count": 41,
   "outputs": [
    {
     "data": {
      "text/plain": "['Users/momo/Desktop/Python_Auto/第二部分/Chapter9/data/ts_demo3',\n 'Users/momo/Desktop/Python_Auto/第二部分/Chapter9/data/ts_demo2/life.txt',\n 'Users/momo/Desktop/Python_Auto/第二部分/Chapter9/data/ts_demo2/life.txt',\n 'Users/momo/Desktop/Python_Auto/第二部分/Chapter9/data/ts_demo2/life.txt']"
     },
     "execution_count": 41,
     "metadata": {},
     "output_type": "execute_result"
    }
   ],
   "source": [
    "newZip.namelist()"
   ],
   "metadata": {
    "collapsed": false,
    "ExecuteTime": {
     "end_time": "2023-05-29T13:39:38.644314Z",
     "start_time": "2023-05-29T13:39:38.629442Z"
    }
   }
  }
 ],
 "metadata": {
  "kernelspec": {
   "display_name": "Python 3",
   "language": "python",
   "name": "python3"
  },
  "language_info": {
   "codemirror_mode": {
    "name": "ipython",
    "version": 2
   },
   "file_extension": ".py",
   "mimetype": "text/x-python",
   "name": "python",
   "nbconvert_exporter": "python",
   "pygments_lexer": "ipython2",
   "version": "2.7.6"
  }
 },
 "nbformat": 4,
 "nbformat_minor": 0
}
