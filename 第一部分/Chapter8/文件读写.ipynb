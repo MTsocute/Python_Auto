{
 "cells": [
  {
   "cell_type": "markdown",
   "source": [
    "# 获取文件对象"
   ],
   "metadata": {
    "collapsed": false
   }
  },
  {
   "cell_type": "code",
   "execution_count": 2,
   "outputs": [
    {
     "data": {
      "text/plain": "<_io.TextIOWrapper name='/Users/momo/Desktop/Python_Auto/第二部分/Chapter8/data/testonly' mode='r' encoding='UTF-8'>"
     },
     "execution_count": 2,
     "metadata": {},
     "output_type": "execute_result"
    }
   ],
   "source": [
    "fileObj = open('/Users/momo/Desktop/Python_Auto/第二部分/Chapter8/data/testonly')\n",
    "fileObj     # 文件对象"
   ],
   "metadata": {
    "collapsed": false,
    "ExecuteTime": {
     "end_time": "2023-05-25T04:33:35.505026Z",
     "start_time": "2023-05-25T04:33:35.484992Z"
    }
   }
  },
  {
   "cell_type": "markdown",
   "source": [
    "# 使用 File 对象的 .read() 方法"
   ],
   "metadata": {
    "collapsed": false
   }
  },
  {
   "cell_type": "code",
   "execution_count": 15,
   "outputs": [
    {
     "data": {
      "text/plain": "'woshinidie'"
     },
     "execution_count": 15,
     "metadata": {},
     "output_type": "execute_result"
    }
   ],
   "source": [
    "fileObj = open('/Users/momo/Desktop/Python_Auto/第二部分/Chapter8/data/test.txt')\n",
    "fileObj.read()     # 文件对象"
   ],
   "metadata": {
    "collapsed": false,
    "ExecuteTime": {
     "end_time": "2023-05-25T04:42:07.188913Z",
     "start_time": "2023-05-25T04:42:07.176219Z"
    }
   }
  },
  {
   "cell_type": "markdown",
   "source": [
    "# 使用readline() 和 readlines() 方法"
   ],
   "metadata": {
    "collapsed": false
   }
  },
  {
   "cell_type": "code",
   "execution_count": 17,
   "outputs": [
    {
     "data": {
      "text/plain": "\"When, in disgrace with fortune and men's eyes, \\n\""
     },
     "execution_count": 17,
     "metadata": {},
     "output_type": "execute_result"
    }
   ],
   "source": [
    "with open('/Users/momo/Desktop/Python_Auto/第二部分/Chapter8/data/sonnet20.txt') as f:\n",
    "    # readline() 读取一行\n",
    "    content = f.readline()\n",
    "\n",
    "content"
   ],
   "metadata": {
    "collapsed": false,
    "ExecuteTime": {
     "end_time": "2023-05-25T04:43:30.598711Z",
     "start_time": "2023-05-25T04:43:30.593703Z"
    }
   }
  },
  {
   "cell_type": "code",
   "execution_count": 19,
   "outputs": [
    {
     "data": {
      "text/plain": "[\"When, in disgrace with fortune and men's eyes, \\n\",\n 'I all alone beweep my outcast state,\\n',\n 'And trouble deaf heaven with my bootless cries,\\n',\n 'And look upon myself and curse my fate,\\n']"
     },
     "execution_count": 19,
     "metadata": {},
     "output_type": "execute_result"
    }
   ],
   "source": [
    "with open('/Users/momo/Desktop/Python_Auto/第二部分/Chapter8/data/sonnet20.txt') as f:\n",
    "    # readline() 读取所有\n",
    "    content = f.readlines()\n",
    "\n",
    "content"
   ],
   "metadata": {
    "collapsed": false,
    "ExecuteTime": {
     "end_time": "2023-05-25T04:55:23.564184Z",
     "start_time": "2023-05-25T04:55:23.543773Z"
    }
   }
  },
  {
   "cell_type": "markdown",
   "source": [
    "| 管理文件读取方式 | 参数                                                   |\n",
    "|:--------:|------------------------------------------------------|\n",
    "|    a     | 追加内容不覆盖，如果文件不存在就会新建一个                                |\n",
    "|    w     | 写文件，会覆盖原有内容，如果文件不存在就会新建一个                            |\n",
    "|    r     | 只读文件，如果文件不存在就会抛出 FileNotFoundError                   |\n",
    "|    r+    | 读写模式。打开文件用于读取和写入。**如果文件不存在，则会引发FileNotFoundError错误** |\n",
    "|    a+    | 追加和读取模式。打开文件用于读取和追加内容。如果文件不存在，则创建新文件。                |\n",
    "|    w+    | 写入和读取模式。打开文件用于读取和写入。如果文件存在，则覆盖文件的内容；如果文件不存在，则创建新文件。  |\n"
   ],
   "metadata": {
    "collapsed": false
   }
  },
  {
   "cell_type": "code",
   "execution_count": 23,
   "outputs": [
    {
     "name": "stdout",
     "output_type": "stream",
     "text": [
      "Done\n"
     ]
    }
   ],
   "source": [
    "with open('/Users/momo/Desktop/Python_Auto/第二部分/Chapter8/data/test.txt', 'a') as f:\n",
    "    f.write('我是你爹!\\n')\n",
    "    print('Done')"
   ],
   "metadata": {
    "collapsed": false,
    "ExecuteTime": {
     "end_time": "2023-05-25T05:06:40.880053Z",
     "start_time": "2023-05-25T05:06:40.832448Z"
    }
   }
  }
 ],
 "metadata": {
  "kernelspec": {
   "display_name": "Python 3",
   "language": "python",
   "name": "python3"
  },
  "language_info": {
   "codemirror_mode": {
    "name": "ipython",
    "version": 2
   },
   "file_extension": ".py",
   "mimetype": "text/x-python",
   "name": "python",
   "nbconvert_exporter": "python",
   "pygments_lexer": "ipython2",
   "version": "2.7.6"
  }
 },
 "nbformat": 4,
 "nbformat_minor": 0
}
