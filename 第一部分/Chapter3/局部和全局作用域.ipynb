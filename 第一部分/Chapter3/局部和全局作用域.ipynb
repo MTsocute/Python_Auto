{
 "cells": [
  {
   "cell_type": "markdown",
   "source": [
    "## 要避免局部和全局作用域 变量同名"
   ],
   "metadata": {
    "collapsed": false
   }
  },
  {
   "cell_type": "code",
   "execution_count": 3,
   "outputs": [
    {
     "name": "stdout",
     "output_type": "stream",
     "text": [
      "spam local\n",
      "bacon local\n",
      "global\n"
     ]
    }
   ],
   "source": [
    "def spam():\n",
    "      eggs = 'spam local'\n",
    "      print(eggs) # prints 'spam local'\n",
    "\n",
    "def bacon():\n",
    "      eggs = 'bacon local'\n",
    "      print(eggs) # prints 'bacon local' spam()\n",
    "\n",
    "eggs = 'global'\n",
    "\n",
    "spam()\n",
    "bacon()\n",
    "print(eggs) # prints 'global'"
   ],
   "metadata": {
    "collapsed": false,
    "ExecuteTime": {
     "end_time": "2023-05-14T09:21:46.723911Z",
     "start_time": "2023-05-14T09:21:46.714472Z"
    }
   }
  },
  {
   "cell_type": "markdown",
   "source": [
    "> 虽然说三个 eggs 都是可以同时存在的，但是他们完全是不同作用于下的变量，如果同名容易分不清楚谁是谁"
   ],
   "metadata": {
    "collapsed": false
   }
  },
  {
   "cell_type": "markdown",
   "source": [
    "## global 语句"
   ],
   "metadata": {
    "collapsed": false
   }
  },
  {
   "cell_type": "code",
   "execution_count": 6,
   "outputs": [
    {
     "name": "stdout",
     "output_type": "stream",
     "text": [
      "spam\n"
     ]
    }
   ],
   "source": [
    "def spam():\n",
    "      global eggs\n",
    "      eggs = 'spam'\n",
    "\n",
    "eggs = 'global'   # 这个发生的早些w\n",
    "spam()   # 使用发生在 line 5 之后，所以相当于是后操作 eggs = 'spam'\n",
    "\n",
    "print(eggs)"
   ],
   "metadata": {
    "collapsed": false,
    "ExecuteTime": {
     "end_time": "2023-05-14T09:30:24.276647Z",
     "start_time": "2023-05-14T09:30:24.272073Z"
    }
   }
  },
  {
   "cell_type": "markdown",
   "source": [
    "> 这个函数中，eggs 指的是全局变 量，所以不要用这个名字创建一个局部变量"
   ],
   "metadata": {
    "collapsed": false
   }
  },
  {
   "cell_type": "code",
   "execution_count": null,
   "outputs": [],
   "source": [],
   "metadata": {
    "collapsed": false
   }
  }
 ],
 "metadata": {
  "kernelspec": {
   "display_name": "Python 3",
   "language": "python",
   "name": "python3"
  },
  "language_info": {
   "codemirror_mode": {
    "name": "ipython",
    "version": 2
   },
   "file_extension": ".py",
   "mimetype": "text/x-python",
   "name": "python",
   "nbconvert_exporter": "python",
   "pygments_lexer": "ipython2",
   "version": "2.7.6"
  }
 },
 "nbformat": 4,
 "nbformat_minor": 0
}
