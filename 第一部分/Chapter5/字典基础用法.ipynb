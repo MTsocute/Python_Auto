{
 "cells": [
  {
   "cell_type": "markdown",
   "source": [
    "# .values() | .keys() | .items()"
   ],
   "metadata": {
    "collapsed": false
   }
  },
  {
   "cell_type": "code",
   "execution_count": 8,
   "outputs": [
    {
     "name": "stdout",
     "output_type": "stream",
     "text": [
      "dict_values(['red', 42])\n",
      "red\n",
      "42\n"
     ]
    }
   ],
   "source": [
    "spam = {'color': 'red', 'age': 42}\n",
    "\n",
    "# 结构\n",
    "print(spam.values())\n",
    "\n",
    "# 字典是 key - value 结构，所以 v 就是值会有 value\n",
    "for v in spam.values():\n",
    "    print(v)"
   ],
   "metadata": {
    "collapsed": false,
    "ExecuteTime": {
     "end_time": "2023-05-17T12:59:33.134770Z",
     "start_time": "2023-05-17T12:59:33.131256Z"
    }
   }
  },
  {
   "cell_type": "code",
   "execution_count": 11,
   "outputs": [
    {
     "name": "stdout",
     "output_type": "stream",
     "text": [
      "dict_keys(['color', 'age'])\n",
      "color\n",
      "age\n"
     ]
    }
   ],
   "source": [
    "spam = {'color': 'red', 'age': 42}\n",
    "\n",
    "# 结构\n",
    "print(spam.keys())\n",
    "\n",
    "for k in spam.keys():\n",
    "    print(k)"
   ],
   "metadata": {
    "collapsed": false,
    "ExecuteTime": {
     "end_time": "2023-05-17T13:01:10.690704Z",
     "start_time": "2023-05-17T13:01:10.685934Z"
    }
   }
  },
  {
   "cell_type": "code",
   "execution_count": 13,
   "outputs": [
    {
     "name": "stdout",
     "output_type": "stream",
     "text": [
      "dict_items([('color', 'red'), ('age', 42)])\n",
      "('color', 'red')\n",
      "('age', 42)\n"
     ]
    }
   ],
   "source": [
    "spam = {'color': 'red', 'age': 42}\n",
    "\n",
    "# 结构: k 和 对应的 v 分别作为两个元组返回\n",
    "print(spam.items())\n",
    "\n",
    "for tuple in spam.items():\n",
    "    print(tuple)"
   ],
   "metadata": {
    "collapsed": false,
    "ExecuteTime": {
     "end_time": "2023-05-17T13:01:57.535192Z",
     "start_time": "2023-05-17T13:01:57.526948Z"
    }
   }
  },
  {
   "cell_type": "markdown",
   "source": [
    "## 这个建议利用多重赋值比较好"
   ],
   "metadata": {
    "collapsed": false
   }
  },
  {
   "cell_type": "code",
   "execution_count": 14,
   "outputs": [
    {
     "name": "stdout",
     "output_type": "stream",
     "text": [
      "dict_items([('color', 'red'), ('age', 42)])\n",
      "k = color : v = red\n",
      "k = age : v = 42\n"
     ]
    }
   ],
   "source": [
    "spam = {'color': 'red', 'age': 42}\n",
    "\n",
    "# 结构: k 和 对应的 v 分别作为两个元组返回\n",
    "print(spam.items())\n",
    "\n",
    "for k,v in spam.items():\n",
    "    print(f'k = {k} : v = {v}')"
   ],
   "metadata": {
    "collapsed": false,
    "ExecuteTime": {
     "end_time": "2023-05-17T13:04:06.549801Z",
     "start_time": "2023-05-17T13:04:06.541414Z"
    }
   }
  },
  {
   "cell_type": "markdown",
   "source": [
    "# 检查字典中有无我们想要的键或值"
   ],
   "metadata": {
    "collapsed": false
   }
  },
  {
   "cell_type": "code",
   "execution_count": 3,
   "outputs": [
    {
     "name": "stdout",
     "output_type": "stream",
     "text": [
      "True\n",
      "True\n",
      "True\n"
     ]
    }
   ],
   "source": [
    "spam = {'name': 'Zophie', 'age': 7}\n",
    "\n",
    "\n",
    "\n",
    "print('name' in spam.keys())\n",
    "\n",
    "print('Zophie' in spam.values())\n",
    "\n",
    "print('color' not in spam.keys())"
   ],
   "metadata": {
    "collapsed": false,
    "ExecuteTime": {
     "end_time": "2023-05-17T13:07:40.428060Z",
     "start_time": "2023-05-17T13:07:40.420709Z"
    }
   }
  },
  {
   "cell_type": "markdown",
   "source": [
    "# .get() 方法"
   ],
   "metadata": {
    "collapsed": false
   }
  },
  {
   "cell_type": "markdown",
   "source": [
    "~~~python\n",
    "    dict.get(key, return_value_when_key_unexist)\n",
    "~~~\n",
    ">  get()方法，它有两个参数:要取得其值的键，以及如果该键不存在时，返回的备用值"
   ],
   "metadata": {
    "collapsed": false
   }
  },
  {
   "cell_type": "code",
   "execution_count": 4,
   "outputs": [
    {
     "ename": "KeyError",
     "evalue": "'eggs'",
     "output_type": "error",
     "traceback": [
      "\u001B[0;31m---------------------------------------------------------------------------\u001B[0m",
      "\u001B[0;31mKeyError\u001B[0m                                  Traceback (most recent call last)",
      "Cell \u001B[0;32mIn[4], line 2\u001B[0m\n\u001B[1;32m      1\u001B[0m picnicItems \u001B[38;5;241m=\u001B[39m {\u001B[38;5;124m'\u001B[39m\u001B[38;5;124mapples\u001B[39m\u001B[38;5;124m'\u001B[39m: \u001B[38;5;241m5\u001B[39m, \u001B[38;5;124m'\u001B[39m\u001B[38;5;124mcups\u001B[39m\u001B[38;5;124m'\u001B[39m: \u001B[38;5;241m2\u001B[39m}\n\u001B[0;32m----> 2\u001B[0m \u001B[38;5;124m'\u001B[39m\u001B[38;5;124mI am bringing \u001B[39m\u001B[38;5;124m'\u001B[39m \u001B[38;5;241m+\u001B[39m \u001B[38;5;28mstr\u001B[39m(\u001B[43mpicnicItems\u001B[49m\u001B[43m[\u001B[49m\u001B[38;5;124;43m'\u001B[39;49m\u001B[38;5;124;43meggs\u001B[39;49m\u001B[38;5;124;43m'\u001B[39;49m\u001B[43m]\u001B[49m) \u001B[38;5;241m+\u001B[39m \u001B[38;5;124m'\u001B[39m\u001B[38;5;124m eggs.\u001B[39m\u001B[38;5;124m'\u001B[39m\n",
      "\u001B[0;31mKeyError\u001B[0m: 'eggs'"
     ]
    }
   ],
   "source": [
    "picnicItems = {'apples': 5, 'cups': 2}\n",
    "'I am bringing ' + str(picnicItems['eggs']) + ' eggs.'  # 由于字典不存在 eggs 这个键所以报错"
   ],
   "metadata": {
    "collapsed": false,
    "ExecuteTime": {
     "end_time": "2023-05-17T13:10:33.112989Z",
     "start_time": "2023-05-17T13:10:32.984635Z"
    }
   }
  },
  {
   "cell_type": "markdown",
   "source": [
    "## 使用 get() 方法"
   ],
   "metadata": {
    "collapsed": false
   }
  },
  {
   "cell_type": "code",
   "execution_count": 5,
   "outputs": [
    {
     "data": {
      "text/plain": "'I am bringing 2 cups.'"
     },
     "execution_count": 5,
     "metadata": {},
     "output_type": "execute_result"
    }
   ],
   "source": [
    "'I am bringing ' + str(picnicItems.get('cups', 0)) + ' cups.'"
   ],
   "metadata": {
    "collapsed": false,
    "ExecuteTime": {
     "end_time": "2023-05-17T13:11:51.654139Z",
     "start_time": "2023-05-17T13:11:51.651768Z"
    }
   }
  },
  {
   "cell_type": "code",
   "execution_count": 6,
   "outputs": [
    {
     "name": "stdout",
     "output_type": "stream",
     "text": [
      "Apples: 7\n",
      "Cakes: 0\n"
     ]
    }
   ],
   "source": [
    "allGuests = {\n",
    "    'Alice': {'apples': 5, 'pretzels': 12},\n",
    "    'Bob': {'ham sandwiches': 3, 'apples': 2},\n",
    "    'Carol': {'cups': 3, 'apple pies': 1}\n",
    "}\n",
    "\n",
    "def totalBrought(guests, item):\n",
    "    numBrought = 0\n",
    "    for v in guests.values():\n",
    "        numBrought = numBrought + v.get(item, 0)\n",
    "    return numBrought\n",
    "\n",
    "print('Apples: ' + str(totalBrought(allGuests, 'apples')))\n",
    "print('Cakes: ' + str(totalBrought(allGuests, 'cakes')))"
   ],
   "metadata": {
    "collapsed": false,
    "ExecuteTime": {
     "end_time": "2023-05-19T08:56:19.190094Z",
     "start_time": "2023-05-19T08:56:19.157487Z"
    }
   }
  }
 ],
 "metadata": {
  "kernelspec": {
   "display_name": "Python 3",
   "language": "python",
   "name": "python3"
  },
  "language_info": {
   "codemirror_mode": {
    "name": "ipython",
    "version": 2
   },
   "file_extension": ".py",
   "mimetype": "text/x-python",
   "name": "python",
   "nbconvert_exporter": "python",
   "pygments_lexer": "ipython2",
   "version": "2.7.6"
  }
 },
 "nbformat": 4,
 "nbformat_minor": 0
}
