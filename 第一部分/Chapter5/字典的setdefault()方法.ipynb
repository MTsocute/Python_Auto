{
 "cells": [
  {
   "cell_type": "markdown",
   "source": [
    "# 你常常需要为字典中某个键设置一个默认值，当该键没有任何值时使用它"
   ],
   "metadata": {
    "collapsed": false
   }
  },
  {
   "cell_type": "code",
   "execution_count": 3,
   "outputs": [
    {
     "name": "stdout",
     "output_type": "stream",
     "text": [
      "{'name': 'Pooka', 'age': 5, 'color': 'black'}\n"
     ]
    }
   ],
   "source": [
    "spam = {'name': 'Pooka', 'age': 5}\n",
    "if 'color' not in spam:\n",
    "    spam['color'] = 'black'\n",
    "else:\n",
    "    print(spam['color'])\n",
    "\n",
    "print(spam)"
   ],
   "metadata": {
    "collapsed": false,
    "ExecuteTime": {
     "end_time": "2023-05-17T13:14:42.501729Z",
     "start_time": "2023-05-17T13:14:42.498011Z"
    }
   }
  },
  {
   "cell_type": "markdown",
   "source": [
    "> 简单来说，就是没有我们就设置一个，如果有的话，我们就用原来的。\n",
    "> 那这个步骤呢，我们有内置函数可以实现这个操作"
   ],
   "metadata": {
    "collapsed": false
   }
  },
  {
   "cell_type": "code",
   "execution_count": 8,
   "outputs": [
    {
     "name": "stdout",
     "output_type": "stream",
     "text": [
      "{'name': 'Pooka', 'age': 5, 'color': 'black'}\n",
      "{'name': 'Pooka', 'age': 5, 'color': 'black'}\n"
     ]
    }
   ],
   "source": [
    "spam = {'name': 'Pooka', 'age': 5}\n",
    "# 这个时候，上述函数还没有 color\n",
    "spam.setdefault('color', 'black')\n",
    "print(spam)\n",
    "\n",
    "# 如果有了以后再使用呢\n",
    "spam.setdefault('color', 'white')\n",
    "print(spam) # 就会用默认的了"
   ],
   "metadata": {
    "collapsed": false,
    "ExecuteTime": {
     "end_time": "2023-05-17T13:18:36.550595Z",
     "start_time": "2023-05-17T13:18:36.544303Z"
    }
   }
  },
  {
   "cell_type": "markdown",
   "source": [
    "## 利用函数，写一个统计出现字符出现次数的函数"
   ],
   "metadata": {
    "collapsed": false
   }
  },
  {
   "cell_type": "code",
   "execution_count": 12,
   "outputs": [
    {
     "name": "stdout",
     "output_type": "stream",
     "text": [
      "{'n': 1, 'i': 2, 'h': 1, 'a': 1}\n"
     ]
    }
   ],
   "source": [
    "times_of_char = {}\n",
    "\n",
    "user_input = input(\"请输入一些字符\")\n",
    "user_input = user_input.strip() # 处理末尾换行符\n",
    "\n",
    "for char in user_input:\n",
    "    if char == ' ':\n",
    "        continue\n",
    "    times_of_char.setdefault(char, 0)   # 没出现过的字符会默认是 0\n",
    "    times_of_char[char] = times_of_char.setdefault(char) + 1    # 出现过的会字数 + 1\n",
    "\n",
    "print(times_of_char)"
   ],
   "metadata": {
    "collapsed": false,
    "ExecuteTime": {
     "end_time": "2023-05-17T13:25:53.166334Z",
     "start_time": "2023-05-17T13:25:49.404074Z"
    }
   }
  }
 ],
 "metadata": {
  "kernelspec": {
   "display_name": "Python 3",
   "language": "python",
   "name": "python3"
  },
  "language_info": {
   "codemirror_mode": {
    "name": "ipython",
    "version": 2
   },
   "file_extension": ".py",
   "mimetype": "text/x-python",
   "name": "python",
   "nbconvert_exporter": "python",
   "pygments_lexer": "ipython2",
   "version": "2.7.6"
  }
 },
 "nbformat": 4,
 "nbformat_minor": 0
}
