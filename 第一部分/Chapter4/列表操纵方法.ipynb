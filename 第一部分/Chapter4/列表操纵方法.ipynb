{
 "cells": [
  {
   "cell_type": "markdown",
   "source": [
    "# 删除"
   ],
   "metadata": {
    "collapsed": false
   }
  },
  {
   "cell_type": "markdown",
   "source": [
    "## del"
   ],
   "metadata": {
    "collapsed": false
   }
  },
  {
   "cell_type": "code",
   "execution_count": 1,
   "outputs": [
    {
     "name": "stdout",
     "output_type": "stream",
     "text": [
      "[1, 3, 4]\n"
     ]
    }
   ],
   "source": [
    "ts = [1,2,3,4]\n",
    "del ts[1]\n",
    "\n",
    "print(ts)"
   ],
   "metadata": {
    "collapsed": false,
    "ExecuteTime": {
     "end_time": "2023-05-14T09:53:02.315983Z",
     "start_time": "2023-05-14T09:53:02.306035Z"
    }
   }
  },
  {
   "cell_type": "markdown",
   "source": [
    "## .remove()"
   ],
   "metadata": {
    "collapsed": false
   }
  },
  {
   "cell_type": "code",
   "execution_count": 14,
   "outputs": [
    {
     "name": "stdout",
     "output_type": "stream",
     "text": [
      "['bat', 'rat', 'elephant']\n"
     ]
    }
   ],
   "source": [
    "spam = ['cat', 'bat', 'rat', 'elephant']\n",
    "spam.remove('cat')\n",
    "print(spam)"
   ],
   "metadata": {
    "collapsed": false,
    "ExecuteTime": {
     "end_time": "2023-05-14T10:00:58.295793Z",
     "start_time": "2023-05-14T10:00:58.288009Z"
    }
   }
  },
  {
   "cell_type": "markdown",
   "source": [
    "# 查找"
   ],
   "metadata": {
    "collapsed": false
   }
  },
  {
   "cell_type": "markdown",
   "source": [
    "## .index()"
   ],
   "metadata": {
    "collapsed": false
   }
  },
  {
   "cell_type": "code",
   "execution_count": 3,
   "outputs": [
    {
     "name": "stdout",
     "output_type": "stream",
     "text": [
      "0\n"
     ]
    }
   ],
   "source": [
    "ts = [1,2,3,4]\n",
    "\n",
    "print(ts.index(1))  # 搜索 1 的位置"
   ],
   "metadata": {
    "collapsed": false,
    "ExecuteTime": {
     "end_time": "2023-05-14T09:53:41.846385Z",
     "start_time": "2023-05-14T09:53:41.842591Z"
    }
   }
  },
  {
   "cell_type": "markdown",
   "source": [
    "# 添加和插入"
   ],
   "metadata": {
    "collapsed": false
   }
  },
  {
   "cell_type": "markdown",
   "source": [
    "## .append()"
   ],
   "metadata": {
    "collapsed": false
   }
  },
  {
   "cell_type": "code",
   "execution_count": 5,
   "outputs": [
    {
     "name": "stdout",
     "output_type": "stream",
     "text": [
      "['cat', 'dog', 'you', 'MotherFucker']\n"
     ]
    }
   ],
   "source": [
    "spam = ['cat', 'dog', 'you']\n",
    "\n",
    "spam.append('MotherFucker')\n",
    "\n",
    "print(spam)"
   ],
   "metadata": {
    "collapsed": false,
    "ExecuteTime": {
     "end_time": "2023-05-14T09:56:03.032505Z",
     "start_time": "2023-05-14T09:56:03.028652Z"
    }
   }
  },
  {
   "cell_type": "markdown",
   "source": [
    "## .insert(index, value)"
   ],
   "metadata": {
    "collapsed": false
   }
  },
  {
   "cell_type": "code",
   "execution_count": 13,
   "outputs": [
    {
     "name": "stdout",
     "output_type": "stream",
     "text": [
      "['cat', 'dog', 'MotherFucker', 'you', 'black', 'Haha']\n"
     ]
    }
   ],
   "source": [
    "spam = ['cat', 'dog', 'you']\n",
    "\n",
    "spam.insert(2, 'MotherFucker')  # 被插入的位置上的元素会后移一位\n",
    "\n",
    "spam.insert(101, 'Haha')  # 特别注意，如果你写的 index 大于列表长度，就是默认插入最后的位置\n",
    "\n",
    "spam.insert(-1, 'black')  # -1 就是最有一个元素的位置\n",
    "\n",
    "print(spam)"
   ],
   "metadata": {
    "collapsed": false,
    "ExecuteTime": {
     "end_time": "2023-05-14T09:58:57.648714Z",
     "start_time": "2023-05-14T09:58:57.642045Z"
    }
   }
  },
  {
   "cell_type": "markdown",
   "source": [
    "# 排序"
   ],
   "metadata": {
    "collapsed": false
   }
  },
  {
   "cell_type": "markdown",
   "source": [
    "## .sort()"
   ],
   "metadata": {
    "collapsed": false
   }
  },
  {
   "cell_type": "code",
   "execution_count": 20,
   "outputs": [
    {
     "name": "stdout",
     "output_type": "stream",
     "text": [
      "[-7, 1, 2, 3.14, 5]\n",
      "['elephants', 'dogs', 'cats', 'badgers', 'ants']\n"
     ]
    }
   ],
   "source": [
    "spam = [2, 5, 3.14, 1, -7]\n",
    "spam.sort() # 数字默认从小到大\n",
    "\n",
    "print(spam)\n",
    "\n",
    "spam = ['ants', 'cats', 'dogs', 'badgers', 'elephants']\n",
    "spam.sort(reverse=True)     # 利用 reverse 关键词，逆转顺序\n",
    "\n",
    "print(spam)"
   ],
   "metadata": {
    "collapsed": false,
    "ExecuteTime": {
     "end_time": "2023-05-14T10:03:40.445244Z",
     "start_time": "2023-05-14T10:03:40.439339Z"
    }
   }
  }
 ],
 "metadata": {
  "kernelspec": {
   "display_name": "Python 3",
   "language": "python",
   "name": "python3"
  },
  "language_info": {
   "codemirror_mode": {
    "name": "ipython",
    "version": 2
   },
   "file_extension": ".py",
   "mimetype": "text/x-python",
   "name": "python",
   "nbconvert_exporter": "python",
   "pygments_lexer": "ipython2",
   "version": "2.7.6"
  }
 },
 "nbformat": 4,
 "nbformat_minor": 0
}
