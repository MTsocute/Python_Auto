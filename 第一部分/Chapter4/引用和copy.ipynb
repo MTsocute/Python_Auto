{
 "cells": [
  {
   "cell_type": "markdown",
   "source": [
    "# 引用"
   ],
   "metadata": {
    "collapsed": false
   }
  },
  {
   "cell_type": "code",
   "execution_count": 4,
   "outputs": [
    {
     "name": "stdout",
     "output_type": "stream",
     "text": [
      "spam = [1, 2, 3, 'hello']\n",
      "chess = [1, 2, 3, 'hello']\n"
     ]
    }
   ],
   "source": [
    "spam = [1,2,3]\n",
    "chess = spam    # 这个时候，两个人指向了一个东西\n",
    "\n",
    "# 代码只改变了chess，为什么两个都会变化呢？\n",
    "chess.append('hello')\n",
    "print(f'spam = {spam}')\n",
    "print(f'chess = {chess}')"
   ],
   "metadata": {
    "collapsed": false,
    "ExecuteTime": {
     "end_time": "2023-05-17T12:15:27.319555Z",
     "start_time": "2023-05-17T12:15:27.314399Z"
    }
   }
  },
  {
   "cell_type": "markdown",
   "source": [
    "> chess = spam, 只是将 spam 中的列 表引用拷贝到 cheese，而不是列表值本身。这意味着存储在 spam 和 cheese 中的值， 现在指向了同一个列表"
   ],
   "metadata": {
    "collapsed": false
   }
  },
  {
   "cell_type": "markdown",
   "source": [
    "## 引用传递"
   ],
   "metadata": {
    "collapsed": false
   }
  },
  {
   "cell_type": "code",
   "execution_count": 7,
   "outputs": [
    {
     "name": "stdout",
     "output_type": "stream",
     "text": [
      "[1, 2, 3, 'hello']\n"
     ]
    }
   ],
   "source": [
    "# 两个引用名字完全不一样\n",
    "def eggs(parameter):\n",
    "    parameter.append('hello')   # 对函数进行了修改，但是没有返回\n",
    "\n",
    "para = [1,2,3]\n",
    "\n",
    "eggs(para)\n",
    "\n",
    "# 打印结果却返现仍然修改了数列\n",
    "print(para)"
   ],
   "metadata": {
    "collapsed": false,
    "ExecuteTime": {
     "end_time": "2023-05-17T12:24:10.400919Z",
     "start_time": "2023-05-17T12:24:10.386934Z"
    }
   }
  },
  {
   "cell_type": "markdown",
   "source": [
    ">   尽管 para 和 Parameter 包含了不同的引用，但它们都指向相同的列表。\n",
    "> 这就是为什么函数内的 append('Hello')方法调用在函数调用返回后，仍然会对该列表产生影响"
   ],
   "metadata": {
    "collapsed": false
   }
  },
  {
   "cell_type": "markdown",
   "source": [
    "# 利用 copy 拷贝一个新的列表"
   ],
   "metadata": {
    "collapsed": false
   }
  },
  {
   "cell_type": "code",
   "execution_count": 5,
   "outputs": [
    {
     "name": "stdout",
     "output_type": "stream",
     "text": [
      "spam = [1, 2, 3]\n",
      "chess = [1, 2, 3, 'hello']\n"
     ]
    }
   ],
   "source": [
    "spam = [1,2,3]\n",
    "chess = spam.copy()    # 这个时候，chess 指向的是一个拷贝出来全新的列表\n",
    "\n",
    "chess.append('hello')\n",
    "\n",
    "print(f'spam = {spam}')\n",
    "print(f'chess = {chess}')"
   ],
   "metadata": {
    "collapsed": false,
    "ExecuteTime": {
     "end_time": "2023-05-17T12:18:43.776402Z",
     "start_time": "2023-05-17T12:18:43.767605Z"
    }
   }
  }
 ],
 "metadata": {
  "kernelspec": {
   "display_name": "Python 3",
   "language": "python",
   "name": "python3"
  },
  "language_info": {
   "codemirror_mode": {
    "name": "ipython",
    "version": 2
   },
   "file_extension": ".py",
   "mimetype": "text/x-python",
   "name": "python",
   "nbconvert_exporter": "python",
   "pygments_lexer": "ipython2",
   "version": "2.7.6"
  }
 },
 "nbformat": 4,
 "nbformat_minor": 0
}
