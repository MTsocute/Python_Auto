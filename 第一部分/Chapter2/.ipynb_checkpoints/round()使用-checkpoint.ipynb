{
 "cells": [
  {
   "cell_type": "markdown",
   "id": "96f9bbe6",
   "metadata": {},
   "source": [
    "# round( ) 函数使用"
   ]
  },
  {
   "cell_type": "markdown",
   "id": "afa44fa2",
   "metadata": {},
   "source": [
    "> 该函数按照指定的精度四舍五入到一个浮点数。只要传入要舍入的数字，再加上可选的第二个参数，指明需要传入到小数点后多少位。如果省略第二个参数，round( )将数字四舍五入到最接近的**整数**"
   ]
  },
  {
   "cell_type": "code",
   "execution_count": 3,
   "id": "02d23c31",
   "metadata": {},
   "outputs": [
    {
     "data": {
      "text/plain": [
       "1687349013.854835"
      ]
     },
     "execution_count": 3,
     "metadata": {},
     "output_type": "execute_result"
    }
   ],
   "source": [
    "import time\n",
    "now = time.time()\n",
    "now"
   ]
  },
  {
   "cell_type": "markdown",
   "id": "8ee62027",
   "metadata": {},
   "source": [
    "## 1. 不输入第二个参数，就会四舍五入成整数"
   ]
  },
  {
   "cell_type": "code",
   "execution_count": 5,
   "id": "fca3bc66",
   "metadata": {},
   "outputs": [
    {
     "data": {
      "text/plain": [
       "1687349014"
      ]
     },
     "execution_count": 5,
     "metadata": {},
     "output_type": "execute_result"
    }
   ],
   "source": [
    "round(now)"
   ]
  },
  {
   "cell_type": "markdown",
   "id": "4048edad",
   "metadata": {},
   "source": [
    "## 2. 使用参数精确控制四舍五入多少位"
   ]
  },
  {
   "cell_type": "code",
   "execution_count": 6,
   "id": "3095098d",
   "metadata": {},
   "outputs": [
    {
     "data": {
      "text/plain": [
       "1687349013.85"
      ]
     },
     "execution_count": 6,
     "metadata": {},
     "output_type": "execute_result"
    }
   ],
   "source": [
    "round(now,2)"
   ]
  },
  {
   "cell_type": "code",
   "execution_count": 7,
   "id": "4bcf4fdc",
   "metadata": {},
   "outputs": [
    {
     "data": {
      "text/plain": [
       "1687349013.8548"
      ]
     },
     "execution_count": 7,
     "metadata": {},
     "output_type": "execute_result"
    }
   ],
   "source": [
    "round(now,4)"
   ]
  }
 ],
 "metadata": {
  "kernelspec": {
   "display_name": "Python 3 (ipykernel)",
   "language": "python",
   "name": "python3"
  },
  "language_info": {
   "codemirror_mode": {
    "name": "ipython",
    "version": 3
   },
   "file_extension": ".py",
   "mimetype": "text/x-python",
   "name": "python",
   "nbconvert_exporter": "python",
   "pygments_lexer": "ipython3",
   "version": "3.11.3"
  }
 },
 "nbformat": 4,
 "nbformat_minor": 5
}
