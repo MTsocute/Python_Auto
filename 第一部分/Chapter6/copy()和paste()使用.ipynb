{
 "cells": [
  {
   "cell_type": "markdown",
   "source": [
    "> pyperclip 模块有 copy()和 paste()函数，可以向计算机的剪贴板发送文本，或从 它接收文本。\n",
    "> 将程序的输出发送到剪贴板，使它很容易粘贴到邮件、文字处理程序 或其他软件中。"
   ],
   "metadata": {
    "collapsed": false
   }
  },
  {
   "cell_type": "markdown",
   "source": [
    "## 使用 copy() 函数，把字符串发送到剪贴板"
   ],
   "metadata": {
    "collapsed": false
   }
  },
  {
   "cell_type": "code",
   "execution_count": 2,
   "outputs": [],
   "source": [
    "import pyperclip\n",
    "pyperclip.copy(\"Suprise Motherfuker!\")"
   ],
   "metadata": {
    "collapsed": false,
    "ExecuteTime": {
     "end_time": "2023-05-19T10:59:27.619800Z",
     "start_time": "2023-05-19T10:59:27.580984Z"
    }
   }
  },
  {
   "cell_type": "markdown",
   "source": [
    "## 使用 paste() 函数把当前剪贴板里的内容打印出来"
   ],
   "metadata": {
    "collapsed": false
   }
  },
  {
   "cell_type": "code",
   "execution_count": 3,
   "outputs": [
    {
     "data": {
      "text/plain": "'Suprise Motherfuker!'"
     },
     "execution_count": 3,
     "metadata": {},
     "output_type": "execute_result"
    }
   ],
   "source": [
    "import pyperclip\n",
    "pyperclip.paste()"
   ],
   "metadata": {
    "collapsed": false,
    "ExecuteTime": {
     "end_time": "2023-05-19T11:02:40.912383Z",
     "start_time": "2023-05-19T11:02:40.870196Z"
    }
   }
  }
 ],
 "metadata": {
  "kernelspec": {
   "display_name": "Python 3",
   "language": "python",
   "name": "python3"
  },
  "language_info": {
   "codemirror_mode": {
    "name": "ipython",
    "version": 2
   },
   "file_extension": ".py",
   "mimetype": "text/x-python",
   "name": "python",
   "nbconvert_exporter": "python",
   "pygments_lexer": "ipython2",
   "version": "2.7.6"
  }
 },
 "nbformat": 4,
 "nbformat_minor": 0
}
