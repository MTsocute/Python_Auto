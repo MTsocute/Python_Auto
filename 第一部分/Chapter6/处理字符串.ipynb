{
 "cells": [
  {
   "cell_type": "markdown",
   "source": [
    "## 原始字符串"
   ],
   "metadata": {
    "collapsed": false
   }
  },
  {
   "cell_type": "code",
   "execution_count": 2,
   "outputs": [
    {
     "name": "stdout",
     "output_type": "stream",
     "text": [
      "That is Carol\\'s cat.\n"
     ]
    }
   ],
   "source": [
    "print(r'That is Carol\\'s cat.') # 使用 r 开头会忽略转移符号"
   ],
   "metadata": {
    "collapsed": false,
    "ExecuteTime": {
     "end_time": "2023-05-19T09:00:43.901423Z",
     "start_time": "2023-05-19T09:00:43.896180Z"
    }
   }
  },
  {
   "cell_type": "markdown",
   "source": [
    "## 用三重引号的多行字符串"
   ],
   "metadata": {
    "collapsed": false
   }
  },
  {
   "cell_type": "code",
   "execution_count": 3,
   "outputs": [
    {
     "name": "stdout",
     "output_type": "stream",
     "text": [
      "Dear Alice,\n",
      "Eve's cat has been arrested for catnapping, cat burglary, and extortion.\n",
      "             Sincerely,\n",
      "             Bob\n"
     ]
    }
   ],
   "source": [
    "# 我们一般用 \\n \\t 来在一句话中实现下面的效果，但是我们可以字节利用 \"\"\"\"\"\"\" 来直接输入就行了\n",
    "print('''Dear Alice,\n",
    "Eve's cat has been arrested for catnapping, cat burglary, and extortion.\n",
    "             Sincerely,\n",
    "             Bob''')"
   ],
   "metadata": {
    "collapsed": false,
    "ExecuteTime": {
     "end_time": "2023-05-19T09:01:35.477870Z",
     "start_time": "2023-05-19T09:01:35.474116Z"
    }
   }
  }
 ],
 "metadata": {
  "kernelspec": {
   "display_name": "Python 3",
   "language": "python",
   "name": "python3"
  },
  "language_info": {
   "codemirror_mode": {
    "name": "ipython",
    "version": 2
   },
   "file_extension": ".py",
   "mimetype": "text/x-python",
   "name": "python",
   "nbconvert_exporter": "python",
   "pygments_lexer": "ipython2",
   "version": "2.7.6"
  }
 },
 "nbformat": 4,
 "nbformat_minor": 0
}
