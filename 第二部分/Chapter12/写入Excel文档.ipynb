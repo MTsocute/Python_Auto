{
 "cells": [
  {
   "cell_type": "markdown",
   "source": [
    "# 1. 创建和保存文档"
   ],
   "metadata": {
    "collapsed": false
   }
  },
  {
   "cell_type": "markdown",
   "source": [
    "## 创建一个空的 Workbook 对象"
   ],
   "metadata": {
    "collapsed": false
   }
  },
  {
   "cell_type": "code",
   "execution_count": 5,
   "outputs": [
    {
     "data": {
      "text/plain": "['Sheet']"
     },
     "execution_count": 5,
     "metadata": {},
     "output_type": "execute_result"
    }
   ],
   "source": [
    "import openpyxl\n",
    "\n",
    "wb = openpyxl.Workbook()\n",
    "\n",
    "wb.sheetnames"
   ],
   "metadata": {
    "collapsed": false,
    "ExecuteTime": {
     "end_time": "2023-06-13T10:25:08.407611Z",
     "start_time": "2023-06-13T10:25:08.402168Z"
    }
   }
  },
  {
   "cell_type": "code",
   "execution_count": 8,
   "outputs": [],
   "source": [
    "sheet = wb.active"
   ],
   "metadata": {
    "collapsed": false,
    "ExecuteTime": {
     "end_time": "2023-06-13T10:32:01.407897Z",
     "start_time": "2023-06-13T10:32:01.396886Z"
    }
   }
  },
  {
   "cell_type": "code",
   "execution_count": 10,
   "outputs": [
    {
     "data": {
      "text/plain": "'Sheet'"
     },
     "execution_count": 10,
     "metadata": {},
     "output_type": "execute_result"
    }
   ],
   "source": [
    "sheet.title"
   ],
   "metadata": {
    "collapsed": false,
    "ExecuteTime": {
     "end_time": "2023-06-13T10:32:29.010270Z",
     "start_time": "2023-06-13T10:32:28.986282Z"
    }
   }
  },
  {
   "cell_type": "markdown",
   "source": [
    "## 修改工作表的表名"
   ],
   "metadata": {
    "collapsed": false
   }
  },
  {
   "cell_type": "code",
   "execution_count": 12,
   "outputs": [],
   "source": [
    "sheet.title = 'Spam Bacon Eggs Sheet'"
   ],
   "metadata": {
    "collapsed": false,
    "ExecuteTime": {
     "end_time": "2023-06-13T10:32:51.099588Z",
     "start_time": "2023-06-13T10:32:51.075953Z"
    }
   }
  },
  {
   "cell_type": "code",
   "execution_count": 13,
   "outputs": [
    {
     "data": {
      "text/plain": "['Spam Bacon Eggs Sheet']"
     },
     "execution_count": 13,
     "metadata": {},
     "output_type": "execute_result"
    }
   ],
   "source": [
    "wb.sheetnames"
   ],
   "metadata": {
    "collapsed": false,
    "ExecuteTime": {
     "end_time": "2023-06-13T10:32:58.094776Z",
     "start_time": "2023-06-13T10:32:58.089484Z"
    }
   }
  },
  {
   "cell_type": "markdown",
   "source": [
    "## 保存一个 Excel 文件"
   ],
   "metadata": {
    "collapsed": false
   }
  },
  {
   "cell_type": "markdown",
   "source": [],
   "metadata": {
    "collapsed": false
   }
  },
  {
   "cell_type": "code",
   "execution_count": 14,
   "outputs": [
    {
     "name": "stdout",
     "output_type": "stream",
     "text": [
      "Done\n"
     ]
    }
   ],
   "source": [
    "import openpyxl\n",
    "\n",
    "wb = openpyxl.Workbook()    # 创建一个 Workbook 对象\n",
    "sheet = wb.active\n",
    "sheet.title = 'NMB'\n",
    "\n",
    "# 保存文件到指定文字\n",
    "wb.save('/Users/momo/Desktop/Python_Auto/第二部分/Chapter12/data/tsDemo.xlsx')\n",
    "print('Done')"
   ],
   "metadata": {
    "collapsed": false,
    "ExecuteTime": {
     "end_time": "2023-06-13T10:37:30.282815Z",
     "start_time": "2023-06-13T10:37:30.266805Z"
    }
   }
  },
  {
   "cell_type": "markdown",
   "source": [
    "# 2. 创建和删除文档"
   ],
   "metadata": {
    "collapsed": false
   }
  },
  {
   "cell_type": "code",
   "execution_count": 16,
   "outputs": [
    {
     "data": {
      "text/plain": "['Sheet']"
     },
     "execution_count": 16,
     "metadata": {},
     "output_type": "execute_result"
    }
   ],
   "source": [
    "import openpyxl\n",
    "\n",
    "wb = openpyxl.Workbook()\n",
    "wb.sheetnames"
   ],
   "metadata": {
    "collapsed": false,
    "ExecuteTime": {
     "end_time": "2023-06-13T10:43:11.161712Z",
     "start_time": "2023-06-13T10:43:11.158135Z"
    }
   }
  },
  {
   "cell_type": "markdown",
   "source": [
    "## 创建工作表\n",
    "> 使用 .create_sheet() 会创建一个默认名为 'Sheet1', 'Sheet2' ... 依次往下的工作表"
   ],
   "metadata": {
    "collapsed": false
   }
  },
  {
   "cell_type": "code",
   "execution_count": 18,
   "outputs": [
    {
     "data": {
      "text/plain": "['Sheet', 'Sheet1', 'Sheet2', 'Sheet3', 'Sheet4']"
     },
     "execution_count": 18,
     "metadata": {},
     "output_type": "execute_result"
    }
   ],
   "source": [
    "wb.create_sheet()\n",
    "wb.create_sheet()\n",
    "wb.create_sheet()\n",
    "wb.create_sheet()\n",
    "\n",
    "wb.sheetnames"
   ],
   "metadata": {
    "collapsed": false,
    "ExecuteTime": {
     "end_time": "2023-06-13T10:44:28.827750Z",
     "start_time": "2023-06-13T10:44:28.823607Z"
    }
   }
  },
  {
   "cell_type": "markdown",
   "source": [
    "> 利用参数决定，sheet 名和 插入位置"
   ],
   "metadata": {
    "collapsed": false
   }
  },
  {
   "cell_type": "code",
   "execution_count": 19,
   "outputs": [
    {
     "data": {
      "text/plain": "<Worksheet \"First Sheet\">"
     },
     "execution_count": 19,
     "metadata": {},
     "output_type": "execute_result"
    }
   ],
   "source": [
    "wb.create_sheet(index=0, title='First Sheet')"
   ],
   "metadata": {
    "collapsed": false,
    "ExecuteTime": {
     "end_time": "2023-06-13T10:46:25.938212Z",
     "start_time": "2023-06-13T10:46:25.933184Z"
    }
   }
  },
  {
   "cell_type": "code",
   "execution_count": 20,
   "outputs": [
    {
     "data": {
      "text/plain": "['First Sheet', 'Sheet', 'Sheet1', 'Sheet2', 'Sheet3', 'Sheet4']"
     },
     "execution_count": 20,
     "metadata": {},
     "output_type": "execute_result"
    }
   ],
   "source": [
    "wb.sheetnames"
   ],
   "metadata": {
    "collapsed": false,
    "ExecuteTime": {
     "end_time": "2023-06-13T10:46:36.186501Z",
     "start_time": "2023-06-13T10:46:36.183602Z"
    }
   }
  },
  {
   "cell_type": "markdown",
   "source": [
    "## 删除工作表\n",
    "> del wb['工作表名']"
   ],
   "metadata": {
    "collapsed": false
   }
  },
  {
   "cell_type": "code",
   "execution_count": 27,
   "outputs": [
    {
     "data": {
      "text/plain": "['First Sheet', 'Sheet', 'Sheet4']"
     },
     "execution_count": 27,
     "metadata": {},
     "output_type": "execute_result"
    }
   ],
   "source": [
    "del wb['Sheet2']\n",
    "wb.sheetnames"
   ],
   "metadata": {
    "collapsed": false,
    "ExecuteTime": {
     "end_time": "2023-06-13T10:53:34.645621Z",
     "start_time": "2023-06-13T10:53:34.641068Z"
    }
   }
  },
  {
   "cell_type": "markdown",
   "source": [
    "# 3. 修改单元格内容"
   ],
   "metadata": {
    "collapsed": false
   }
  },
  {
   "cell_type": "code",
   "execution_count": 30,
   "outputs": [
    {
     "data": {
      "text/plain": "'BWM'"
     },
     "execution_count": 30,
     "metadata": {},
     "output_type": "execute_result"
    }
   ],
   "source": [
    "import openpyxl\n",
    "\n",
    "wb = openpyxl.load_workbook('/Users/momo/Desktop/Python_Auto/第二部分/Chapter12/data/tsDemo.xlsx')\n",
    "sheet = wb.active\n",
    "\n",
    "sheet['A1'].value = \"BWM\"\n",
    "\n",
    "sheet['A1'].value"
   ],
   "metadata": {
    "collapsed": false,
    "ExecuteTime": {
     "end_time": "2023-06-13T10:58:31.166181Z",
     "start_time": "2023-06-13T10:58:31.160505Z"
    }
   }
  },
  {
   "cell_type": "markdown",
   "source": [
    "## 3.1 公式\n",
    "> 其实公式也就是修改单元格的一种"
   ],
   "metadata": {
    "collapsed": false
   }
  },
  {
   "cell_type": "code",
   "execution_count": 57,
   "outputs": [
    {
     "name": "stdout",
     "output_type": "stream",
     "text": [
      "Done\n"
     ]
    }
   ],
   "source": [
    "import openpyxl\n",
    "wb = openpyxl.Workbook()\n",
    "sheet = wb.active\n",
    "\n",
    "sheet['A1'] = 200\n",
    "sheet['A2'] = 300\n",
    "\n",
    "# 插入公式\n",
    "sheet['A3'] = \"=SUM(A1:A2)\"\n",
    "wb.save('/Users/momo/Desktop/Python_Auto/第二部分/Chapter12/data/writeFormula.xlsx')\n",
    "\n",
    "print(\"Done\")"
   ],
   "metadata": {
    "collapsed": false,
    "ExecuteTime": {
     "end_time": "2023-06-13T11:37:19.278958Z",
     "start_time": "2023-06-13T11:37:19.243355Z"
    }
   }
  },
  {
   "cell_type": "markdown",
   "source": [
    "## 3.2 读取公式"
   ],
   "metadata": {
    "collapsed": false
   }
  },
  {
   "cell_type": "code",
   "execution_count": 32,
   "outputs": [
    {
     "data": {
      "text/plain": "'=SUM(A1:A2)'"
     },
     "execution_count": 32,
     "metadata": {},
     "output_type": "execute_result"
    }
   ],
   "source": [
    "sheet['A3'].value"
   ],
   "metadata": {
    "collapsed": false,
    "ExecuteTime": {
     "end_time": "2023-06-13T11:15:53.780841Z",
     "start_time": "2023-06-13T11:15:53.772941Z"
    }
   }
  },
  {
   "cell_type": "markdown",
   "source": [
    "> 你不难发现它里面的值是一个公式，如果我们需要读取的时候公式计算的结果，就要修改 load_workbook() data_only 参数为 True\n",
    "> 极其不推荐使用，如果不是自己手动写入的数据，读取的时候，就是 None"
   ],
   "metadata": {
    "collapsed": false
   }
  },
  {
   "cell_type": "code",
   "execution_count": 59,
   "outputs": [
    {
     "name": "stdout",
     "output_type": "stream",
     "text": [
      "500\n"
     ]
    }
   ],
   "source": [
    "import openpyxl\n",
    "\n",
    "wb = openpyxl.load_workbook('/Users/momo/Desktop/Python_Auto/第二部分/Chapter12/data/writeFormula.xlsx', data_only=True)\n",
    "sheet = wb['Sheet']\n",
    "\n",
    "# Get the formula string\n",
    "formula_str = sheet['A3'].value\n",
    "\n",
    "# Evaluate the formula\n",
    "result = sheet.cell(row=3, column=1).value\n",
    "\n",
    "print(result)"
   ],
   "metadata": {
    "collapsed": false,
    "ExecuteTime": {
     "end_time": "2023-06-13T11:37:49.005096Z",
     "start_time": "2023-06-13T11:37:48.994113Z"
    }
   }
  }
 ],
 "metadata": {
  "kernelspec": {
   "display_name": "Python 3",
   "language": "python",
   "name": "python3"
  },
  "language_info": {
   "codemirror_mode": {
    "name": "ipython",
    "version": 2
   },
   "file_extension": ".py",
   "mimetype": "text/x-python",
   "name": "python",
   "nbconvert_exporter": "python",
   "pygments_lexer": "ipython2",
   "version": "2.7.6"
  }
 },
 "nbformat": 4,
 "nbformat_minor": 0
}
