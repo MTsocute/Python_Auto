{
 "cells": [
  {
   "cell_type": "markdown",
   "source": [
    "# 往 A 列中添加一些数据"
   ],
   "metadata": {
    "collapsed": false
   }
  },
  {
   "cell_type": "code",
   "execution_count": null,
   "outputs": [],
   "source": [
    "import openpyxl\n",
    "wb = openpyxl.Workbook()\n",
    "sheet = wb.active\n",
    "\n",
    "# create some data in column A\n",
    "for i in range(1, 11):\n",
    "    sheet['A' + str(i)] = i"
   ],
   "metadata": {
    "collapsed": false
   }
  },
  {
   "cell_type": "markdown",
   "source": [
    "## 绘制一个条形图"
   ],
   "metadata": {
    "collapsed": false
   }
  },
  {
   "cell_type": "code",
   "execution_count": null,
   "outputs": [],
   "source": [
    "from openpyxl.chart import BarChart, Reference\n",
    "\n",
    "# 创建条形图对象\n",
    "chart = BarChart()\n",
    "\n",
    "\"\"\"\n",
    "    sheet：要引用的工作表对象。\n",
    "    min_col：数据范围的起始列索引。\n",
    "    min_row：数据范围的起始行索引。\n",
    "    max_col：（可选）数据范围的结束列索引。如果不提供 max_col，则默认与 min_col 相同，表示只有一列数据。\n",
    "    max_row：（可选）数据范围的结束行索引。\n",
    "\"\"\"\n",
    "\n",
    "# 设置数据范围：A1~A10, min_row 只有 A 一列\n",
    "values = Reference(sheet, min_col=1, min_row=1, max_row=10)\n",
    "\n",
    "# 添加会图所需要的数据\n",
    "chart.add_data(values)\n",
    "\n",
    "# 将条形图添加到工作表： C1 就是图表的开始位置\n",
    "sheet.add_chart(chart, \"C1\")\n",
    "\n",
    "# 保存工作簿\n",
    "wb.save('/Users/momo/Desktop/Python_Auto/第二部分/Chapter12/data/bar_chart.xlsx')"
   ],
   "metadata": {
    "collapsed": false
   }
  },
  {
   "cell_type": "markdown",
   "source": [
    "# 折线图"
   ],
   "metadata": {
    "collapsed": false
   }
  },
  {
   "cell_type": "code",
   "execution_count": 3,
   "outputs": [
    {
     "name": "stdout",
     "output_type": "stream",
     "text": [
      "Done\n"
     ]
    }
   ],
   "source": [
    "from openpyxl.chart import LineChart\n",
    "\n",
    "# 创建折线图对象\n",
    "chart = LineChart()\n",
    "\n",
    "# 设置数据范围\n",
    "values = Reference(sheet, min_col=1, min_row=1, max_row=10)\n",
    "# 使用 titles_from_data=True 可以将数据范围中的第一行作为图例\n",
    "chart.add_data(values, titles_from_data=True)\n",
    "\n",
    "# 将折线图添加到工作表\n",
    "sheet.add_chart(chart, \"C1\")\n",
    "\n",
    "# 保存工作簿\n",
    "wb.save('/Users/momo/Desktop/Python_Auto/第二部分/Chapter12/data/line_chart.xlsx')\n",
    "print('Done')"
   ],
   "metadata": {
    "collapsed": false,
    "ExecuteTime": {
     "end_time": "2023-06-13T12:25:11.869185Z",
     "start_time": "2023-06-13T12:25:11.833344Z"
    }
   }
  }
 ],
 "metadata": {
  "kernelspec": {
   "display_name": "Python 3",
   "language": "python",
   "name": "python3"
  },
  "language_info": {
   "codemirror_mode": {
    "name": "ipython",
    "version": 2
   },
   "file_extension": ".py",
   "mimetype": "text/x-python",
   "name": "python",
   "nbconvert_exporter": "python",
   "pygments_lexer": "ipython2",
   "version": "2.7.6"
  }
 },
 "nbformat": 4,
 "nbformat_minor": 0
}
