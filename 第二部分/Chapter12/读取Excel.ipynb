{
 "cells": [
  {
   "cell_type": "markdown",
   "source": [
    "# 用 openyxl 模块打开 EXCEL 文档"
   ],
   "metadata": {
    "collapsed": false
   }
  },
  {
   "cell_type": "markdown",
   "source": [
    "## 返回工作簿对象"
   ],
   "metadata": {
    "collapsed": false
   }
  },
  {
   "cell_type": "code",
   "execution_count": 1,
   "outputs": [
    {
     "data": {
      "text/plain": "openpyxl.workbook.workbook.Workbook"
     },
     "execution_count": 1,
     "metadata": {},
     "output_type": "execute_result"
    }
   ],
   "source": [
    "import openpyxl\n",
    "\n",
    "# 返回一个 workbook 对象\n",
    "wb = openpyxl.load_workbook('/Users/momo/Desktop/Python_Auto/第二部分/Chapter12/data/example.xlsx')\n",
    "\n",
    "type(wb)"
   ],
   "metadata": {
    "collapsed": false,
    "ExecuteTime": {
     "end_time": "2023-06-09T11:54:25.898690Z",
     "start_time": "2023-06-09T11:54:25.394420Z"
    }
   }
  },
  {
   "cell_type": "markdown",
   "source": [
    "# 从工作簿中取得工作表"
   ],
   "metadata": {
    "collapsed": false
   }
  },
  {
   "cell_type": "markdown",
   "source": [
    "## 1、返回所有工作表的名字"
   ],
   "metadata": {
    "collapsed": false
   }
  },
  {
   "cell_type": "code",
   "execution_count": 17,
   "outputs": [
    {
     "data": {
      "text/plain": "['Sheet1', 'Sheet2', 'Sheet3']"
     },
     "execution_count": 17,
     "metadata": {},
     "output_type": "execute_result"
    }
   ],
   "source": [
    "import openpyxl\n",
    "\n",
    "# 返回一个 workbook 对象\n",
    "wb2= openpyxl.load_workbook('/Users/momo/Desktop/Python_Auto/第二部分/Chapter12/data/example.xlsx')\n",
    "\n",
    "# 这个属性中存有所有的工作表\n",
    "wb2.sheetnames"
   ],
   "metadata": {
    "collapsed": false,
    "ExecuteTime": {
     "end_time": "2023-06-09T11:59:57.144785Z",
     "start_time": "2023-06-09T11:59:57.131142Z"
    }
   }
  },
  {
   "cell_type": "markdown",
   "source": [
    "## 2、返回工作表对象"
   ],
   "metadata": {
    "collapsed": false
   }
  },
  {
   "cell_type": "code",
   "execution_count": 21,
   "outputs": [
    {
     "data": {
      "text/plain": "<Worksheet \"Sheet3\">"
     },
     "execution_count": 21,
     "metadata": {},
     "output_type": "execute_result"
    }
   ],
   "source": [
    "# 使用列表 ['工作表名'] 返回对应工作表对象\n",
    "sheet = wb['Sheet3']\n",
    "\n",
    "sheet"
   ],
   "metadata": {
    "collapsed": false,
    "ExecuteTime": {
     "end_time": "2023-06-09T12:06:56.895999Z",
     "start_time": "2023-06-09T12:06:56.890091Z"
    }
   }
  },
  {
   "cell_type": "code",
   "execution_count": 22,
   "outputs": [
    {
     "data": {
      "text/plain": "openpyxl.worksheet.worksheet.Worksheet"
     },
     "execution_count": 22,
     "metadata": {},
     "output_type": "execute_result"
    }
   ],
   "source": [
    "type(sheet)"
   ],
   "metadata": {
    "collapsed": false,
    "ExecuteTime": {
     "end_time": "2023-06-09T12:07:36.892187Z",
     "start_time": "2023-06-09T12:07:36.885201Z"
    }
   }
  },
  {
   "cell_type": "markdown",
   "source": [
    "### 2.1 Sheet 对象 tittle 属性"
   ],
   "metadata": {
    "collapsed": false
   }
  },
  {
   "cell_type": "code",
   "execution_count": 23,
   "outputs": [
    {
     "data": {
      "text/plain": "'Sheet3'"
     },
     "execution_count": 23,
     "metadata": {},
     "output_type": "execute_result"
    }
   ],
   "source": [
    "sheet.title"
   ],
   "metadata": {
    "collapsed": false,
    "ExecuteTime": {
     "end_time": "2023-06-09T12:10:37.836125Z",
     "start_time": "2023-06-09T12:10:37.821513Z"
    }
   }
  },
  {
   "cell_type": "markdown",
   "source": [
    "### 2.2 Sheet 对象 max_row ｜ max_column 确定表的大小\n",
    "> 返回的是 int 类型"
   ],
   "metadata": {
    "collapsed": false
   }
  },
  {
   "cell_type": "code",
   "execution_count": 45,
   "outputs": [
    {
     "name": "stdout",
     "output_type": "stream",
     "text": [
      "当前表格的大小是：7 行 x 3 列\n"
     ]
    }
   ],
   "source": [
    "print(f'当前表格的大小是：{sheet.max_row} 行 x {sheet.max_column} 列')"
   ],
   "metadata": {
    "collapsed": false,
    "ExecuteTime": {
     "end_time": "2023-06-09T12:37:56.384847Z",
     "start_time": "2023-06-09T12:37:56.376830Z"
    }
   }
  },
  {
   "cell_type": "markdown",
   "source": [
    "## 3、 返回当前活动的工作表"
   ],
   "metadata": {
    "collapsed": false
   }
  },
  {
   "cell_type": "code",
   "execution_count": 1,
   "outputs": [
    {
     "data": {
      "text/plain": "<Worksheet \"Sheet1\">"
     },
     "execution_count": 1,
     "metadata": {},
     "output_type": "execute_result"
    }
   ],
   "source": [
    "import openpyxl\n",
    "\n",
    "# 返回一个 workbook 对象\n",
    "wb2= openpyxl.load_workbook('/Users/momo/Desktop/Python_Auto/第二部分/Chapter12/data/example.xlsx')\n",
    "\n",
    "# 这个属性中存有所有的工作表\n",
    "wb2.active"
   ],
   "metadata": {
    "collapsed": false,
    "ExecuteTime": {
     "end_time": "2023-06-13T10:28:17.924212Z",
     "start_time": "2023-06-13T10:28:17.668198Z"
    }
   }
  },
  {
   "cell_type": "markdown",
   "source": [
    "> 上述报错的原因就是因为表没有打开，打开了才行"
   ],
   "metadata": {
    "collapsed": false
   }
  },
  {
   "cell_type": "markdown",
   "source": [
    "# 从表中取得单元格"
   ],
   "metadata": {
    "collapsed": false
   }
  },
  {
   "cell_type": "markdown",
   "source": [
    "## 1. 返回 Cell（单元格）对象"
   ],
   "metadata": {
    "collapsed": false
   }
  },
  {
   "cell_type": "code",
   "execution_count": 27,
   "outputs": [
    {
     "data": {
      "text/plain": "<Cell 'Sheet1'.A1>"
     },
     "execution_count": 27,
     "metadata": {},
     "output_type": "execute_result"
    }
   ],
   "source": [
    "import os, openpyxl\n",
    "\n",
    "os.chdir('/Users/momo/Desktop/Python_Auto/第二部分/Chapter12')\n",
    "\n",
    "workbook = openpyxl.load_workbook('./data/example.xlsx')\n",
    "\n",
    "sheet = workbook['Sheet1']\n",
    "\n",
    "# 获取 A1 单元格对象\n",
    "cell_A1 = sheet['A1']\n",
    "\n",
    "cell_A1"
   ],
   "metadata": {
    "collapsed": false,
    "ExecuteTime": {
     "end_time": "2023-06-09T12:17:51.660292Z",
     "start_time": "2023-06-09T12:17:51.636411Z"
    }
   }
  },
  {
   "cell_type": "markdown",
   "source": [
    "### 1.1 Cell 的value属性"
   ],
   "metadata": {
    "collapsed": false
   }
  },
  {
   "cell_type": "code",
   "execution_count": 29,
   "outputs": [
    {
     "data": {
      "text/plain": "datetime.datetime(2015, 4, 5, 13, 34, 2)"
     },
     "execution_count": 29,
     "metadata": {},
     "output_type": "execute_result"
    }
   ],
   "source": [
    "cell_A1.value   # 包含这个单元格所存储的值"
   ],
   "metadata": {
    "collapsed": false,
    "ExecuteTime": {
     "end_time": "2023-06-09T12:19:29.182623Z",
     "start_time": "2023-06-09T12:19:29.174785Z"
    }
   }
  },
  {
   "cell_type": "markdown",
   "source": [
    "### 1.2 Cell 的 row column coordinate 属性"
   ],
   "metadata": {
    "collapsed": false
   }
  },
  {
   "cell_type": "code",
   "execution_count": 30,
   "outputs": [
    {
     "data": {
      "text/plain": "'Cherries'"
     },
     "execution_count": 30,
     "metadata": {},
     "output_type": "execute_result"
    }
   ],
   "source": [
    "cell_B2 = sheet['B2']\n",
    "cell_B2.value"
   ],
   "metadata": {
    "collapsed": false,
    "ExecuteTime": {
     "end_time": "2023-06-09T12:20:21.291585Z",
     "start_time": "2023-06-09T12:20:21.278889Z"
    }
   }
  },
  {
   "cell_type": "code",
   "execution_count": 33,
   "outputs": [
    {
     "data": {
      "text/plain": "'Row 2, Column 2 is Cherries'"
     },
     "execution_count": 33,
     "metadata": {},
     "output_type": "execute_result"
    }
   ],
   "source": [
    "'Row ' + str(cell_B2.row) + ', Column ' + str(cell_B2.column) + ' is ' + cell_B2.value"
   ],
   "metadata": {
    "collapsed": false,
    "ExecuteTime": {
     "end_time": "2023-06-09T12:24:28.529763Z",
     "start_time": "2023-06-09T12:24:28.505971Z"
    }
   }
  },
  {
   "cell_type": "code",
   "execution_count": 34,
   "outputs": [
    {
     "data": {
      "text/plain": "'Cell B2 is Cherries'"
     },
     "execution_count": 34,
     "metadata": {},
     "output_type": "execute_result"
    }
   ],
   "source": [
    "'Cell ' + cell_B2.coordinate + ' is ' + cell_B2.value"
   ],
   "metadata": {
    "collapsed": false,
    "ExecuteTime": {
     "end_time": "2023-06-09T12:24:57.798971Z",
     "start_time": "2023-06-09T12:24:57.772336Z"
    }
   }
  },
  {
   "cell_type": "markdown",
   "source": [
    "## 2. 使用整数返回 Cell（单元格）对象"
   ],
   "metadata": {
    "collapsed": false
   }
  },
  {
   "cell_type": "code",
   "execution_count": 35,
   "outputs": [
    {
     "data": {
      "text/plain": "<Cell 'Sheet1'.B1>"
     },
     "execution_count": 35,
     "metadata": {},
     "output_type": "execute_result"
    }
   ],
   "source": [
    "sheet.cell(row=1, column=2)"
   ],
   "metadata": {
    "collapsed": false,
    "ExecuteTime": {
     "end_time": "2023-06-09T12:27:56.189856Z",
     "start_time": "2023-06-09T12:27:56.165787Z"
    }
   }
  },
  {
   "cell_type": "code",
   "execution_count": 36,
   "outputs": [
    {
     "data": {
      "text/plain": "85"
     },
     "execution_count": 36,
     "metadata": {},
     "output_type": "execute_result"
    }
   ],
   "source": [
    "sheet.cell(row=2, column=3).value"
   ],
   "metadata": {
    "collapsed": false,
    "ExecuteTime": {
     "end_time": "2023-06-09T12:28:50.055473Z",
     "start_time": "2023-06-09T12:28:50.032717Z"
    }
   }
  },
  {
   "cell_type": "code",
   "execution_count": 37,
   "outputs": [
    {
     "name": "stdout",
     "output_type": "stream",
     "text": [
      "1 Apples\n",
      "3 Pears\n",
      "5 Apples\n",
      "7 Strawberries\n"
     ]
    }
   ],
   "source": [
    "for i in range(1, 8, 2):\n",
    "    print(i, sheet.cell(row=i, column=2).value)"
   ],
   "metadata": {
    "collapsed": false,
    "ExecuteTime": {
     "end_time": "2023-06-09T12:29:21.388490Z",
     "start_time": "2023-06-09T12:29:21.352636Z"
    }
   }
  },
  {
   "cell_type": "markdown",
   "source": [
    "# 列字母和对应数字顺序的转换"
   ],
   "metadata": {
    "collapsed": false
   }
  },
  {
   "cell_type": "code",
   "execution_count": 51,
   "outputs": [
    {
     "name": "stdout",
     "output_type": "stream",
     "text": [
      "J\n",
      "HM\n",
      "--------------------------------\n",
      "27\n",
      "55\n"
     ]
    }
   ],
   "source": [
    "from openpyxl.utils import get_column_letter, column_index_from_string\n",
    "\n",
    "# int 转换 char\n",
    "print(get_column_letter(10))\n",
    "print(get_column_letter(221))\n",
    "\n",
    "print('-'*32)\n",
    "\n",
    "# char 转 int\n",
    "print(column_index_from_string('AA'))\n",
    "print(column_index_from_string('BC'))"
   ],
   "metadata": {
    "collapsed": false,
    "ExecuteTime": {
     "end_time": "2023-06-09T12:44:36.480846Z",
     "start_time": "2023-06-09T12:44:36.469103Z"
    }
   }
  },
  {
   "cell_type": "markdown",
   "source": [
    "## 结合返回表大小的函数一起用"
   ],
   "metadata": {
    "collapsed": false
   }
  },
  {
   "cell_type": "code",
   "execution_count": 53,
   "outputs": [
    {
     "data": {
      "text/plain": "'C'"
     },
     "execution_count": 53,
     "metadata": {},
     "output_type": "execute_result"
    }
   ],
   "source": [
    "get_column_letter(sheet.max_column)"
   ],
   "metadata": {
    "collapsed": false,
    "ExecuteTime": {
     "end_time": "2023-06-09T12:46:53.160384Z",
     "start_time": "2023-06-09T12:46:53.159787Z"
    }
   }
  },
  {
   "cell_type": "markdown",
   "source": [
    "# 从表中取得行和列\n",
    "> 可以将 Worksheet 对象切片，取得电子表格中一行、一列或一个区中的所有 Cell 对象"
   ],
   "metadata": {
    "collapsed": false
   }
  },
  {
   "cell_type": "code",
   "execution_count": 55,
   "outputs": [
    {
     "data": {
      "text/plain": "((<Cell 'Sheet1'.A1>, <Cell 'Sheet1'.B1>, <Cell 'Sheet1'.C1>),\n (<Cell 'Sheet1'.A2>, <Cell 'Sheet1'.B2>, <Cell 'Sheet1'.C2>),\n (<Cell 'Sheet1'.A3>, <Cell 'Sheet1'.B3>, <Cell 'Sheet1'.C3>))"
     },
     "execution_count": 55,
     "metadata": {},
     "output_type": "execute_result"
    }
   ],
   "source": [
    "import openpyxl\n",
    "\n",
    "# 返回一个 workbook 对象\n",
    "bugyellow = openpyxl.load_workbook(\n",
    "    '/Users/momo/Desktop/Python_Auto/第二部分/Chapter12/data/example.xlsx')\n",
    "\n",
    "sheet1 = bugyellow['Sheet1']\n",
    "\n",
    "# 返回里的类型就是元组\n",
    "A1_to_C3_Area = sheet1['A1':'C3']\n",
    "\n",
    "A1_to_C3_Area"
   ],
   "metadata": {
    "collapsed": false,
    "ExecuteTime": {
     "end_time": "2023-06-09T12:53:01.769112Z",
     "start_time": "2023-06-09T12:53:01.744563Z"
    }
   }
  },
  {
   "cell_type": "markdown",
   "source": [
    "## 1. 遍历下面的所有元组(遍历所有的单元格)"
   ],
   "metadata": {
    "collapsed": false
   }
  },
  {
   "cell_type": "code",
   "execution_count": 59,
   "outputs": [
    {
     "name": "stdout",
     "output_type": "stream",
     "text": [
      "A1 2015-04-05 13:34:02\n",
      "B1 Apples\n",
      "C1 73\n",
      "--- END OF ROW ---\n",
      "A2 2015-04-05 03:41:23\n",
      "B2 Cherries\n",
      "C2 85\n",
      "--- END OF ROW ---\n",
      "A3 2015-04-06 12:46:51\n",
      "B3 Pears\n",
      "C3 14\n",
      "--- END OF ROW ---\n"
     ]
    }
   ],
   "source": [
    "# 读取行元组\n",
    "for rowOfCellObjects in sheet1['A1':'C3']:\n",
    "    # 读取每一行的列元组\n",
    "    for cellObj in rowOfCellObjects:\n",
    "        print(cellObj.coordinate, cellObj.value)\n",
    "    print('--- END OF ROW ---')"
   ],
   "metadata": {
    "collapsed": false,
    "ExecuteTime": {
     "end_time": "2023-06-09T12:56:05.180513Z",
     "start_time": "2023-06-09T12:56:05.179364Z"
    }
   }
  },
  {
   "cell_type": "markdown",
   "source": [
    "## 2. 获取指定列下的所有内容"
   ],
   "metadata": {
    "collapsed": false
   }
  },
  {
   "cell_type": "code",
   "execution_count": 6,
   "outputs": [
    {
     "name": "stdout",
     "output_type": "stream",
     "text": [
      "[(<Cell 'Sheet1'.A1>, <Cell 'Sheet1'.A2>, <Cell 'Sheet1'.A3>, <Cell 'Sheet1'.A4>, <Cell 'Sheet1'.A5>, <Cell 'Sheet1'.A6>, <Cell 'Sheet1'.A7>), (<Cell 'Sheet1'.B1>, <Cell 'Sheet1'.B2>, <Cell 'Sheet1'.B3>, <Cell 'Sheet1'.B4>, <Cell 'Sheet1'.B5>, <Cell 'Sheet1'.B6>, <Cell 'Sheet1'.B7>), (<Cell 'Sheet1'.C1>, <Cell 'Sheet1'.C2>, <Cell 'Sheet1'.C3>, <Cell 'Sheet1'.C4>, <Cell 'Sheet1'.C5>, <Cell 'Sheet1'.C6>, <Cell 'Sheet1'.C7>)]\n"
     ]
    },
    {
     "data": {
      "text/plain": "(<Cell 'Sheet1'.B1>,\n <Cell 'Sheet1'.B2>,\n <Cell 'Sheet1'.B3>,\n <Cell 'Sheet1'.B4>,\n <Cell 'Sheet1'.B5>,\n <Cell 'Sheet1'.B6>,\n <Cell 'Sheet1'.B7>)"
     },
     "execution_count": 6,
     "metadata": {},
     "output_type": "execute_result"
    }
   ],
   "source": [
    "# 返回所有的列\n",
    "import openpyxl\n",
    "bugyellow = openpyxl.load_workbook(\n",
    "    '/Users/momo/Desktop/Python_Auto/第二部分/Chapter12/data/example.xlsx')\n",
    "\n",
    "sheet1 = bugyellow['Sheet1']\n",
    "\n",
    "# 转换成列表\n",
    "All_col = list(sheet1.columns)\n",
    "print(All_col)\n",
    "\n",
    "# 返回B列\n",
    "B_col = All_col[1]\n",
    "B_col"
   ],
   "metadata": {
    "collapsed": false,
    "ExecuteTime": {
     "end_time": "2023-06-12T07:36:26.778160Z",
     "start_time": "2023-06-12T07:36:26.763695Z"
    }
   }
  }
 ],
 "metadata": {
  "kernelspec": {
   "display_name": "Python 3",
   "language": "python",
   "name": "python3"
  },
  "language_info": {
   "codemirror_mode": {
    "name": "ipython",
    "version": 2
   },
   "file_extension": ".py",
   "mimetype": "text/x-python",
   "name": "python",
   "nbconvert_exporter": "python",
   "pygments_lexer": "ipython2",
   "version": "2.7.6"
  }
 },
 "nbformat": 4,
 "nbformat_minor": 0
}
