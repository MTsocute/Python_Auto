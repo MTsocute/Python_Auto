{
 "cells": [
  {
   "cell_type": "markdown",
   "source": [
    "# 先创建一些用于添加徽章的图片"
   ],
   "metadata": {
    "collapsed": false
   }
  },
  {
   "cell_type": "code",
   "execution_count": 4,
   "outputs": [
    {
     "name": "stdout",
     "output_type": "stream",
     "text": [
      "Done\n",
      "Done\n",
      "Done\n",
      "Done\n"
     ]
    }
   ],
   "source": [
    "from PIL import Image as img\n",
    "\n",
    "for index in range(1, 5):\n",
    "    im = img.new('RGBA', (2000, 2000), 'white')\n",
    "    im.save(f'img/img{index}.png')\n",
    "    print(\"Done\")"
   ],
   "metadata": {
    "collapsed": false,
    "ExecuteTime": {
     "end_time": "2023-06-25T13:06:12.456696Z",
     "start_time": "2023-06-25T13:06:11.701404Z"
    }
   }
  },
  {
   "cell_type": "markdown",
   "source": [
    "# 第一步：打开徽标图像"
   ],
   "metadata": {
    "collapsed": false
   }
  },
  {
   "cell_type": "code",
   "execution_count": 8,
   "outputs": [
    {
     "data": {
      "text/plain": "(808, 768)"
     },
     "execution_count": 8,
     "metadata": {},
     "output_type": "execute_result"
    }
   ],
   "source": [
    "import os\n",
    "from PIL import Image\n",
    "\n",
    "SQUARE_FIT_SIZE = 300\n",
    "\n",
    "LOGO_FILENAME_PATH = 'img/catlogo.png'  # logo 所在位置\n",
    "\n",
    "logoIm = Image.open(LOGO_FILENAME_PATH)  # 创建 logo 的 Image 对象\n",
    "logoWidth, logoHeight = logoIm.size  # 获取文件大小\n",
    "logoIm.size"
   ],
   "metadata": {
    "collapsed": false,
    "ExecuteTime": {
     "end_time": "2023-06-25T13:09:00.895313Z",
     "start_time": "2023-06-25T13:09:00.890428Z"
    }
   }
  },
  {
   "cell_type": "markdown",
   "source": [
    "# 第二部：查看文件夹里的所有文件"
   ],
   "metadata": {
    "collapsed": false
   }
  },
  {
   "cell_type": "code",
   "execution_count": 24,
   "outputs": [
    {
     "name": "stdout",
     "output_type": "stream",
     "text": [
      "(2000, 2000)\n",
      "(2000, 2000)\n",
      "(2000, 2000)\n",
      "(2000, 2000)\n"
     ]
    }
   ],
   "source": [
    "LOGO_FILENAME = 'catlogo.png'\n",
    "for filename in os.listdir('img'):\n",
    "    # 过滤非图片格式结尾的图和logo图\n",
    "    if not (filename.endswith('.png') or filename.endswith('.jpg')) \\\n",
    "            or filename == LOGO_FILENAME:\n",
    "        continue\n",
    "    else:\n",
    "        os.makedirs(\"./withlogo\", exist_ok=True)\n",
    "        im = img.open(f'img/{filename}')\n",
    "        width, height = im.size"
   ],
   "metadata": {
    "collapsed": false,
    "ExecuteTime": {
     "end_time": "2023-06-25T13:26:32.575733Z",
     "start_time": "2023-06-25T13:26:32.566660Z"
    }
   }
  },
  {
   "cell_type": "markdown",
   "source": [
    "# 第三步：调整图像大小"
   ],
   "metadata": {
    "collapsed": false
   }
  },
  {
   "cell_type": "code",
   "execution_count": null,
   "outputs": [],
   "source": [
    "        # 只有在图片长或宽 > 300 才会调整图片\n",
    "        if width > SQUARE_FIT_SIZE and height > SQUARE_FIT_SIZE:\n",
    "            # Calculate the new width and height to resize to.\n",
    "            if width > height:\n",
    "                # 缩小比例：SQUARE_FIT_SIZE / width 就是宽度缩小成该比例后缩小的倍数\n",
    "                height = int((SQUARE_FIT_SIZE / width) * height)\n",
    "                width = SQUARE_FIT_SIZE\n",
    "            else:\n",
    "                width = int((SQUARE_FIT_SIZE / height) * width)\n",
    "                height = SQUARE_FIT_SIZE\n",
    "\n",
    "            # Resize the image.\n",
    "            print('Resizing %s...' % (filename))\n",
    "            im = im.resize((width, height))"
   ],
   "metadata": {
    "collapsed": false
   }
  },
  {
   "cell_type": "markdown",
   "source": [
    "# 第四步：添加 Logo 然后保存文件"
   ],
   "metadata": {
    "collapsed": false
   }
  },
  {
   "cell_type": "code",
   "execution_count": null,
   "outputs": [],
   "source": [
    "        # adding logo\n",
    "        print('Adding logo to %s...' % (filename))\n",
    "        im.paste(logoIm,\n",
    "                 (width - logoWidth, height - logoHeight),  # 位置位于右下角\n",
    "                 logoIm)\n",
    "        # save file\n",
    "        im.save(os.path.join('withLogo', filename))"
   ],
   "metadata": {
    "collapsed": false
   }
  }
 ],
 "metadata": {
  "kernelspec": {
   "display_name": "Python 3",
   "language": "python",
   "name": "python3"
  },
  "language_info": {
   "codemirror_mode": {
    "name": "ipython",
    "version": 2
   },
   "file_extension": ".py",
   "mimetype": "text/x-python",
   "name": "python",
   "nbconvert_exporter": "python",
   "pygments_lexer": "ipython2",
   "version": "2.7.6"
  }
 },
 "nbformat": 4,
 "nbformat_minor": 0
}
