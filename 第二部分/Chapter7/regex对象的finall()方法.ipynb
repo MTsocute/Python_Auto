{
 "cells": [
  {
   "cell_type": "markdown",
   "source": [
    "## search() 和 findall() 的比较"
   ],
   "metadata": {
    "collapsed": false
   }
  },
  {
   "cell_type": "markdown",
   "source": [
    "> findall()方法将返回一组 字符串列表，包含被查找字符串中的所有匹配"
   ],
   "metadata": {
    "collapsed": false
   }
  },
  {
   "cell_type": "code",
   "execution_count": 6,
   "outputs": [
    {
     "data": {
      "text/plain": "'415-555-9999'"
     },
     "execution_count": 6,
     "metadata": {},
     "output_type": "execute_result"
    }
   ],
   "source": [
    "import re\n",
    "\n",
    "# search()方法只能返回第一个匹配到的对象\n",
    "search = re.compile(r'\\d{3}-\\d{3}-\\d{4}')\n",
    "\n",
    "mo1 = search.search('Cell: 415-555-9999 Work: 212-555-0000')\n",
    "\n",
    "mo1.group()"
   ],
   "metadata": {
    "collapsed": false,
    "ExecuteTime": {
     "end_time": "2023-05-21T09:37:40.266278Z",
     "start_time": "2023-05-21T09:37:40.247948Z"
    }
   }
  },
  {
   "cell_type": "code",
   "execution_count": 16,
   "outputs": [
    {
     "data": {
      "text/plain": "['415-555-9999', '212-555-0000']"
     },
     "execution_count": 16,
     "metadata": {},
     "output_type": "execute_result"
    }
   ],
   "source": [
    "import re\n",
    "\n",
    "# findall()方法返回所有的对象\n",
    "find = re.compile(r'\\d{3}-\\d{3}-\\d{4}')\n",
    "\n",
    "# 返回的是一个字符串列表\n",
    "mo2 = find.findall('Cell: 415-555-9999 Work: 212-555-0000')\n",
    "\n",
    "mo2"
   ],
   "metadata": {
    "collapsed": false,
    "ExecuteTime": {
     "end_time": "2023-05-21T09:50:47.917887Z",
     "start_time": "2023-05-21T09:50:47.908592Z"
    }
   }
  },
  {
   "cell_type": "markdown",
   "source": [
    "### findall() + 分组匹配，返回的是元组列表"
   ],
   "metadata": {
    "collapsed": false
   }
  },
  {
   "cell_type": "code",
   "execution_count": 17,
   "outputs": [
    {
     "data": {
      "text/plain": "[('415', '555', '9999'), ('212', '555', '0000')]"
     },
     "execution_count": 17,
     "metadata": {},
     "output_type": "execute_result"
    }
   ],
   "source": [
    "import re\n",
    "\n",
    "# findall + () 会分组\n",
    "# 元组数量对应匹配到符合字符串的数量\n",
    "# () 会让其在元组内部进行拆分\n",
    "find = re.compile(r'(\\d{3})-(\\d{3})-(\\d{4})')\n",
    "\n",
    "mo3 = find.findall('Cell: 415-555-9999 Work: 212-555-0000')\n",
    "\n",
    "mo3"
   ],
   "metadata": {
    "collapsed": false,
    "ExecuteTime": {
     "end_time": "2023-05-23T11:48:42.833792Z",
     "start_time": "2023-05-23T11:48:42.797577Z"
    }
   }
  },
  {
   "cell_type": "markdown",
   "source": [
    "### (()) 这样子的嵌套可以返回一个符合要求的整体"
   ],
   "metadata": {
    "collapsed": false
   }
  },
  {
   "cell_type": "code",
   "execution_count": 15,
   "outputs": [
    {
     "data": {
      "text/plain": "[('123-456-7890', '123', '-', '456', '-', '7890', '', '', ''),\n ('(555) 123-4567 ext. 12345',\n  '(555)',\n  ' ',\n  '123',\n  '-',\n  '4567',\n  ' ext. 12345',\n  'ext.',\n  '12345')]"
     },
     "execution_count": 15,
     "metadata": {},
     "output_type": "execute_result"
    }
   ],
   "source": [
    "phoneRegex = re.compile(r'''\n",
    "(\n",
    "    (\\d{3}|\\(\\d{3}\\))?      # Area code:区号是可有可无的，所以要跟问号\n",
    "    (\\s|-|\\.)?              # Separator：分隔符号一般是 空格 短横 逗号，如果区号没有那也没有，所以跟问号\n",
    "    (\\d{3})                 # First 3 digits of phone number\n",
    "    (\\s|-|\\.)               # separator\n",
    "    (\\d{4})                 # last 4 digits of phone number\n",
    "    # extension：可选的分机号，包括任意数目的空格， 接着 ext、x 或 ext点，任意空白，再接着 2 到 5 位数字\n",
    "    (\\s*(ext|x|ext.)\\s*(\\d{2,5}))?\n",
    ")   # 最外面这个大括号会返回整个电话组\n",
    "''', re.VERBOSE)\n",
    "\n",
    "mo5 = phoneRegex.findall(\"Contact us at: 123-456-7890 or (555) 123-4567 ext. 12345\")\n",
    "mo5"
   ],
   "metadata": {
    "collapsed": false,
    "ExecuteTime": {
     "end_time": "2023-05-23T11:40:42.152819Z",
     "start_time": "2023-05-23T11:40:42.125435Z"
    }
   }
  }
 ],
 "metadata": {
  "kernelspec": {
   "display_name": "Python 3",
   "language": "python",
   "name": "python3"
  },
  "language_info": {
   "codemirror_mode": {
    "name": "ipython",
    "version": 2
   },
   "file_extension": ".py",
   "mimetype": "text/x-python",
   "name": "python",
   "nbconvert_exporter": "python",
   "pygments_lexer": "ipython2",
   "version": "2.7.6"
  }
 },
 "nbformat": 4,
 "nbformat_minor": 0
}
