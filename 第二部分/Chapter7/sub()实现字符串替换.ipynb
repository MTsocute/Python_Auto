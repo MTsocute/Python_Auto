{
 "cells": [
  {
   "cell_type": "markdown",
   "source": [
    "# regex 对象使用 sub() 命令，替换正则对应的子字符串"
   ],
   "metadata": {
    "collapsed": false
   }
  },
  {
   "cell_type": "markdown",
   "source": [
    "> 传入两个参数。\n",
    "> 第一个参数是一个字符串，用于取代发现的匹配。\n",
    "> 第二个参数是正则表达式。"
   ],
   "metadata": {
    "collapsed": false
   }
  },
  {
   "cell_type": "code",
   "execution_count": 5,
   "outputs": [
    {
     "data": {
      "text/plain": "'Agent Alice'"
     },
     "execution_count": 5,
     "metadata": {},
     "output_type": "execute_result"
    }
   ],
   "source": [
    "import re\n",
    "\n",
    "# 匹配到下一个空格就断掉了\n",
    "namesRegex = re.compile(r'Agent \\w+')\n",
    "\n",
    "namesRegex.search('Agent Alice gave the secret documents to Agent Bob.').group()"
   ],
   "metadata": {
    "collapsed": false,
    "ExecuteTime": {
     "end_time": "2023-05-22T11:50:01.721631Z",
     "start_time": "2023-05-22T11:50:01.714999Z"
    }
   }
  },
  {
   "cell_type": "code",
   "execution_count": 6,
   "outputs": [
    {
     "data": {
      "text/plain": "'CENSORED gave the secret documents to CENSORED.'"
     },
     "execution_count": 6,
     "metadata": {},
     "output_type": "execute_result"
    }
   ],
   "source": [
    "# 返回替换后的字符串\n",
    "namesRegex.sub('CENSORED', 'Agent Alice gave the secret documents to Agent Bob.')"
   ],
   "metadata": {
    "collapsed": false,
    "ExecuteTime": {
     "end_time": "2023-05-22T11:53:20.159395Z",
     "start_time": "2023-05-22T11:53:20.125892Z"
    }
   }
  },
  {
   "cell_type": "markdown",
   "source": [
    "## 统一格式替换"
   ],
   "metadata": {
    "collapsed": false
   }
  },
  {
   "cell_type": "code",
   "execution_count": 32,
   "outputs": [
    {
     "data": {
      "text/plain": "['A', 'C', 'E', 'B']"
     },
     "execution_count": 32,
     "metadata": {},
     "output_type": "execute_result"
    }
   ],
   "source": [
    "# 匹配所有的密探\n",
    "agentNamesRegex = re.compile(r'Agent (\\w)\\w*')\n",
    "agents = agentNamesRegex.findall('Agent Alice told Agent Carol that Agent Eve knew Agent Bob was a double agent.')\n",
    "\n",
    "agents"
   ],
   "metadata": {
    "collapsed": false,
    "ExecuteTime": {
     "end_time": "2023-05-22T12:05:38.259502Z",
     "start_time": "2023-05-22T12:05:38.246272Z"
    }
   }
  },
  {
   "cell_type": "markdown",
   "source": [
    "> sub() 第一个参数可以控制分组统一显示格式"
   ],
   "metadata": {
    "collapsed": false
   }
  },
  {
   "cell_type": "code",
   "execution_count": 30,
   "outputs": [
    {
     "data": {
      "text/plain": "'Alice**** told Carol**** that Eve**** knew Bob**** was a double agent.'"
     },
     "execution_count": 30,
     "metadata": {},
     "output_type": "execute_result"
    }
   ],
   "source": [
    "agentNamesRegex.sub(r'\\1****', 'Agent Alice told Agent Carol that Agent Eve knew Agent Bob was a double agent.')"
   ],
   "metadata": {
    "collapsed": false,
    "ExecuteTime": {
     "end_time": "2023-05-22T12:05:06.810107Z",
     "start_time": "2023-05-22T12:05:06.793810Z"
    }
   }
  }
 ],
 "metadata": {
  "kernelspec": {
   "display_name": "Python 3",
   "language": "python",
   "name": "python3"
  },
  "language_info": {
   "codemirror_mode": {
    "name": "ipython",
    "version": 2
   },
   "file_extension": ".py",
   "mimetype": "text/x-python",
   "name": "python",
   "nbconvert_exporter": "python",
   "pygments_lexer": "ipython2",
   "version": "2.7.6"
  }
 },
 "nbformat": 4,
 "nbformat_minor": 0
}
