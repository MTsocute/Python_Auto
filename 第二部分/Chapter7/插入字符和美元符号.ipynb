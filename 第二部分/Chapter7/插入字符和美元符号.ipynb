{
 "cells": [
  {
   "cell_type": "markdown",
   "source": [
    "# 插入字符和美元符号"
   ],
   "metadata": {
    "collapsed": false
   }
  },
  {
   "cell_type": "markdown",
   "source": [
    "> r'^Hello': 匹配字符以 Hello 打头"
   ],
   "metadata": {
    "collapsed": false
   }
  },
  {
   "cell_type": "code",
   "execution_count": 3,
   "outputs": [
    {
     "data": {
      "text/plain": "<re.Match object; span=(0, 5), match='Hello'>"
     },
     "execution_count": 3,
     "metadata": {},
     "output_type": "execute_result"
    }
   ],
   "source": [
    "import re\n",
    "\n",
    "beginsWithHello = re.compile(r'^Hello') # 匹配字符以 Hello 打头\n",
    "beginsWithHello.search('Hello world!')"
   ],
   "metadata": {
    "collapsed": false,
    "ExecuteTime": {
     "end_time": "2023-05-22T10:49:36.833990Z",
     "start_time": "2023-05-22T10:49:36.825948Z"
    }
   }
  },
  {
   "cell_type": "code",
   "execution_count": 4,
   "outputs": [
    {
     "data": {
      "text/plain": "True"
     },
     "execution_count": 4,
     "metadata": {},
     "output_type": "execute_result"
    }
   ],
   "source": [
    "# 如果不是以 Hello 打头就是找不到的\n",
    "beginsWithHello.search('Nihao! Hello world!') is None"
   ],
   "metadata": {
    "collapsed": false,
    "ExecuteTime": {
     "end_time": "2023-05-22T10:50:03.644324Z",
     "start_time": "2023-05-22T10:50:03.602476Z"
    }
   }
  },
  {
   "cell_type": "markdown",
   "source": [
    "> r'\\d$': 匹配以数字 0 到 9 结束的字符串"
   ],
   "metadata": {
    "collapsed": false
   }
  },
  {
   "cell_type": "code",
   "execution_count": 5,
   "outputs": [
    {
     "data": {
      "text/plain": "<re.Match object; span=(16, 17), match='2'>"
     },
     "execution_count": 5,
     "metadata": {},
     "output_type": "execute_result"
    }
   ],
   "source": [
    "import re\n",
    "\n",
    "beginsWithHello = re.compile(r'\\d$') # 匹配字符以 结尾的数字\n",
    "beginsWithHello.search('Your number is 42')"
   ],
   "metadata": {
    "collapsed": false,
    "ExecuteTime": {
     "end_time": "2023-05-22T10:53:23.295323Z",
     "start_time": "2023-05-22T10:53:23.278360Z"
    }
   }
  },
  {
   "cell_type": "markdown",
   "source": [
    "> r'^\\d+$': 匹配从开始到结束都是数字的字符串"
   ],
   "metadata": {
    "collapsed": false
   }
  },
  {
   "cell_type": "code",
   "execution_count": 7,
   "outputs": [
    {
     "data": {
      "text/plain": "<re.Match object; span=(0, 10), match='1234567890'>"
     },
     "execution_count": 7,
     "metadata": {},
     "output_type": "execute_result"
    }
   ],
   "source": [
    "wholeStringIsNum = re.compile(r'^\\d+$')\n",
    "wholeStringIsNum.search('1234567890')"
   ],
   "metadata": {
    "collapsed": false,
    "ExecuteTime": {
     "end_time": "2023-05-22T10:55:06.652159Z",
     "start_time": "2023-05-22T10:55:06.633168Z"
    }
   }
  },
  {
   "cell_type": "code",
   "execution_count": 9,
   "outputs": [
    {
     "data": {
      "text/plain": "True"
     },
     "execution_count": 9,
     "metadata": {},
     "output_type": "execute_result"
    }
   ],
   "source": [
    "# 必须全部都是数字!\n",
    "wholeStringIsNum.search('12345xyz67890') is None"
   ],
   "metadata": {
    "collapsed": false,
    "ExecuteTime": {
     "end_time": "2023-05-22T10:56:29.974148Z",
     "start_time": "2023-05-22T10:56:29.950345Z"
    }
   }
  },
  {
   "cell_type": "code",
   "execution_count": 10,
   "outputs": [
    {
     "data": {
      "text/plain": "True"
     },
     "execution_count": 10,
     "metadata": {},
     "output_type": "execute_result"
    }
   ],
   "source": [
    "wholeStringIsNum.search('12345 z67890') is None"
   ],
   "metadata": {
    "collapsed": false,
    "ExecuteTime": {
     "end_time": "2023-05-22T10:56:35.771604Z",
     "start_time": "2023-05-22T10:56:35.758521Z"
    }
   }
  }
 ],
 "metadata": {
  "kernelspec": {
   "display_name": "Python 3",
   "language": "python",
   "name": "python3"
  },
  "language_info": {
   "codemirror_mode": {
    "name": "ipython",
    "version": 2
   },
   "file_extension": ".py",
   "mimetype": "text/x-python",
   "name": "python",
   "nbconvert_exporter": "python",
   "pygments_lexer": "ipython2",
   "version": "2.7.6"
  }
 },
 "nbformat": 4,
 "nbformat_minor": 0
}
