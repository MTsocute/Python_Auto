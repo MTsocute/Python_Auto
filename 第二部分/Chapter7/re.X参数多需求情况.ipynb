{
 "cells": [
  {
   "cell_type": "markdown",
   "source": [
    "# 组合使用 re.IGNOREC ASE、re.DOTALL 和 re.VERBOSE"
   ],
   "metadata": {
    "collapsed": false
   }
  },
  {
   "cell_type": "markdown",
   "source": [
    "> re.VERBOSE 来编写注释，还希望使用 re.IGNORECASE 来忽略大小写，该怎么办?\n",
    "> 可以使用管道字符(|)将变量组合起来"
   ],
   "metadata": {
    "collapsed": false
   }
  },
  {
   "cell_type": "code",
   "execution_count": 21,
   "outputs": [
    {
     "data": {
      "text/plain": "'Foo'"
     },
     "execution_count": 21,
     "metadata": {},
     "output_type": "execute_result"
    }
   ],
   "source": [
    "import re\n",
    "someRegexValue = re.compile(r'''\n",
    "        (foo) (.*)         # 注释\n",
    "                           # 我们还忽略了大小哦\n",
    "''', re.IGNORECASE | re.VERBOSE)\n",
    "someRegexValue.search(\"Foo is a heartbreak word!\").group(1)"
   ],
   "metadata": {
    "collapsed": false,
    "ExecuteTime": {
     "end_time": "2023-05-22T12:29:39.069460Z",
     "start_time": "2023-05-22T12:29:39.060326Z"
    }
   }
  },
  {
   "cell_type": "code",
   "execution_count": 2,
   "outputs": [],
   "source": [
    "someRegexValue_2 = re.compile('foo', re.IGNORECASE | re.DOTALL | re.VERBOSE)"
   ],
   "metadata": {
    "collapsed": false,
    "ExecuteTime": {
     "end_time": "2023-05-22T12:23:46.274834Z",
     "start_time": "2023-05-22T12:23:46.272411Z"
    }
   }
  }
 ],
 "metadata": {
  "kernelspec": {
   "display_name": "Python 3",
   "language": "python",
   "name": "python3"
  },
  "language_info": {
   "codemirror_mode": {
    "name": "ipython",
    "version": 2
   },
   "file_extension": ".py",
   "mimetype": "text/x-python",
   "name": "python",
   "nbconvert_exporter": "python",
   "pygments_lexer": "ipython2",
   "version": "2.7.6"
  }
 },
 "nbformat": 4,
 "nbformat_minor": 0
}
