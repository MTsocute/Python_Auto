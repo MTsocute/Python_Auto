{
 "cells": [
  {
   "attachments": {},
   "cell_type": "markdown",
   "metadata": {
    "collapsed": true
   },
   "source": [
    "# 20."
   ]
  },
  {
   "cell_type": "code",
   "execution_count": 17,
   "metadata": {},
   "outputs": [
    {
     "name": "stdout",
     "output_type": "stream",
     "text": [
      "123 是符合条件的数字\n",
      "1,234 是符合条件的数字\n",
      "12,345 是符合条件的数字\n",
      "--------------------------------\n",
      "123,456,78 不符合条件\n",
      "--------------------------------\n",
      "1,234,567,890 是符合条件的数字\n",
      "--------------------------------\n",
      "12,34,567 不符合条件\n",
      "--------------------------------\n",
      "--------------------------------\n",
      "1234 不符合条件\n",
      "--------------------------------\n",
      "42 是符合条件的数字\n"
     ]
    }
   ],
   "source": [
    "import re\n",
    "\n",
    "pattern = r'\\d{1,3}(,\\d{3})*$'\n",
    "numbers = ['123', '1,234', '12,345', '123,456,78', '1,234,567,890', '12,34,567', '1234', '42']\n",
    "\n",
    "\n",
    "for number in numbers:\n",
    "    if re.match(pattern, number):\n",
    "        print(f\"{number} 是符合条件的数字\")\n",
    "    else:\n",
    "        print(\"-\"*32)\n",
    "        print(f\"{number} 不符合条件\")\n",
    "        print(\"-\"*32)"
   ]
  },
  {
   "attachments": {},
   "cell_type": "markdown",
   "metadata": {},
   "source": [
    "# 21."
   ]
  },
  {
   "cell_type": "code",
   "execution_count": 22,
   "metadata": {},
   "outputs": [
    {
     "name": "stdout",
     "output_type": "stream",
     "text": [
      "********************************\n",
      "Satoshi Nakamoto 是符合条件的\n",
      "********************************\n",
      "********************************\n",
      "Alice Nakamoto 是符合条件的\n",
      "********************************\n",
      "********************************\n",
      "RoboCop Nakamoto 是符合条件的\n",
      "********************************\n",
      "--------------------------------\n",
      "satoshi Nakamoto 不符合条件\n",
      "--------------------------------\n",
      "--------------------------------\n",
      "Mr. Nakamoto 不符合条件\n",
      "--------------------------------\n",
      "--------------------------------\n",
      "Nakamoto 不符合条件\n",
      "--------------------------------\n",
      "--------------------------------\n",
      "Satoshi nakamoto 不符合条件\n",
      "--------------------------------\n"
     ]
    }
   ],
   "source": [
    "import re\n",
    "\n",
    "pattern = r'^([A-Z][A-Z,a-z]+)\\sNakamoto'\n",
    "\n",
    "numbers = ['Satoshi Nakamoto', 'Alice Nakamoto', 'RoboCop Nakamoto',\n",
    "        'satoshi Nakamoto', 'Mr. Nakamoto', 'Nakamoto', 'Satoshi nakamoto']\n",
    "\n",
    "\n",
    "for number in numbers:\n",
    "    if re.match(pattern, number):\n",
    "        print(\"*\"*32)\n",
    "        print(f\"{number} 是符合条件的\")\n",
    "        print(\"*\"*32)\n",
    "    else:\n",
    "        print(\"-\"*32)\n",
    "        print(f\"{number} 不符合条件\")\n",
    "        print(\"-\"*32)"
   ]
  },
  {
   "attachments": {},
   "cell_type": "markdown",
   "metadata": {},
   "source": [
    "# 22."
   ]
  },
  {
   "cell_type": "code",
   "execution_count": 27,
   "metadata": {},
   "outputs": [
    {
     "name": "stdout",
     "output_type": "stream",
     "text": [
      "********************************\n",
      "Alice eats apples. 是符合条件的\n",
      "********************************\n",
      "********************************\n",
      "Bob pets cats. 是符合条件的\n",
      "********************************\n",
      "********************************\n",
      "Carol throws baseballs. 是符合条件的\n",
      "********************************\n",
      "********************************\n",
      "Alice throws Apples. 是符合条件的\n",
      "********************************\n",
      "********************************\n",
      "BOB EATS CATS. 是符合条件的\n",
      "********************************\n",
      "--------------------------------\n",
      "RoboCop eats apples. 不符合条件\n",
      "--------------------------------\n",
      "--------------------------------\n",
      "ALICE THROWS FOOTBALLS. 不符合条件\n",
      "--------------------------------\n",
      "--------------------------------\n",
      "Carol eats 7 cats. 不符合条件\n",
      "--------------------------------\n"
     ]
    }
   ],
   "source": [
    "import re\n",
    "\n",
    "pattern = r'(Alice|Bob|Carol)\\s(eats|pets|throws)\\s(apples|cats|baseballs)\\.'\n",
    "numbers = [\n",
    "    'Alice eats apples.'\n",
    "    , 'Bob pets cats.'\n",
    "    , 'Carol throws baseballs.'\n",
    "    , 'Alice throws Apples.'\n",
    "    , 'BOB EATS CATS.'\n",
    "    , 'RoboCop eats apples.'\n",
    "    , 'ALICE THROWS FOOTBALLS.'\n",
    "    , 'Carol eats 7 cats.']\n",
    "\n",
    "\n",
    "for number in numbers:\n",
    "    if re.match(pattern, number, re.IGNORECASE):\n",
    "        print(\"*\"*32)\n",
    "        print(f\"{number} 是符合条件的\")\n",
    "        print(\"*\"*32)\n",
    "    else:\n",
    "        print(\"-\"*32)\n",
    "        print(f\"{number} 不符合条件\")\n",
    "        print(\"-\"*32)"
   ]
  }
 ],
 "metadata": {
  "kernelspec": {
   "display_name": "Python 3",
   "language": "python",
   "name": "python3"
  },
  "language_info": {
   "codemirror_mode": {
    "name": "ipython",
    "version": 3
   },
   "file_extension": ".py",
   "mimetype": "text/x-python",
   "name": "python",
   "nbconvert_exporter": "python",
   "pygments_lexer": "ipython3",
   "version": "3.11.3"
  }
 },
 "nbformat": 4,
 "nbformat_minor": 0
}
