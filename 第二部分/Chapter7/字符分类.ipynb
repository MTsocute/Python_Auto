{
 "cells": [
  {
   "cell_type": "markdown",
   "source": [
    "## 字符分类"
   ],
   "metadata": {
    "collapsed": false
   }
  },
  {
   "cell_type": "markdown",
   "source": [
    "|  缩写字符分类  | 表示                           |\n",
    "|:--------:|------------------------------|\n",
    "|    \\d    | 0到9的任何数字                     |\n",
    "|    \\D    | 除 0 到 9 的数字以外的任何字符           |\n",
    "|    \\w    | 任何字母、数字或下划线字符(可以认为是匹配“单词”字符) |\n",
    "|    \\W    | 除字母、数字和下划线以外的任何字符            |\n",
    "|    \\s    | 空格、制表符或换行符(可以认为是匹配“空白”字符)    |\n",
    "|    \\S    | 除空格、制表符和换行符以外的任何字符           |"
   ],
   "metadata": {
    "collapsed": false
   }
  },
  {
   "cell_type": "code",
   "execution_count": 1,
   "outputs": [
    {
     "data": {
      "text/plain": "['12 drummers',\n '11 pipers',\n '10 lords',\n '9 ladies',\n '8 maids',\n '7 swans',\n '6 geese',\n '5 rings',\n '4 birds',\n '3 hens',\n '2 doves',\n '1 partridge']"
     },
     "execution_count": 1,
     "metadata": {},
     "output_type": "execute_result"
    }
   ],
   "source": [
    "import re\n",
    "\n",
    "# 开头数字 中间空白 结尾随便\n",
    "xmasRegex = re.compile(r'\\d+\\s\\w+')\n",
    "\n",
    "xmasRegex.findall('12 drummers, 11 pipers, 10 lords, 9 ladies,'\n",
    "                  ' 8 maids, 7 swans, 6 geese, 5 rings, 4 birds, 3 hens, 2 doves, 1 partridge')"
   ],
   "metadata": {
    "collapsed": false,
    "ExecuteTime": {
     "end_time": "2023-05-21T09:59:52.265351Z",
     "start_time": "2023-05-21T09:59:52.255905Z"
    }
   }
  },
  {
   "cell_type": "markdown",
   "source": [
    "## 建立自己的字符分类"
   ],
   "metadata": {
    "collapsed": false
   }
  },
  {
   "cell_type": "markdown",
   "source": [
    "> 有时候你想匹配一组字符，但缩写的字符分类(\\d、\\w、\\s 等)太宽泛。你可 以用方括号定义自己的字符分类"
   ],
   "metadata": {
    "collapsed": false
   }
  },
  {
   "cell_type": "markdown",
   "source": [
    "### 找到所有的元音字母"
   ],
   "metadata": {
    "collapsed": false
   }
  },
  {
   "cell_type": "code",
   "execution_count": 4,
   "outputs": [
    {
     "data": {
      "text/plain": "['eats', 'food', 'FOOD', 'BOOK', 'SeaFOoD']"
     },
     "execution_count": 4,
     "metadata": {},
     "output_type": "execute_result"
    }
   ],
   "source": [
    "import re\n",
    "# 找到所有的两个连续元音的单词\n",
    "vowelRegex = re.compile(r'[a-z,A-Z]{0,}[aeiouAEIOU]{2}[a-z,A-Z]{0,}')\n",
    "vowelRegex.findall('RoboCop eats baby food. BABY FOOD. BOOK. SeaFOoD')"
   ],
   "metadata": {
    "collapsed": false,
    "ExecuteTime": {
     "end_time": "2023-05-22T11:05:00.538108Z",
     "start_time": "2023-05-22T11:05:00.520681Z"
    }
   }
  },
  {
   "cell_type": "markdown",
   "source": [
    "### 利用 ^ 打头反着取"
   ],
   "metadata": {
    "collapsed": false
   }
  },
  {
   "cell_type": "code",
   "execution_count": 5,
   "outputs": [
    {
     "data": {
      "text/plain": "['R',\n 'b',\n 'C',\n 'p',\n ' ',\n 't',\n 's',\n ' ',\n 'b',\n 'b',\n 'y',\n ' ',\n 'f',\n 'd',\n '.',\n ' ',\n 'B',\n 'B',\n 'Y',\n ' ',\n 'F',\n 'D',\n '.']"
     },
     "execution_count": 5,
     "metadata": {},
     "output_type": "execute_result"
    }
   ],
   "source": [
    "# 这个就是不要任何元音字母，其他都取\n",
    "consonantRegex = re.compile(r'[^aeiouAEIOU]')   # 找到所有的非元音字母\n",
    "consonantRegex.findall('RoboCop eats baby food. BABY FOOD.')"
   ],
   "metadata": {
    "collapsed": false,
    "ExecuteTime": {
     "end_time": "2023-05-21T13:06:43.404086Z",
     "start_time": "2023-05-21T13:06:43.395073Z"
    }
   }
  }
 ],
 "metadata": {
  "kernelspec": {
   "display_name": "Python 3",
   "language": "python",
   "name": "python3"
  },
  "language_info": {
   "codemirror_mode": {
    "name": "ipython",
    "version": 2
   },
   "file_extension": ".py",
   "mimetype": "text/x-python",
   "name": "python",
   "nbconvert_exporter": "python",
   "pygments_lexer": "ipython2",
   "version": "2.7.6"
  }
 },
 "nbformat": 4,
 "nbformat_minor": 0
}
