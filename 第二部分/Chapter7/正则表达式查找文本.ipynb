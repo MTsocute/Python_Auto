{
 "cells": [
  {
   "cell_type": "markdown",
   "source": [
    "## 创建一个 Regex 对象"
   ],
   "metadata": {
    "collapsed": false
   }
  },
  {
   "cell_type": "code",
   "execution_count": null,
   "outputs": [],
   "source": [
    "import re\n",
    "phoneNumber = re.compile(r'\\d\\d\\d\\-\\d\\d\\d-\\d\\d\\d\\d')   # r'' 无视转意符号"
   ],
   "metadata": {
    "collapsed": false
   }
  },
  {
   "cell_type": "markdown",
   "source": [
    "## 配对 Regex 对象"
   ],
   "metadata": {
    "collapsed": false
   }
  },
  {
   "cell_type": "code",
   "execution_count": 1,
   "outputs": [
    {
     "name": "stdout",
     "output_type": "stream",
     "text": [
      "The number is 415-555-4242\n"
     ]
    }
   ],
   "source": [
    "import re\n",
    "# compile() 返回一个 Regex 对象\n",
    "phoneNumber = re.compile(r'\\d\\d\\d\\-\\d\\d\\d-\\d\\d\\d\\d')\n",
    "\n",
    "# search() 返回一个 March 对象\n",
    "mo = phoneNumber.search(\"My phone number is 415-555-4242\")\n",
    "\n",
    "print(f'The number is {mo.group()}')"
   ],
   "metadata": {
    "collapsed": false,
    "ExecuteTime": {
     "end_time": "2023-05-20T18:43:32.243066Z",
     "start_time": "2023-05-20T18:43:32.236117Z"
    }
   }
  }
 ],
 "metadata": {
  "kernelspec": {
   "display_name": "Python 3",
   "language": "python",
   "name": "python3"
  },
  "language_info": {
   "codemirror_mode": {
    "name": "ipython",
    "version": 2
   },
   "file_extension": ".py",
   "mimetype": "text/x-python",
   "name": "python",
   "nbconvert_exporter": "python",
   "pygments_lexer": "ipython2",
   "version": "2.7.6"
  }
 },
 "nbformat": 4,
 "nbformat_minor": 0
}
