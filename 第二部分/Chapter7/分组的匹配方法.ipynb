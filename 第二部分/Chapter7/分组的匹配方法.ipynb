{
 "cells": [
  {
   "cell_type": "markdown",
   "source": [
    "# 分组的匹配方法"
   ],
   "metadata": {
    "collapsed": false
   }
  },
  {
   "cell_type": "markdown",
   "source": [
    "## 1. 用管道匹配多个分组"
   ],
   "metadata": {
    "collapsed": false
   }
  },
  {
   "cell_type": "markdown",
   "source": [
    "> | 称为“管道”。匹配许多表达式中的 \"一个\"\n",
    ">  r'Batman|Tina Fey'将匹配 'Batman' 或 'Tina Fey'"
   ],
   "metadata": {
    "collapsed": false
   }
  },
  {
   "cell_type": "code",
   "execution_count": 11,
   "outputs": [],
   "source": [
    "import re\n",
    "# 只会匹配一个\n",
    "heroRegex = re.compile (r'Batman|Tina Fey')     # 返回 regex 对象"
   ],
   "metadata": {
    "collapsed": false,
    "ExecuteTime": {
     "end_time": "2023-05-21T09:05:02.882676Z",
     "start_time": "2023-05-21T09:05:02.853229Z"
    }
   }
  },
  {
   "cell_type": "code",
   "execution_count": 12,
   "outputs": [
    {
     "data": {
      "text/plain": "'Batman'"
     },
     "execution_count": 12,
     "metadata": {},
     "output_type": "execute_result"
    }
   ],
   "source": [
    "mo1 = heroRegex.search('Batman and Tina Fey.')\n",
    "mo1.group()"
   ],
   "metadata": {
    "collapsed": false,
    "ExecuteTime": {
     "end_time": "2023-05-21T09:05:05.346632Z",
     "start_time": "2023-05-21T09:05:05.324694Z"
    }
   }
  },
  {
   "cell_type": "code",
   "execution_count": 13,
   "outputs": [
    {
     "data": {
      "text/plain": "'Batman'"
     },
     "execution_count": 13,
     "metadata": {},
     "output_type": "execute_result"
    }
   ],
   "source": [
    "mo2 = heroRegex.search('Batman and Tina Fey.')\n",
    "mo2.group()"
   ],
   "metadata": {
    "collapsed": false,
    "ExecuteTime": {
     "end_time": "2023-05-21T09:05:06.519082Z",
     "start_time": "2023-05-21T09:05:06.495581Z"
    }
   }
  },
  {
   "cell_type": "markdown",
   "source": [
    "### 来一个小 demo"
   ],
   "metadata": {
    "collapsed": false
   }
  },
  {
   "cell_type": "markdown",
   "source": [
    "> 匹配'Batman'、'Batmobile'、'Batcopter'和'Batbat'中任意一个"
   ],
   "metadata": {
    "collapsed": false
   }
  },
  {
   "cell_type": "code",
   "execution_count": 14,
   "outputs": [
    {
     "data": {
      "text/plain": "'Batmobile'"
     },
     "execution_count": 14,
     "metadata": {},
     "output_type": "execute_result"
    }
   ],
   "source": [
    "import re\n",
    "# 匹配'Batman'、'Batmobile'、'Batcopter'和'Batbat'中任意一个\n",
    "# 利用 () 实现 Bat 打头，后面选择\n",
    "batRegex = re.compile(r'Bat(man|mobile|copter|bat)')\n",
    "momo = batRegex.search('Oh man! Batmobile lost a wheel')\n",
    "momo.group()"
   ],
   "metadata": {
    "collapsed": false,
    "ExecuteTime": {
     "end_time": "2023-05-21T09:05:07.795358Z",
     "start_time": "2023-05-21T09:05:07.779519Z"
    }
   }
  },
  {
   "cell_type": "markdown",
   "source": [
    "### 同时要注意由于这么写 () 也是一个小分组，他会匹配一个自己的\n"
   ],
   "metadata": {
    "collapsed": false
   }
  },
  {
   "cell_type": "code",
   "execution_count": 15,
   "outputs": [
    {
     "data": {
      "text/plain": "'mobile'"
     },
     "execution_count": 15,
     "metadata": {},
     "output_type": "execute_result"
    }
   ],
   "source": [
    "import re\n",
    "# 匹配'Batman'、'Batmobile'、'Batcopter'和'Batbat'中任意一个\n",
    "batRegex = re.compile(r'Bat(man|mobile|copter|bat) Bat(man|mobile|copter|bat)')\n",
    "momo = batRegex.search('Batman Batmobile lost a wheel')\n",
    "momo.group(2)"
   ],
   "metadata": {
    "collapsed": false,
    "ExecuteTime": {
     "end_time": "2023-05-21T09:05:09.302802Z",
     "start_time": "2023-05-21T09:05:09.276069Z"
    }
   }
  },
  {
   "cell_type": "markdown",
   "source": [
    "## 2. 用问号实现可选匹配"
   ],
   "metadata": {
    "collapsed": false
   }
  },
  {
   "cell_type": "markdown",
   "source": [
    "? 之前的那个分组是可选的"
   ],
   "metadata": {
    "collapsed": false
   }
  },
  {
   "cell_type": "code",
   "execution_count": 16,
   "outputs": [
    {
     "data": {
      "text/plain": "'Batman'"
     },
     "execution_count": 16,
     "metadata": {},
     "output_type": "execute_result"
    }
   ],
   "source": [
    "batRegex = re.compile(r'Bat(wo)?man')\n",
    "momo1 = batRegex.search('The Adventures of Batman')\n",
    "momo1.group()"
   ],
   "metadata": {
    "collapsed": false,
    "ExecuteTime": {
     "end_time": "2023-05-21T09:05:11.229687Z",
     "start_time": "2023-05-21T09:05:11.199116Z"
    }
   }
  },
  {
   "cell_type": "code",
   "execution_count": 17,
   "outputs": [
    {
     "data": {
      "text/plain": "'Batwoman'"
     },
     "execution_count": 17,
     "metadata": {},
     "output_type": "execute_result"
    }
   ],
   "source": [
    "batRegex = re.compile(r'Bat(wo)?man')\n",
    "momo2 = batRegex.search('The Adventures of Batwoman')\n",
    "momo2.group()"
   ],
   "metadata": {
    "collapsed": false,
    "ExecuteTime": {
     "end_time": "2023-05-21T09:05:12.501257Z",
     "start_time": "2023-05-21T09:05:12.478806Z"
    }
   }
  },
  {
   "cell_type": "markdown",
   "source": [
    "### demo"
   ],
   "metadata": {
    "collapsed": false
   }
  },
  {
   "cell_type": "markdown",
   "source": [
    "> 让正则表达式寻找包含区号或不包含区号的 电话号码"
   ],
   "metadata": {
    "collapsed": false
   }
  },
  {
   "cell_type": "code",
   "execution_count": 18,
   "outputs": [
    {
     "name": "stdout",
     "output_type": "stream",
     "text": [
      "415-555-4242\n",
      "555-4242\n"
     ]
    }
   ],
   "source": [
    "import re\n",
    "# \\d\\d\\d-：可有可无\n",
    "phoneRegex = re.compile(r'(\\d\\d\\d-)?\\d\\d\\d-\\d\\d\\d\\d')\n",
    "mo1 = phoneRegex.search('My number is 415-555-4242')\n",
    "mo2 = phoneRegex.search('My number is 555-4242')\n",
    "\n",
    "print(mo1.group())\n",
    "print(mo2.group())"
   ],
   "metadata": {
    "collapsed": false,
    "ExecuteTime": {
     "end_time": "2023-05-21T09:05:14.670281Z",
     "start_time": "2023-05-21T09:05:14.651651Z"
    }
   }
  },
  {
   "cell_type": "markdown",
   "source": [
    "## 3. 用星号匹配零次或多次"
   ],
   "metadata": {
    "collapsed": false
   }
  },
  {
   "cell_type": "code",
   "execution_count": 19,
   "outputs": [
    {
     "data": {
      "text/plain": "'Batman'"
     },
     "execution_count": 19,
     "metadata": {},
     "output_type": "execute_result"
    }
   ],
   "source": [
    "import re\n",
    "batRegex = re.compile(r'Bat(wo)*man')   # 星号匹配模式\n",
    "\n",
    "# 0 次\n",
    "starmarch = batRegex.search(\"The Adventure of Batman\")\n",
    "starmarch.group()"
   ],
   "metadata": {
    "collapsed": false,
    "ExecuteTime": {
     "end_time": "2023-05-21T09:05:15.857443Z",
     "start_time": "2023-05-21T09:05:15.833512Z"
    }
   }
  },
  {
   "cell_type": "code",
   "execution_count": 20,
   "outputs": [
    {
     "data": {
      "text/plain": "'Batwoman'"
     },
     "execution_count": 20,
     "metadata": {},
     "output_type": "execute_result"
    }
   ],
   "source": [
    "# 匹配一次\n",
    "starmarch = batRegex.search(\"The Adventure of Batwoman\")\n",
    "starmarch.group()"
   ],
   "metadata": {
    "collapsed": false,
    "ExecuteTime": {
     "end_time": "2023-05-21T09:05:16.424840Z",
     "start_time": "2023-05-21T09:05:16.407019Z"
    }
   }
  },
  {
   "cell_type": "code",
   "execution_count": 21,
   "outputs": [
    {
     "data": {
      "text/plain": "'Batwowowowowowowowowowowowowoman'"
     },
     "execution_count": 21,
     "metadata": {},
     "output_type": "execute_result"
    }
   ],
   "source": [
    "# 匹配多次\n",
    "starmarch = batRegex.search(\"The Adventure of Batwowowowowowowowowowowowowoman\")\n",
    "starmarch.group()"
   ],
   "metadata": {
    "collapsed": false,
    "ExecuteTime": {
     "end_time": "2023-05-21T09:05:19.016150Z",
     "start_time": "2023-05-21T09:05:18.995098Z"
    }
   }
  },
  {
   "cell_type": "markdown",
   "source": [
    "## 4. 用加号匹配一次或多次"
   ],
   "metadata": {
    "collapsed": false
   }
  },
  {
   "cell_type": "code",
   "execution_count": 22,
   "outputs": [],
   "source": [
    "import re\n",
    "batRegex = re.compile(r'Bat(wo)+man')   # 加号匹配模式"
   ],
   "metadata": {
    "collapsed": false,
    "ExecuteTime": {
     "end_time": "2023-05-21T09:05:20.469172Z",
     "start_time": "2023-05-21T09:05:20.454364Z"
    }
   }
  },
  {
   "cell_type": "code",
   "execution_count": 34,
   "outputs": [
    {
     "data": {
      "text/plain": "True"
     },
     "execution_count": 34,
     "metadata": {},
     "output_type": "execute_result"
    }
   ],
   "source": [
    "# 匹配 0 次，匹配不到东西的\n",
    "demo1 = batRegex.search(\"The Adventure of Batman\")\n",
    "demo1 == None"
   ],
   "metadata": {
    "collapsed": false,
    "ExecuteTime": {
     "end_time": "2023-05-21T09:12:49.085794Z",
     "start_time": "2023-05-21T09:12:49.064685Z"
    }
   }
  },
  {
   "cell_type": "code",
   "execution_count": 25,
   "outputs": [
    {
     "data": {
      "text/plain": "'Batwoman'"
     },
     "execution_count": 25,
     "metadata": {},
     "output_type": "execute_result"
    }
   ],
   "source": [
    "# 匹配一次\n",
    "demo1 = batRegex.search(\"The Adventure of Batwoman\")\n",
    "demo1.group()"
   ],
   "metadata": {
    "collapsed": false,
    "ExecuteTime": {
     "end_time": "2023-05-21T09:05:51.475984Z",
     "start_time": "2023-05-21T09:05:51.470461Z"
    }
   }
  },
  {
   "cell_type": "code",
   "execution_count": 26,
   "outputs": [
    {
     "data": {
      "text/plain": "'Batwowowowowowowowoman'"
     },
     "execution_count": 26,
     "metadata": {},
     "output_type": "execute_result"
    }
   ],
   "source": [
    "# 匹配多次\n",
    "demo1 = batRegex.search(\"The Adventure of Batwowowowowowowowoman\")\n",
    "demo1.group()"
   ],
   "metadata": {
    "collapsed": false,
    "ExecuteTime": {
     "end_time": "2023-05-21T09:06:05.606917Z",
     "start_time": "2023-05-21T09:06:05.593087Z"
    }
   }
  },
  {
   "cell_type": "markdown",
   "source": [
    "## 5. 使用话括号指定匹配次数"
   ],
   "metadata": {
    "collapsed": false
   }
  },
  {
   "cell_type": "markdown",
   "source": [
    "> (Ha){3,}将匹配 3 次或更多次实例，(Ha){,5}将匹配 0 到 5 次实例"
   ],
   "metadata": {
    "collapsed": false
   }
  },
  {
   "cell_type": "code",
   "execution_count": 27,
   "outputs": [],
   "source": [
    "import re\n",
    "haRegex = re.compile(r'(Ha){3}')"
   ],
   "metadata": {
    "collapsed": false,
    "ExecuteTime": {
     "end_time": "2023-05-21T09:10:34.974125Z",
     "start_time": "2023-05-21T09:10:34.935087Z"
    }
   }
  },
  {
   "cell_type": "code",
   "execution_count": 29,
   "outputs": [
    {
     "data": {
      "text/plain": "'HaHaHa'"
     },
     "execution_count": 29,
     "metadata": {},
     "output_type": "execute_result"
    }
   ],
   "source": [
    "mo1 = haRegex.search('HaHaHa')\n",
    "mo1.group()"
   ],
   "metadata": {
    "collapsed": false,
    "ExecuteTime": {
     "end_time": "2023-05-21T09:10:45.610462Z",
     "start_time": "2023-05-21T09:10:45.586267Z"
    }
   }
  },
  {
   "cell_type": "code",
   "execution_count": 33,
   "outputs": [
    {
     "data": {
      "text/plain": "True"
     },
     "execution_count": 33,
     "metadata": {},
     "output_type": "execute_result"
    }
   ],
   "source": [
    "import re\n",
    "# 起码匹配三个以上，所以search 匹配不到 March 对象\n",
    "haRegex = re.compile(r'(Ha){3}')\n",
    "molike2 = haRegex.search('Ha')\n",
    "molike2 == None"
   ],
   "metadata": {
    "collapsed": false,
    "ExecuteTime": {
     "end_time": "2023-05-21T09:12:35.616092Z",
     "start_time": "2023-05-21T09:12:35.607658Z"
    }
   }
  }
 ],
 "metadata": {
  "kernelspec": {
   "display_name": "Python 3",
   "language": "python",
   "name": "python3"
  },
  "language_info": {
   "codemirror_mode": {
    "name": "ipython",
    "version": 2
   },
   "file_extension": ".py",
   "mimetype": "text/x-python",
   "name": "python",
   "nbconvert_exporter": "python",
   "pygments_lexer": "ipython2",
   "version": "2.7.6"
  }
 },
 "nbformat": 4,
 "nbformat_minor": 0
}
