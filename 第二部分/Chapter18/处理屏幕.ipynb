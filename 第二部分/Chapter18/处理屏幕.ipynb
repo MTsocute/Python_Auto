{
 "cells": [
  {
   "cell_type": "markdown",
   "source": [
    "# 获取屏幕快照"
   ],
   "metadata": {
    "collapsed": false
   }
  },
  {
   "cell_type": "code",
   "execution_count": 6,
   "outputs": [
    {
     "data": {
      "text/plain": "(3, 74, 92, 255)"
     },
     "execution_count": 6,
     "metadata": {},
     "output_type": "execute_result"
    }
   ],
   "source": [
    "import pyautogui\n",
    "# 返回的是一个 img 对象是可以进行图像相关的操作的\n",
    "img = pyautogui.screenshot()\n",
    "\n",
    "# 获取最左上角的颜色\n",
    "img.getpixel((0,0))"
   ],
   "metadata": {
    "collapsed": false,
    "ExecuteTime": {
     "end_time": "2023-06-26T15:15:09.472574Z",
     "start_time": "2023-06-26T15:15:09.216245Z"
    }
   }
  },
  {
   "cell_type": "markdown",
   "source": [
    "# 分析屏幕快照"
   ],
   "metadata": {
    "collapsed": false
   }
  },
  {
   "cell_type": "code",
   "execution_count": 8,
   "outputs": [
    {
     "data": {
      "text/plain": "False"
     },
     "execution_count": 8,
     "metadata": {},
     "output_type": "execute_result"
    }
   ],
   "source": [
    "pyautogui.pixelMatchesColor(50, 200, (130, 135, 144))"
   ],
   "metadata": {
    "collapsed": false,
    "ExecuteTime": {
     "end_time": "2023-06-26T15:15:42.860560Z",
     "start_time": "2023-06-26T15:15:42.618271Z"
    }
   }
  },
  {
   "cell_type": "code",
   "execution_count": 9,
   "outputs": [
    {
     "data": {
      "text/plain": "True"
     },
     "execution_count": 9,
     "metadata": {},
     "output_type": "execute_result"
    }
   ],
   "source": [
    "pyautogui.pixelMatchesColor(0,0, (3, 74, 92, 255))"
   ],
   "metadata": {
    "collapsed": false,
    "ExecuteTime": {
     "end_time": "2023-06-26T15:16:19.864179Z",
     "start_time": "2023-06-26T15:16:19.599598Z"
    }
   }
  },
  {
   "cell_type": "markdown",
   "source": [
    "> 这个函数指定一个坐标位置，然后获取这个坐标位置的元素，看和自己设定的颜色是不是相同<br>\n",
    "> 如果相同就返回 True"
   ],
   "metadata": {
    "collapsed": false
   }
  },
  {
   "cell_type": "markdown",
   "source": [
    "# 图像识别\n",
    "> 利用图像定位位置"
   ],
   "metadata": {
    "collapsed": false
   }
  },
  {
   "cell_type": "markdown",
   "source": [
    "## 1. 只匹配一个"
   ],
   "metadata": {
    "collapsed": false
   }
  },
  {
   "cell_type": "code",
   "execution_count": 10,
   "outputs": [
    {
     "data": {
      "text/plain": "Box(left=1803, top=580, width=97, height=114)"
     },
     "execution_count": 10,
     "metadata": {},
     "output_type": "execute_result"
    }
   ],
   "source": [
    "import pyautogui\n",
    "\n",
    "pyautogui.locateOnScreen(\"data/webFile.png\")"
   ],
   "metadata": {
    "collapsed": false,
    "ExecuteTime": {
     "end_time": "2023-06-26T15:30:30.423398Z",
     "start_time": "2023-06-26T15:30:30.025882Z"
    }
   }
  },
  {
   "cell_type": "markdown",
   "source": [
    "> locateOnScreen() 函数返回４个整数的元组， 是屏幕上首次发现该图像时左边的 x 坐标、顶边的 y 坐标、宽度以及高度"
   ],
   "metadata": {
    "collapsed": false
   }
  },
  {
   "cell_type": "markdown",
   "source": [
    "## 2. 匹配多个"
   ],
   "metadata": {
    "collapsed": false
   }
  },
  {
   "cell_type": "code",
   "execution_count": 25,
   "outputs": [
    {
     "data": {
      "text/plain": "[]"
     },
     "execution_count": 25,
     "metadata": {},
     "output_type": "execute_result"
    }
   ],
   "source": [
    "# 匹配不上一般都是像素要求一个不差要求太高了\n",
    "list(pyautogui.locateAllOnScreen(\"data/1.jpeg\"))"
   ],
   "metadata": {
    "collapsed": false,
    "ExecuteTime": {
     "end_time": "2023-06-26T15:47:06.690508Z",
     "start_time": "2023-06-26T15:47:06.078091Z"
    }
   }
  },
  {
   "cell_type": "markdown",
   "source": [
    "## 3.配合图片查询实现操作文件"
   ],
   "metadata": {
    "collapsed": false
   }
  },
  {
   "cell_type": "code",
   "execution_count": 1,
   "outputs": [
    {
     "name": "stdout",
     "output_type": "stream",
     "text": [
      "Box(left=1816, top=597, width=78, height=60)\n",
      "1920 1080\n"
     ]
    }
   ],
   "source": [
    "import pyautogui\n",
    "\n",
    "location = pyautogui.locateOnScreen(\"data/file.png\")\n",
    "\n",
    "print(location)\n",
    "\n",
    "# 找到文件的中心位置\n",
    "x,y = pyautogui.center(location)\n",
    "\n",
    "width, height = pyautogui.size()\n",
    "\n",
    "print(width, height)\n",
    "\n",
    "pyautogui.moveTo(x, y)\n",
    "\n",
    "# 对文件进行拖动操作\n",
    "pyautogui.dragTo(int(width/2), int(height/2), duration=2, button=\"left\")\n",
    "\n",
    "exit()"
   ],
   "metadata": {
    "collapsed": false,
    "ExecuteTime": {
     "end_time": "2023-06-26T16:03:50.146535Z",
     "start_time": "2023-06-26T16:03:46.571628Z"
    }
   }
  }
 ],
 "metadata": {
  "kernelspec": {
   "display_name": "Python 3",
   "language": "python",
   "name": "python3"
  },
  "language_info": {
   "codemirror_mode": {
    "name": "ipython",
    "version": 2
   },
   "file_extension": ".py",
   "mimetype": "text/x-python",
   "name": "python",
   "nbconvert_exporter": "python",
   "pygments_lexer": "ipython2",
   "version": "2.7.6"
  }
 },
 "nbformat": 4,
 "nbformat_minor": 0
}
