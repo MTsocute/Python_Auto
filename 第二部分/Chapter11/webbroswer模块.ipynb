{
 "cells": [
  {
   "cell_type": "markdown",
   "source": [
    "# webbrowser 模块的 open()函数可以启动一个新浏览器，打开指定的 URL"
   ],
   "metadata": {
    "collapsed": false
   }
  },
  {
   "cell_type": "code",
   "execution_count": 1,
   "outputs": [
    {
     "data": {
      "text/plain": "True"
     },
     "execution_count": 1,
     "metadata": {},
     "output_type": "execute_result"
    }
   ],
   "source": [
    "import webbrowser\n",
    "\n",
    "# 使用这个函数，可以在默认浏览器下打开指定网页\n",
    "webbrowser.open('http://inventwithpython.com/')"
   ],
   "metadata": {
    "collapsed": false,
    "ExecuteTime": {
     "end_time": "2023-06-03T07:21:20.208432Z",
     "start_time": "2023-06-03T07:21:19.893655Z"
    }
   }
  },
  {
   "cell_type": "markdown",
   "source": [
    "# 1. 弄清楚 URL"
   ],
   "metadata": {
    "collapsed": false
   }
  },
  {
   "cell_type": "markdown",
   "source": [
    "我们输入的内容： mapit.py 870 Valencia St, San Francisco, CA 94110【地址】\n",
    "- 你在浏览器中打开 http://maps.google.com/ 并查找一个地址时，地址栏中的 URL\n",
    "- 看起来就像这样:https:// www.google.com/maps/place/870+Valencia+St/@37.7590311,-122.4215096,17z/data=!3m1!4b1!4m2!3m1!1s0x808f7e3dadc07a37:0xc86b0b2bb93b73d8.\n",
    "- 看起来很复杂，但是你访问：https://www.google.com/maps/place/870+Valencia+St+San+Francisco+CA/, 仍然可以访问到正确的页面"
   ],
   "metadata": {
    "collapsed": false
   }
  },
  {
   "cell_type": "markdown",
   "source": [
    "# 2. 处理命令行参数"
   ],
   "metadata": {
    "collapsed": false
   }
  },
  {
   "cell_type": "code",
   "execution_count": null,
   "outputs": [],
   "source": [
    "#! python3\n",
    "import webbrowser, sys\n",
    "if len(sys.argv) > 1:\n",
    "    # 从命令行获取地址\n",
    "    address = ' '.join(sys.argv[1:])    # 列表第一个之后的内容都是输入的参数，所以 [1:] 获取参数输入"
   ],
   "metadata": {
    "collapsed": false
   }
  },
  {
   "cell_type": "markdown",
   "source": [
    "> 如果输入命令行列没有参数，那就从剪贴板里获取内容"
   ],
   "metadata": {
    "collapsed": false
   }
  },
  {
   "cell_type": "markdown",
   "source": [
    "# 3. 处理剪贴板内容，加载浏览器"
   ],
   "metadata": {
    "collapsed": false
   }
  },
  {
   "cell_type": "code",
   "execution_count": null,
   "outputs": [],
   "source": [
    "#! python3\n",
    "import webbrowser, sys, pyperclip\n",
    "if len(sys.argv) > 1:\n",
    "    # 从命令行获取地址\n",
    "    address = ' '.join(sys.argv[1:])\n",
    "else:\n",
    "    address = pyperclip.paste()\n",
    "\n",
    "# 打开网页\n",
    "webbrowser.open('https://www.google.com/maps/place/' + address)"
   ],
   "metadata": {
    "collapsed": false
   }
  }
 ],
 "metadata": {
  "kernelspec": {
   "display_name": "Python 3",
   "language": "python",
   "name": "python3"
  },
  "language_info": {
   "codemirror_mode": {
    "name": "ipython",
    "version": 2
   },
   "file_extension": ".py",
   "mimetype": "text/x-python",
   "name": "python",
   "nbconvert_exporter": "python",
   "pygments_lexer": "ipython2",
   "version": "2.7.6"
  }
 },
 "nbformat": 4,
 "nbformat_minor": 0
}
