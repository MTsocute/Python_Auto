{
 "cells": [
  {
   "cell_type": "markdown",
   "source": [
    "# 数据载入"
   ],
   "metadata": {
    "collapsed": false
   }
  },
  {
   "cell_type": "code",
   "execution_count": 6,
   "outputs": [
    {
     "data": {
      "text/plain": "{'labama': 'Montgomery',\n 'Alaska': 'Juneau',\n 'Arizona': 'Phoenix',\n 'Arkansas': 'Little Rock',\n 'California': 'Sacramento',\n 'Colorado': 'Denver',\n 'Connecticut': 'Hartford',\n 'Delaware': 'Dover',\n 'Florida': 'Tallahassee',\n 'Georgia': 'Atlanta',\n 'Hawaii': 'Honolulu',\n 'Idaho': 'Boise',\n 'Illinois': 'Springfield',\n 'Indiana': 'Indianapolis',\n 'Iowa': 'Des Moines',\n 'Kansas': 'Topeka',\n 'Kentucky': 'Frankfort',\n 'Louisiana': 'Baton Rouge',\n 'Maine': 'Augusta',\n 'Maryland': 'Annapolis',\n 'Massachusetts': 'Boston',\n 'Michigan': 'Lansing',\n 'Minnesota': 'Saint Paul',\n 'Mississippi': 'Jackson',\n 'Missouri': 'Jefferson City',\n 'Montana': 'Helena',\n 'Nebraska': 'Lincoln',\n 'Nevada': 'Carson City',\n 'New Hampshire': 'Concord',\n 'New Jersey': 'Trenton',\n 'NewMexico': 'Santa Fe',\n 'New York': 'Albany',\n 'North Carolina': 'Raleigh',\n 'North Dakota': 'Bismarck',\n 'Ohio': 'Columbus',\n 'Oklahoma': 'Oklahoma City',\n 'Oregon': 'Salem',\n 'Pennsylvania': 'Harrisburg',\n 'Rhode Island': 'Providence',\n 'South Carolina': 'Columbia',\n 'South Dakota': 'Pierre',\n 'Tennessee': 'Nashville',\n 'Texas': 'Austin',\n 'Utah': 'Salt Lake City',\n 'Vermont': 'Montpelier',\n 'Virginia': 'Richmond',\n 'Washington': 'Olympia',\n 'West Virginia': 'Charleston',\n 'Wisconsin': 'Madison',\n 'Wyoming': 'Cheyenne'}"
     },
     "execution_count": 6,
     "metadata": {},
     "output_type": "execute_result"
    }
   ],
   "source": [
    "import random\n",
    "import json\n",
    "\n",
    "# The quiz data. Keys are states and values are their capitals.\n",
    "with open('/Users/momo/Desktop/Python_Auto/第二部分/Chapter8/data/package.json') as f:\n",
    "    capital = json.load(f)\n",
    "\n",
    "capital"
   ],
   "metadata": {
    "collapsed": false,
    "ExecuteTime": {
     "end_time": "2023-05-26T02:31:40.939101Z",
     "start_time": "2023-05-26T02:31:40.934041Z"
    }
   }
  },
  {
   "cell_type": "markdown",
   "source": [
    "# 生成35个试卷"
   ],
   "metadata": {
    "collapsed": false
   }
  },
  {
   "cell_type": "code",
   "execution_count": null,
   "outputs": [],
   "source": [
    "import random\n",
    "import json\n",
    "\n",
    "# The quiz data. Keys are states and values are their capitals.\n",
    "with open('/Users/momo/Desktop/Python_Auto/第二部分/Chapter8/data/package.json') as f:\n",
    "    capitals = json.load(f)\n",
    "\n",
    "# 生成35份试卷\n",
    "for quizNum in range(35):\n",
    "    # 试卷保存文件名：试卷 + 第几份\n",
    "    quizFile = open('/Users/momo/Desktop/Python_Auto/第二部分/Chapter8/data/capitalsquiz%s.txt' % (quizNum + 1), 'w')\n",
    "    # 生成对应的答案\n",
    "    answerKeyFile = open('/Users/momo/Desktop/Python_Auto/第二部分/Chapter8/data/capitalsquiz_answers%s.txt' % (quizNum + 1), 'w')\n",
    "\n",
    "    # 测试标题给学生填写相关个人信息\n",
    "    quizFile.write('Name:\\n\\nDate:\\n\\nPeriod:\\n\\n')\n",
    "    quizFile.write((' ' * 20) + 'State Capitals Quiz (Form %s)' % (quizNum + 1))\n",
    "    quizFile.write('\\n\\n')\n",
    "\n",
    "    # 随机打乱试卷问题\n",
    "    states = list(capitals.keys())      # 所有的州\n",
    "    random.shuffle(states)\n",
    "\n",
    "    # 为每个问题生成选项，A～D，50 道题\n",
    "    for questionNum in range(50):\n",
    "        correctAnswer = capitals[states[questionNum]]           # 每一题对应的正确答案\n",
    "        wrongAnswers = list(capitals.values())                  # 所有州对应的州首府存储到错误选项列表\n",
    "        del wrongAnswers[wrongAnswers.index(correctAnswer)]     # 删除正确答案就是错误选项单了，从这里随机错误选项\n",
    "        wrongAnswers = random.sample(wrongAnswers, 3)           # 随机选3个错误答案\n",
    "        answerOptions = wrongAnswers.append(correctAnswer)      # 正确和错误选项和作为 A～D 的选项组\n",
    "        random.shuffle(answerOptions)                           # 打乱里面的顺序"
   ],
   "metadata": {
    "collapsed": false
   }
  },
  {
   "cell_type": "markdown",
   "source": [
    "# 把问题写入试卷，答案写入答案卷"
   ],
   "metadata": {
    "collapsed": false
   }
  },
  {
   "cell_type": "code",
   "execution_count": 9,
   "outputs": [
    {
     "name": "stdout",
     "output_type": "stream",
     "text": [
      "Done!\n"
     ]
    }
   ],
   "source": [
    "import random\n",
    "import json\n",
    "\n",
    "# The quiz data. Keys are states and values are their capitals.\n",
    "with open('/Users/momo/Desktop/Python_Auto/第二部分/Chapter8/data/package.json') as f:\n",
    "    capitals = json.load(f)\n",
    "\n",
    "# 生成35份试卷\n",
    "for quizNum in range(35):\n",
    "    # 试卷保存文件名：试卷 + 第几份\n",
    "    quizFile = open('/Users/momo/Desktop/Python_Auto/第二部分/Chapter8/data/testpaper/capitalsquiz%s.txt' % (quizNum + 1), 'w')\n",
    "    # 生成对应的答案\n",
    "    answerKeyFile = open('/Users/momo/Desktop/Python_Auto/第二部分/Chapter8/data/answerpaper/capitalsquiz_answers%s.txt' % (quizNum + 1), 'w')\n",
    "\n",
    "    # 测试标题给学生填写相关个人信息\n",
    "    quizFile.write('Name:\\n\\nDate:\\n\\nPeriod:\\n\\n')\n",
    "    quizFile.write((' ' * 20) + 'State Capitals Quiz (Form %s)' % (quizNum + 1))\n",
    "    quizFile.write('\\n\\n')\n",
    "\n",
    "    states = list(capitals.keys())      # 所有的州\n",
    "    random.shuffle(states)              # 随机打乱试卷问题\n",
    "\n",
    "    # 为每个问题生成选项，A～D，共 50 道题\n",
    "    for questionNum in range(50):\n",
    "        correctAnswer = capitals[states[questionNum]]           # 每一题对应的正确答案\n",
    "        wrongAnswers = list(capitals.values())                  # 所有州对应的州首府存储到错误选项列表\n",
    "        del wrongAnswers[wrongAnswers.index(correctAnswer)]     # 删除正确答案就是错误选项单了，从这里随机错误选项\n",
    "        wrongAnswers = random.sample(wrongAnswers, 3)           # 随机选3个错误答案\n",
    "        answerOptions = wrongAnswers + [correctAnswer]          # 正确和错误选项和作为 A～D 的选项组\n",
    "        random.shuffle(answerOptions)                           # 打乱里面的顺序\n",
    "\n",
    "        \"\"\" 生成试卷和答案 \"\"\"\n",
    "        # 题目：编号 + 问题\n",
    "        quizFile.write('%s. What is the capital of %s?\\n' % (questionNum + 1, states[questionNum]))\n",
    "        # 选项\n",
    "        for i in range(4):\n",
    "            quizFile.write(' %s. %s\\n' % ('ABCD'[i], answerOptions[i]))\n",
    "        quizFile.write('\\n')    # 分隔每一题\n",
    "\n",
    "        # 写入答案到对应答案卷\n",
    "        answerKeyFile.write('%s. %s\\n' % (questionNum + 1,\n",
    "        'ABCD'[answerOptions.index(correctAnswer)]      # 返回答案列表中所在的位置，即对应的 ABCD 选项的位置\n",
    "        ))\n",
    "\n",
    "    # 内容写入完毕关闭文件\n",
    "    quizFile.close()\n",
    "    answerKeyFile.close()\n",
    "\n",
    "print(\"Done!\")"
   ],
   "metadata": {
    "collapsed": false,
    "ExecuteTime": {
     "end_time": "2023-05-26T03:16:03.987202Z",
     "start_time": "2023-05-26T03:16:03.952667Z"
    }
   }
  }
 ],
 "metadata": {
  "kernelspec": {
   "display_name": "Python 3",
   "language": "python",
   "name": "python3"
  },
  "language_info": {
   "codemirror_mode": {
    "name": "ipython",
    "version": 2
   },
   "file_extension": ".py",
   "mimetype": "text/x-python",
   "name": "python",
   "nbconvert_exporter": "python",
   "pygments_lexer": "ipython2",
   "version": "2.7.6"
  }
 },
 "nbformat": 4,
 "nbformat_minor": 0
}
