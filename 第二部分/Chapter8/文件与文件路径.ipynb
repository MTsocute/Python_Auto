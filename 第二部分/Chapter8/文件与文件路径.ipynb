{
 "cells": [
  {
   "cell_type": "markdown",
   "source": [
    "# 处理不同系统之间的文件路径问题"
   ],
   "metadata": {
    "collapsed": false
   }
  },
  {
   "cell_type": "markdown",
   "source": [
    "> 我们知道不同OS下的路径格式都不一样，如果我们想要写路径且能处理这个问题，就看下面这个函数"
   ],
   "metadata": {
    "collapsed": false
   }
  },
  {
   "cell_type": "code",
   "execution_count": 4,
   "outputs": [
    {
     "data": {
      "text/plain": "'usr/bin/spam'"
     },
     "execution_count": 4,
     "metadata": {},
     "output_type": "execute_result"
    }
   ],
   "source": [
    "import os\n",
    "\n",
    "os.path.join('usr', 'bin', 'spam')"
   ],
   "metadata": {
    "collapsed": false,
    "ExecuteTime": {
     "end_time": "2023-05-24T19:57:17.614856Z",
     "start_time": "2023-05-24T19:57:17.612761Z"
    }
   }
  },
  {
   "cell_type": "markdown",
   "source": [
    "> 这个返回的字符串会根据不同操作系统格式不同哦"
   ],
   "metadata": {
    "collapsed": false
   }
  },
  {
   "cell_type": "code",
   "execution_count": 28,
   "outputs": [
    {
     "name": "stdout",
     "output_type": "stream",
     "text": [
      "Users/momo/accounts.txt\n",
      "Users/momo/details.csv\n",
      "Users/momo/invite.docx\n"
     ]
    }
   ],
   "source": [
    "myFiles = ['accounts.txt', 'details.csv', 'invite.docx']\n",
    "for filename in myFiles:\n",
    "    print(os.path.join('Users', 'momo', filename))"
   ],
   "metadata": {
    "collapsed": false,
    "ExecuteTime": {
     "end_time": "2023-05-24T21:41:57.508532Z",
     "start_time": "2023-05-24T21:41:57.491533Z"
    }
   }
  },
  {
   "cell_type": "markdown",
   "source": [
    "> 使用 os.path.sep 解决不同OS之间斜杠不同的问题"
   ],
   "metadata": {
    "collapsed": false
   }
  },
  {
   "cell_type": "code",
   "execution_count": 31,
   "outputs": [
    {
     "name": "stdout",
     "output_type": "stream",
     "text": [
      "Separator of this OS is: \"/\"\n"
     ]
    }
   ],
   "source": [
    "print(f'Separator of this OS is: \\\"{os.path.sep}\\\"')  # 根据不同操作系统返回不同的斜杠"
   ],
   "metadata": {
    "collapsed": false,
    "ExecuteTime": {
     "end_time": "2023-05-24T21:45:45.977954Z",
     "start_time": "2023-05-24T21:45:45.970694Z"
    }
   }
  },
  {
   "cell_type": "markdown",
   "source": [
    "# 文件操作"
   ],
   "metadata": {
    "collapsed": false
   }
  },
  {
   "cell_type": "markdown",
   "source": [
    "## 创建文件夹"
   ],
   "metadata": {
    "collapsed": false
   }
  },
  {
   "cell_type": "markdown",
   "source": [
    "> 在指定文件下创建一个文件夹(甚至可以创建一串的目录)"
   ],
   "metadata": {
    "collapsed": false
   }
  },
  {
   "cell_type": "code",
   "execution_count": 7,
   "outputs": [
    {
     "name": "stdout",
     "output_type": "stream",
     "text": [
      "Done!\n"
     ]
    }
   ],
   "source": [
    "import os\n",
    "os.makedirs('/Users/momo/Desktop/Python_Auto/第二部分/Chapter8/创建文件夹函数测试')\n",
    "print('Done!')"
   ],
   "metadata": {
    "collapsed": false,
    "ExecuteTime": {
     "end_time": "2023-05-24T20:16:36.988962Z",
     "start_time": "2023-05-24T20:16:36.987048Z"
    }
   }
  },
  {
   "cell_type": "markdown",
   "source": [
    "## 查看文件大小"
   ],
   "metadata": {
    "collapsed": false
   }
  },
  {
   "cell_type": "code",
   "execution_count": 41,
   "outputs": [
    {
     "data": {
      "text/plain": "49910"
     },
     "execution_count": 41,
     "metadata": {},
     "output_type": "execute_result"
    }
   ],
   "source": [
    "os.path.getsize('/Users/momo/Desktop/Python_Auto/第二部分/Chapter8/1.png')    # 返回的是字节数(Byte)"
   ],
   "metadata": {
    "collapsed": false,
    "ExecuteTime": {
     "end_time": "2023-05-24T21:57:20.311740Z",
     "start_time": "2023-05-24T21:57:20.301208Z"
    }
   }
  },
  {
   "cell_type": "markdown",
   "source": [
    "## 返回指定文件夹下所有内容名"
   ],
   "metadata": {
    "collapsed": false
   }
  },
  {
   "cell_type": "code",
   "execution_count": 39,
   "outputs": [
    {
     "data": {
      "text/plain": "['创建文件夹函数测试', '文件与文件路径.ipynb', 'images', '.ipynb_checkpoints', '1.png']"
     },
     "execution_count": 39,
     "metadata": {},
     "output_type": "execute_result"
    }
   ],
   "source": [
    "os.listdir(\"/Users/momo/Desktop/Python_Auto/第二部分/Chapter8\")"
   ],
   "metadata": {
    "collapsed": false,
    "ExecuteTime": {
     "end_time": "2023-05-24T21:53:42.194390Z",
     "start_time": "2023-05-24T21:53:42.186896Z"
    }
   }
  },
  {
   "cell_type": "markdown",
   "source": [
    "## 利用前两个操作读出指定文件夹下所有文件大小"
   ],
   "metadata": {
    "collapsed": false
   }
  },
  {
   "cell_type": "code",
   "execution_count": 45,
   "outputs": [
    {
     "name": "stdout",
     "output_type": "stream",
     "text": [
      "创建文件夹函数测试's size is: 64 bytes\n",
      "文件与文件路径.ipynb's size is: 81437 bytes\n",
      "images's size is: 64 bytes\n",
      ".ipynb_checkpoints's size is: 64 bytes\n",
      "1.png's size is: 49910 bytes\n"
     ]
    }
   ],
   "source": [
    "import os\n",
    "for file in os.listdir('/Users/momo/Desktop/Python_Auto/第二部分/Chapter8'):\n",
    "    print(f'{file}\\'s size is: {os.path.getsize(file)} bytes')"
   ],
   "metadata": {
    "collapsed": false,
    "ExecuteTime": {
     "end_time": "2023-05-24T21:59:01.148960Z",
     "start_time": "2023-05-24T21:59:01.141060Z"
    }
   }
  },
  {
   "cell_type": "markdown",
   "source": [
    "# 处理绝对路径和相对路径"
   ],
   "metadata": {
    "collapsed": false
   }
  },
  {
   "cell_type": "markdown",
   "source": [
    "## 相对路径转换成绝对路径"
   ],
   "metadata": {
    "collapsed": false
   }
  },
  {
   "cell_type": "code",
   "execution_count": 10,
   "outputs": [
    {
     "data": {
      "text/plain": "'/Users/momo/Desktop/Python_Auto/第二部分/Chapter8'"
     },
     "execution_count": 10,
     "metadata": {},
     "output_type": "execute_result"
    }
   ],
   "source": [
    "import os\n",
    "os.path.abspath('.')    # 把当前路径转换成绝对路径"
   ],
   "metadata": {
    "collapsed": false,
    "ExecuteTime": {
     "end_time": "2023-05-24T20:39:42.263435Z",
     "start_time": "2023-05-24T20:39:42.239567Z"
    }
   }
  },
  {
   "cell_type": "markdown",
   "source": [
    "## 判断是不是绝对路径"
   ],
   "metadata": {
    "collapsed": false
   }
  },
  {
   "cell_type": "code",
   "execution_count": 15,
   "outputs": [
    {
     "data": {
      "text/plain": "False"
     },
     "execution_count": 15,
     "metadata": {},
     "output_type": "execute_result"
    }
   ],
   "source": [
    "os.path.isabs('.')"
   ],
   "metadata": {
    "collapsed": false,
    "ExecuteTime": {
     "end_time": "2023-05-24T20:41:22.145053Z",
     "start_time": "2023-05-24T20:41:22.119370Z"
    }
   }
  },
  {
   "cell_type": "code",
   "execution_count": 17,
   "outputs": [
    {
     "data": {
      "text/plain": "True"
     },
     "execution_count": 17,
     "metadata": {},
     "output_type": "execute_result"
    }
   ],
   "source": [
    "os.path.isabs(os.path.abspath('.'))"
   ],
   "metadata": {
    "collapsed": false,
    "ExecuteTime": {
     "end_time": "2023-05-24T20:42:31.809236Z",
     "start_time": "2023-05-24T20:42:31.708026Z"
    }
   }
  },
  {
   "cell_type": "markdown",
   "source": [
    "## 返回一个路径到另一个路径的相对路径"
   ],
   "metadata": {
    "collapsed": false
   }
  },
  {
   "cell_type": "markdown",
   "source": [
    "> os.path.relpath(path, start) 将返回从 start 路径到 path 的相对路径的字符串"
   ],
   "metadata": {
    "collapsed": false
   }
  },
  {
   "cell_type": "code",
   "execution_count": 19,
   "outputs": [
    {
     "data": {
      "text/plain": "'../../Chapter7'"
     },
     "execution_count": 19,
     "metadata": {},
     "output_type": "execute_result"
    }
   ],
   "source": [
    "os.path.relpath('/Users/momo/Desktop/Python_Auto/第二部分/Chapter7', '/Users/momo/Desktop/Python_Auto/第二部分/Chapter8/文件与文件路径.ipynb')"
   ],
   "metadata": {
    "collapsed": false,
    "ExecuteTime": {
     "end_time": "2023-05-24T20:46:41.299720Z",
     "start_time": "2023-05-24T20:46:41.295063Z"
    }
   }
  },
  {
   "cell_type": "code",
   "execution_count": 21,
   "outputs": [
    {
     "data": {
      "text/plain": "'../第二部分/Chapter7'"
     },
     "execution_count": 21,
     "metadata": {},
     "output_type": "execute_result"
    }
   ],
   "source": [
    "os.path.relpath('/Users/momo/Desktop/Python_Auto/第二部分/Chapter7', '/Users/momo/Desktop/Python_Auto/第一部分')"
   ],
   "metadata": {
    "collapsed": false,
    "ExecuteTime": {
     "end_time": "2023-05-24T20:47:32.874836Z",
     "start_time": "2023-05-24T20:47:32.853219Z"
    }
   }
  },
  {
   "cell_type": "markdown",
   "source": [
    "## 返回执行文件所在的目录"
   ],
   "metadata": {
    "collapsed": false
   }
  },
  {
   "cell_type": "code",
   "execution_count": 22,
   "outputs": [
    {
     "data": {
      "text/plain": "'/Users/momo/Desktop/Python_Auto/第二部分/Chapter8'"
     },
     "execution_count": 22,
     "metadata": {},
     "output_type": "execute_result"
    }
   ],
   "source": [
    "os.getcwd()"
   ],
   "metadata": {
    "collapsed": false,
    "ExecuteTime": {
     "end_time": "2023-05-24T20:50:27.484477Z",
     "start_time": "2023-05-24T20:50:27.473833Z"
    }
   }
  },
  {
   "cell_type": "markdown",
   "source": [
    "## 检测路径的有效性"
   ],
   "metadata": {
    "collapsed": false
   }
  },
  {
   "cell_type": "markdown",
   "source": [
    "如果 path 参数所指的文件或文件夹存在，调用 os.path.exists(path)将返回 True， 否则返回 False。\n",
    "如果 path 参数存在，并且是一个文件，调用 os.path.isfile(path)将返回 True，否则返回 False。\n",
    "如果 path 参数存在，并且是一个文件夹，调用 os.path.isdir(path)将返回 True， 否则返回 False。"
   ],
   "metadata": {
    "collapsed": false
   }
  },
  {
   "cell_type": "code",
   "execution_count": 47,
   "outputs": [
    {
     "data": {
      "text/plain": "True"
     },
     "execution_count": 47,
     "metadata": {},
     "output_type": "execute_result"
    }
   ],
   "source": [
    "import os\n",
    "# 文件夹存在可以\n",
    "os.path.exists('/Users/momo/Desktop/Python_Auto/第二部分/Chapter8')"
   ],
   "metadata": {
    "collapsed": false,
    "ExecuteTime": {
     "end_time": "2023-05-24T22:05:18.054033Z",
     "start_time": "2023-05-24T22:05:18.040187Z"
    }
   }
  },
  {
   "cell_type": "code",
   "execution_count": 49,
   "outputs": [
    {
     "data": {
      "text/plain": "True"
     },
     "execution_count": 49,
     "metadata": {},
     "output_type": "execute_result"
    }
   ],
   "source": [
    "# 文件存在也可以\n",
    "os.path.exists('/Users/momo/Desktop/Python_Auto/第二部分/Chapter8/1.png')"
   ],
   "metadata": {
    "collapsed": false,
    "ExecuteTime": {
     "end_time": "2023-05-24T22:06:04.760029Z",
     "start_time": "2023-05-24T22:06:04.733938Z"
    }
   }
  },
  {
   "cell_type": "code",
   "execution_count": 52,
   "outputs": [
    {
     "data": {
      "text/plain": "True"
     },
     "execution_count": 52,
     "metadata": {},
     "output_type": "execute_result"
    }
   ],
   "source": [
    "# 只检测文件存在\n",
    "os.path.isfile('/Users/momo/Desktop/Python_Auto/第二部分/Chapter8/1.png')"
   ],
   "metadata": {
    "collapsed": false,
    "ExecuteTime": {
     "end_time": "2023-05-24T22:06:51.261853Z",
     "start_time": "2023-05-24T22:06:51.252178Z"
    }
   }
  },
  {
   "cell_type": "code",
   "execution_count": 53,
   "outputs": [
    {
     "data": {
      "text/plain": "True"
     },
     "execution_count": 53,
     "metadata": {},
     "output_type": "execute_result"
    }
   ],
   "source": [
    "# 只检测文件夹存在\n",
    "os.path.isdir('/Users/momo/Desktop/Python_Auto/第二部分/Chapter8/images')"
   ],
   "metadata": {
    "collapsed": false,
    "ExecuteTime": {
     "end_time": "2023-05-24T22:07:22.364368Z",
     "start_time": "2023-05-24T22:07:22.357318Z"
    }
   }
  },
  {
   "cell_type": "markdown",
   "source": [
    "# 目录名称和基本名称"
   ],
   "metadata": {
    "collapsed": false
   }
  },
  {
   "cell_type": "markdown",
   "source": [
    "## 返回最后斜杠之前的内容"
   ],
   "metadata": {
    "collapsed": false
   }
  },
  {
   "cell_type": "code",
   "execution_count": 17,
   "outputs": [
    {
     "data": {
      "text/plain": "'/Users/momo/Desktop/Python_Auto/第二部分'"
     },
     "execution_count": 17,
     "metadata": {},
     "output_type": "execute_result"
    }
   ],
   "source": [
    "import os\n",
    "# 内容一定要是绝对路径\n",
    "os.path.dirname(os.getcwd())"
   ],
   "metadata": {
    "collapsed": false,
    "ExecuteTime": {
     "end_time": "2023-05-24T21:21:18.310274Z",
     "start_time": "2023-05-24T21:21:18.288763Z"
    }
   }
  },
  {
   "cell_type": "markdown",
   "source": [
    "## 返回最后一个斜杠之后的内容"
   ],
   "metadata": {
    "collapsed": false
   }
  },
  {
   "cell_type": "code",
   "execution_count": 22,
   "outputs": [
    {
     "data": {
      "text/plain": "'Chapter7'"
     },
     "execution_count": 22,
     "metadata": {},
     "output_type": "execute_result"
    }
   ],
   "source": [
    "import os\n",
    "os.path.basename(\"/Users/momo/Desktop/Python_Auto/第二部分/Chapter7\")"
   ],
   "metadata": {
    "collapsed": false,
    "ExecuteTime": {
     "end_time": "2023-05-24T21:27:03.104166Z",
     "start_time": "2023-05-24T21:27:03.100470Z"
    }
   }
  },
  {
   "cell_type": "code",
   "execution_count": 23,
   "outputs": [
    {
     "data": {
      "image/png": "[encoded data removed]",
      "text/plain": "<IPython.core.display.Image object>"
     },
     "execution_count": 23,
     "metadata": {},
     "output_type": "execute_result"
    }
   ],
   "source": [
    "from IPython.display import Image\n",
    "Image(filename='/Users/momo/Desktop/Python_Auto/第二部分/Chapter8/1.png')"
   ],
   "metadata": {
    "collapsed": false,
    "ExecuteTime": {
     "end_time": "2023-05-24T21:33:55.189907Z",
     "start_time": "2023-05-24T21:33:55.088635Z"
    }
   }
  },
  {
   "cell_type": "markdown",
   "source": [
    "> 在这里我们对这斜杠前后进行一个名词解释\n",
    "> 斜杠之前的一片内容，叫做目录名称，dirname 就是返回这个\n",
    "> 斜杠之后的内容，叫做基本名称，basename 就是返回这个"
   ],
   "metadata": {
    "collapsed": false
   }
  },
  {
   "cell_type": "markdown",
   "source": [
    "## 可以把一个路径拆分成这两个部分"
   ],
   "metadata": {
    "collapsed": false
   }
  },
  {
   "cell_type": "code",
   "execution_count": 25,
   "outputs": [
    {
     "data": {
      "text/plain": "('C/Windows/System32', 'calc.exe')"
     },
     "execution_count": 25,
     "metadata": {},
     "output_type": "execute_result"
    }
   ],
   "source": [
    "calcFilePath = 'C/Windows/System32/calc.exe'\n",
    "os.path.split(calcFilePath)"
   ],
   "metadata": {
    "collapsed": false,
    "ExecuteTime": {
     "end_time": "2023-05-24T21:37:50.644098Z",
     "start_time": "2023-05-24T21:37:50.637028Z"
    }
   }
  },
  {
   "cell_type": "code",
   "execution_count": 27,
   "outputs": [
    {
     "data": {
      "text/plain": "('C/Windows/System32', 'calc.exe')"
     },
     "execution_count": 27,
     "metadata": {},
     "output_type": "execute_result"
    }
   ],
   "source": [
    "(os.path.dirname(calcFilePath), os.path.basename(calcFilePath))     # 和上面同理"
   ],
   "metadata": {
    "collapsed": false,
    "ExecuteTime": {
     "end_time": "2023-05-24T21:39:17.792680Z",
     "start_time": "2023-05-24T21:39:17.783585Z"
    }
   }
  },
  {
   "cell_type": "markdown",
   "source": [
    "### 如果我们是接受返回值之后对字符串处理的话，那我们可以使用 split() 结合 ps.path.sep"
   ],
   "metadata": {
    "collapsed": false
   }
  },
  {
   "cell_type": "markdown",
   "source": [
    "> 在 OS X 和 Linux 系统上，返回的列表头上有一个空字符串"
   ],
   "metadata": {
    "collapsed": false
   }
  },
  {
   "cell_type": "code",
   "execution_count": 37,
   "outputs": [
    {
     "data": {
      "text/plain": "['', 'Users', 'momo', 'Desktop', 'Python_Auto', '第二部分', 'Chapter8']"
     },
     "execution_count": 37,
     "metadata": {},
     "output_type": "execute_result"
    }
   ],
   "source": [
    "import os\n",
    "cool = os.getcwd()\n",
    "cool.split(os.path.sep)"
   ],
   "metadata": {
    "collapsed": false,
    "ExecuteTime": {
     "end_time": "2023-05-24T21:49:23.130295Z",
     "start_time": "2023-05-24T21:49:23.124799Z"
    }
   }
  }
 ],
 "metadata": {
  "kernelspec": {
   "display_name": "Python 3",
   "language": "python",
   "name": "python3"
  },
  "language_info": {
   "codemirror_mode": {
    "name": "ipython",
    "version": 2
   },
   "file_extension": ".py",
   "mimetype": "text/x-python",
   "name": "python",
   "nbconvert_exporter": "python",
   "pygments_lexer": "ipython2",
   "version": "2.7.6"
  }
 },
 "nbformat": 4,
 "nbformat_minor": 0
}
