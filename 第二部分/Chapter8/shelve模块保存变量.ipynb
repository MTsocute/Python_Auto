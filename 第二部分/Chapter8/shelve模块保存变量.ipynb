{
 "cells": [
  {
   "cell_type": "markdown",
   "source": [
    "# 将 Python 程序中的变量保存到二进制的 shelf 文件中"
   ],
   "metadata": {
    "collapsed": false
   }
  },
  {
   "cell_type": "code",
   "execution_count": 10,
   "outputs": [
    {
     "name": "stdout",
     "output_type": "stream",
     "text": [
      "<shelve.DbfilenameShelf object at 0x10671ed10>\n"
     ]
    }
   ],
   "source": [
    "import shelve\n",
    "\n",
    "# 打开已存在的文件或创建新文件作为 shelve 对象存储文件\n",
    "shelfile = shelve.open('/Users/momo/Desktop/Python_Auto/第二部分/Chapter8/data/mydata')\n",
    "\n",
    "# 要存储的数据\n",
    "cats = ['Zophie', 'Pooka', 'Simon']\n",
    "\n",
    "# 存储对象\n",
    "shelfile['cats'] = cats\n",
    "\n",
    "print(shelfile)\n",
    "\n",
    "shelfile.close()"
   ],
   "metadata": {
    "collapsed": false,
    "ExecuteTime": {
     "end_time": "2023-05-25T05:38:17.910459Z",
     "start_time": "2023-05-25T05:38:17.904727Z"
    }
   }
  },
  {
   "cell_type": "markdown",
   "source": [
    "## 再度读取回来的时候，操作就和字典一样"
   ],
   "metadata": {
    "collapsed": false
   }
  },
  {
   "cell_type": "code",
   "execution_count": 13,
   "outputs": [
    {
     "data": {
      "text/plain": "shelve.DbfilenameShelf"
     },
     "execution_count": 13,
     "metadata": {},
     "output_type": "execute_result"
    }
   ],
   "source": [
    "shelfile = shelve.open('/Users/momo/Desktop/Python_Auto/第二部分/Chapter8/data/mydata')\n",
    "type(shelfile)"
   ],
   "metadata": {
    "collapsed": false,
    "ExecuteTime": {
     "end_time": "2023-05-25T05:39:31.284206Z",
     "start_time": "2023-05-25T05:39:31.258348Z"
    }
   }
  },
  {
   "cell_type": "code",
   "execution_count": 14,
   "outputs": [
    {
     "data": {
      "text/plain": "['Zophie', 'Pooka', 'Simon']"
     },
     "execution_count": 14,
     "metadata": {},
     "output_type": "execute_result"
    }
   ],
   "source": [
    "shelfile['cats']    # 利用键返回对应的值，和字典一样"
   ],
   "metadata": {
    "collapsed": false,
    "ExecuteTime": {
     "end_time": "2023-05-25T05:39:44.926421Z",
     "start_time": "2023-05-25T05:39:44.914977Z"
    }
   }
  },
  {
   "cell_type": "code",
   "execution_count": 15,
   "outputs": [],
   "source": [
    "shelfile.close()"
   ],
   "metadata": {
    "collapsed": false,
    "ExecuteTime": {
     "end_time": "2023-05-25T05:39:57.362656Z",
     "start_time": "2023-05-25T05:39:57.351014Z"
    }
   }
  },
  {
   "cell_type": "markdown",
   "source": [
    "# 像字典一样，shelf 值有 keys() 和 values() 方法"
   ],
   "metadata": {
    "collapsed": false
   }
  },
  {
   "cell_type": "code",
   "execution_count": 12,
   "outputs": [],
   "source": [
    "shelfile = shelve.open('/Users/momo/Desktop/Python_Auto/第二部分/Chapter8/data/mydata')"
   ],
   "metadata": {
    "collapsed": false,
    "ExecuteTime": {
     "end_time": "2023-05-25T05:39:21.775521Z",
     "start_time": "2023-05-25T05:39:21.765654Z"
    }
   }
  },
  {
   "cell_type": "code",
   "execution_count": 6,
   "outputs": [
    {
     "data": {
      "text/plain": "['cats']"
     },
     "execution_count": 6,
     "metadata": {},
     "output_type": "execute_result"
    }
   ],
   "source": [
    "list(shelfile.keys())   # 键"
   ],
   "metadata": {
    "collapsed": false,
    "ExecuteTime": {
     "end_time": "2023-05-25T05:36:57.733256Z",
     "start_time": "2023-05-25T05:36:57.728Z"
    }
   }
  },
  {
   "cell_type": "code",
   "execution_count": 8,
   "outputs": [
    {
     "data": {
      "text/plain": "[['Zophie', 'Pooka', 'Simon']]"
     },
     "execution_count": 8,
     "metadata": {},
     "output_type": "execute_result"
    }
   ],
   "source": [
    "list(shelfile.values()) # 值"
   ],
   "metadata": {
    "collapsed": false,
    "ExecuteTime": {
     "end_time": "2023-05-25T05:37:33.340383Z",
     "start_time": "2023-05-25T05:37:33.307805Z"
    }
   }
  },
  {
   "cell_type": "code",
   "execution_count": 9,
   "outputs": [],
   "source": [
    "shelfile.close()"
   ],
   "metadata": {
    "collapsed": false,
    "ExecuteTime": {
     "end_time": "2023-05-25T05:37:40.077591Z",
     "start_time": "2023-05-25T05:37:40.055816Z"
    }
   }
  },
  {
   "cell_type": "markdown",
   "source": [
    "## 利用模块把内容写到 python 文件中去"
   ],
   "metadata": {
    "collapsed": false
   }
  },
  {
   "cell_type": "code",
   "execution_count": 4,
   "outputs": [
    {
     "data": {
      "text/plain": "83"
     },
     "execution_count": 4,
     "metadata": {},
     "output_type": "execute_result"
    }
   ],
   "source": [
    "import pprint\n",
    "cats = [{'name': 'Zophie', 'desc': 'chubby'}, {'name': 'Pooka', 'desc': 'fluffy'}]\n",
    "\n",
    "fileObj = open('/Users/momo/Desktop/Python_Auto/第二部分/Chapter8/data/myCats.py', 'w')\n",
    "# 写入列表字段到 python 文件中去\n",
    "fileObj.write('cats = ' + pprint.pformat(cats) + '\\n')"
   ],
   "metadata": {
    "collapsed": false,
    "ExecuteTime": {
     "end_time": "2023-05-26T02:02:56.056647Z",
     "start_time": "2023-05-26T02:02:56.019683Z"
    }
   }
  },
  {
   "cell_type": "markdown",
   "source": [
    "> 返回的 83 就代表着写入了 83 Bytes 字符串到文件中去"
   ],
   "metadata": {
    "collapsed": false
   }
  },
  {
   "cell_type": "code",
   "execution_count": 5,
   "outputs": [],
   "source": [
    "fileObj.close()"
   ],
   "metadata": {
    "collapsed": false,
    "ExecuteTime": {
     "end_time": "2023-05-26T02:03:03.486125Z",
     "start_time": "2023-05-26T02:03:03.465136Z"
    }
   }
  },
  {
   "cell_type": "markdown",
   "source": [
    "## 导入自己写的模块，里面的数据还可以自己操作"
   ],
   "metadata": {
    "collapsed": false
   }
  },
  {
   "cell_type": "code",
   "execution_count": 7,
   "outputs": [
    {
     "data": {
      "text/plain": "{'desc': 'chubby', 'name': 'Zophie'}"
     },
     "execution_count": 7,
     "metadata": {},
     "output_type": "execute_result"
    }
   ],
   "source": [
    "from data.myCats import cats\n",
    "\n",
    "cats[0]"
   ],
   "metadata": {
    "collapsed": false,
    "ExecuteTime": {
     "end_time": "2023-05-26T02:10:55.137297Z",
     "start_time": "2023-05-26T02:10:55.131926Z"
    }
   }
  },
  {
   "cell_type": "code",
   "execution_count": 8,
   "outputs": [
    {
     "data": {
      "text/plain": "'Zophie'"
     },
     "execution_count": 8,
     "metadata": {},
     "output_type": "execute_result"
    }
   ],
   "source": [
    "cats[0]['name']"
   ],
   "metadata": {
    "collapsed": false,
    "ExecuteTime": {
     "end_time": "2023-05-26T02:11:05.819268Z",
     "start_time": "2023-05-26T02:11:05.798639Z"
    }
   }
  }
 ],
 "metadata": {
  "kernelspec": {
   "display_name": "Python 3",
   "language": "python",
   "name": "python3"
  },
  "language_info": {
   "codemirror_mode": {
    "name": "ipython",
    "version": 2
   },
   "file_extension": ".py",
   "mimetype": "text/x-python",
   "name": "python",
   "nbconvert_exporter": "python",
   "pygments_lexer": "ipython2",
   "version": "2.7.6"
  }
 },
 "nbformat": 4,
 "nbformat_minor": 0
}
