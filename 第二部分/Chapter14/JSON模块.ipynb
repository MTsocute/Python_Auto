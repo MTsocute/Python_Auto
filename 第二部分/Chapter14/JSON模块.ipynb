{
 "cells": [
  {
   "cell_type": "markdown",
   "source": [
    "# json.loads() 载入 JSON 文件\n",
    "> 把 json 格式的文本转换成Python可用的字典类型"
   ],
   "metadata": {
    "collapsed": false
   }
  },
  {
   "cell_type": "code",
   "execution_count": 8,
   "outputs": [
    {
     "data": {
      "text/plain": "{'life': 666, 'name': 'momo'}"
     },
     "execution_count": 8,
     "metadata": {},
     "output_type": "execute_result"
    }
   ],
   "source": [
    "jstring = '{\"life\": 666, \"name\": \"momo\"}'\n",
    "\n",
    "import json\n",
    "\n",
    "# Json String --> Python Value\n",
    "jsonAsPythonValue = json.loads(jstring)\n",
    "jsonAsPythonValue : dict"
   ],
   "metadata": {
    "collapsed": false,
    "ExecuteTime": {
     "end_time": "2023-06-20T05:04:43.779174Z",
     "start_time": "2023-06-20T05:04:43.774001Z"
    }
   }
  },
  {
   "cell_type": "markdown",
   "source": [
    "# json.damps() 转换 Python 字典值为 json 格式的字符串"
   ],
   "metadata": {
    "collapsed": false
   }
  },
  {
   "cell_type": "code",
   "execution_count": 9,
   "outputs": [
    {
     "data": {
      "text/plain": "'{\"life\": 666, \"name\": \"momo\"}'"
     },
     "execution_count": 9,
     "metadata": {},
     "output_type": "execute_result"
    }
   ],
   "source": [
    "import json\n",
    "python_value = {\"life\": 666, \"name\": \"momo\"}\n",
    "\n",
    "# Python Value --> Json String\n",
    "jsonString = json.dumps(python_value)\n",
    "\n",
    "jsonString : str"
   ],
   "metadata": {
    "collapsed": false,
    "ExecuteTime": {
     "end_time": "2023-06-20T05:08:53.886439Z",
     "start_time": "2023-06-20T05:08:53.883183Z"
    }
   }
  }
 ],
 "metadata": {
  "kernelspec": {
   "display_name": "Python 3",
   "language": "python",
   "name": "python3"
  },
  "language_info": {
   "codemirror_mode": {
    "name": "ipython",
    "version": 2
   },
   "file_extension": ".py",
   "mimetype": "text/x-python",
   "name": "python",
   "nbconvert_exporter": "python",
   "pygments_lexer": "ipython2",
   "version": "2.7.6"
  }
 },
 "nbformat": 4,
 "nbformat_minor": 0
}
