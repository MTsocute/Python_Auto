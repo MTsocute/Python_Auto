{
 "cells": [
  {
   "attachments": {},
   "cell_type": "markdown",
   "metadata": {},
   "source": [
    "# Python 启动其他程序\n",
    "> 如果你打开了一个应用程序的多个实例，每个实例都是同一个程序的不同进程 <br>\n",
    "> 每个进程可以有多个线程。不像线程，进程无法直接读写另一个进程的变量 <br>\n",
    "> 多线程程序是多个手指在追踪源代码，那么同一个程序打开多个进程就像有一个朋友拿着程序源代码的独立副本。你们都独立地执行相同的程序。"
   ]
  },
  {
   "attachments": {},
   "cell_type": "markdown",
   "metadata": {},
   "source": [
    "## 1. 使用 subprocess.Popen() 打开一个程序"
   ]
  },
  {
   "cell_type": "code",
   "execution_count": 4,
   "metadata": {},
   "outputs": [
    {
     "data": {
      "text/plain": [
       "<Popen: returncode: None args: '/Applications/Typora.app/Contents/MacOS/Typora'>"
      ]
     },
     "execution_count": 4,
     "metadata": {},
     "output_type": "execute_result"
    },
    {
     "name": "stderr",
     "output_type": "stream",
     "text": [
      "2023-06-23 23:36:06.031 Typora[7502:304115] Could not find image named 'NSImageNameTouchBarTextListTemplate'.\n",
      "2023-06-23 23:36:06.077 Typora[7502:304115] WARNING: Secure coding is not enabled for restorable state! Enable secure coding by implementing NSApplicationDelegate.applicationSupportsSecureRestorableState: and returning YES.\n",
      "2023-06-23 23:36:06.198 Typora[7502:304115] -[WKWebView _setDrawsTransparentBackground:] is deprecated and should not be used.\n"
     ]
    }
   ],
   "source": [
    "import subprocess\n",
    "\n",
    "# 打开 Typora\n",
    "subprocess.Popen('/Applications/Typora.app/Contents/MacOS/Typora')"
   ]
  },
  {
   "attachments": {},
   "cell_type": "markdown",
   "metadata": {},
   "source": [
    "## 2. MacOS 打开程序"
   ]
  },
  {
   "cell_type": "code",
   "execution_count": 4,
   "metadata": {},
   "outputs": [
    {
     "data": {
      "text/plain": [
       "<Popen: returncode: None args: ['open', '/Applications/Google Chrome.app/']>"
      ]
     },
     "execution_count": 4,
     "metadata": {},
     "output_type": "execute_result"
    }
   ],
   "source": [
    "import subprocess\n",
    "\n",
    "# 这里并不是打开可执行程序，而是直接使用 Mac 自带的 open 函数\n",
    "# 查询 open 这个函数的文档，了解更多\n",
    "subprocess.Popen(['open', '/Applications/Google Chrome.app/'])"
   ]
  },
  {
   "attachments": {},
   "cell_type": "markdown",
   "metadata": {},
   "source": [
    "# Popen() 会返回一个 Popen 对象"
   ]
  },
  {
   "attachments": {},
   "cell_type": "markdown",
   "metadata": {},
   "source": [
    "## 1. poll() 方法检测程序是否还在运行"
   ]
  },
  {
   "cell_type": "code",
   "execution_count": 2,
   "metadata": {},
   "outputs": [
    {
     "data": {
      "text/plain": [
       "True"
      ]
     },
     "execution_count": 2,
     "metadata": {},
     "output_type": "execute_result"
    }
   ],
   "source": [
    "vscodeProc = subprocess.Popen('/Applications/Visual Studio Code.app/Contents/MacOS/Electron')\n",
    "\n",
    "# 开启的进程在 poll() 还在运行，就会返回 None\n",
    "vscodeProc.poll() == None"
   ]
  },
  {
   "attachments": {},
   "cell_type": "markdown",
   "metadata": {},
   "source": [
    "> 进程在 poll() 还在运行就会返回 None <br>\n",
    "> 如果在 poll() 的时候已经退出了会根据情况返回退出代码\n",
    ">> 如果程序是正常退出就是 0，如果是因为异常退出就是 1"
   ]
  },
  {
   "attachments": {},
   "cell_type": "markdown",
   "metadata": {},
   "source": [
    "## 2. returncode() 方法查看返回值是多少"
   ]
  },
  {
   "cell_type": "code",
   "execution_count": 26,
   "metadata": {},
   "outputs": [
    {
     "name": "stdout",
     "output_type": "stream",
     "text": [
      "Hello, world!\n",
      "Child process returned: 0\n"
     ]
    }
   ],
   "source": [
    "import subprocess\n",
    "\n",
    "# 启动子进程执行命令\n",
    "process = subprocess.Popen(['echo', 'Hello, world!'])\n",
    "\n",
    "while process.poll() is None:\n",
    "    pass\n",
    "\n",
    "# 输出子进程的返回值\n",
    "print(\"Child process returned:\", process.returncode)\n"
   ]
  },
  {
   "attachments": {},
   "cell_type": "markdown",
   "metadata": {},
   "source": [
    "## 3. wait() 等待子进程结束"
   ]
  },
  {
   "cell_type": "code",
   "execution_count": 2,
   "metadata": {},
   "outputs": [
    {
     "name": "stdout",
     "output_type": "stream",
     "text": [
      "Python 3.11.4\n",
      "Exit code: 0\n"
     ]
    }
   ],
   "source": [
    "import subprocess\n",
    "\n",
    "# 启动子进程执行命令\n",
    "process = subprocess.Popen(['python3', '--version'])\n",
    "\n",
    "# 等待子进程结束\n",
    "process.wait()\n",
    "\n",
    "# 输出子进程的退出状态码\n",
    "exit_code = process.returncode\n",
    "print(\"Exit code:\", exit_code)"
   ]
  },
  {
   "attachments": {},
   "cell_type": "markdown",
   "metadata": {},
   "source": [
    "# 向 Popen() 传递命令行参数"
   ]
  },
  {
   "cell_type": "code",
   "execution_count": 3,
   "metadata": {},
   "outputs": [
    {
     "name": "stdout",
     "output_type": "stream",
     "text": [
      "chatGPT 破解口令已赋值到剪贴板\n"
     ]
    }
   ],
   "source": [
    "import subprocess\n",
    "\n",
    "# 当传入一个列表的时候，就是默认打开程序的时候传递参数了\n",
    "# 列表第一个就是打开的传序，后面列表的所有内容就是依次的参数\n",
    "openTxtFile = subprocess.Popen(['python3', '/Users/momo/MyCmd/chatGPT_lock.py'])"
   ]
  },
  {
   "attachments": {},
   "cell_type": "markdown",
   "metadata": {},
   "source": [
    "## Mac 打开系统自带的程序"
   ]
  },
  {
   "cell_type": "code",
   "execution_count": 15,
   "metadata": {},
   "outputs": [
    {
     "data": {
      "text/plain": [
       "<Popen: returncode: None args: ['open', '-a', 'Music', './project/data/alarm...>"
      ]
     },
     "execution_count": 15,
     "metadata": {},
     "output_type": "execute_result"
    }
   ],
   "source": [
    "import subprocess\n",
    "\n",
    "# 指定自带的程序打开指定的文件\n",
    "subprocess.Popen(['open', '-a', 'Music', './project/data/alarm.wav'])"
   ]
  }
 ],
 "metadata": {
  "kernelspec": {
   "display_name": "Python 3",
   "language": "python",
   "name": "python3"
  },
  "language_info": {
   "codemirror_mode": {
    "name": "ipython",
    "version": 3
   },
   "file_extension": ".py",
   "mimetype": "text/x-python",
   "name": "python",
   "nbconvert_exporter": "python",
   "pygments_lexer": "ipython3",
   "version": "3.11.4"
  },
  "orig_nbformat": 4
 },
 "nbformat": 4,
 "nbformat_minor": 2
}
