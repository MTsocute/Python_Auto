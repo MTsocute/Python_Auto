{
 "cells": [
  {
   "cell_type": "markdown",
   "id": "e5978d1d",
   "metadata": {},
   "source": [
    "# Time 模块"
   ]
  },
  {
   "cell_type": "code",
   "execution_count": 1,
   "id": "6bd72d15",
   "metadata": {},
   "outputs": [
    {
     "data": {
      "text/plain": [
       "1687347863.9337559"
      ]
     },
     "execution_count": 1,
     "metadata": {},
     "output_type": "execute_result"
    }
   ],
   "source": [
    "import time\n",
    "time.time()"
   ]
  },
  {
   "cell_type": "markdown",
   "id": "d8c717cb",
   "metadata": {},
   "source": [
    "> 返回的时间是一个 float 就是从 1970-1-1 0点开始到现在的时间\n",
    "> 这个时间，我们叫做 UNIX 时间戳"
   ]
  },
  {
   "cell_type": "markdown",
   "id": "0595fd27",
   "metadata": {},
   "source": [
    "## 利用 time.time() 测量代码运行速度"
   ]
  },
  {
   "cell_type": "code",
   "execution_count": 6,
   "id": "15191b2c",
   "metadata": {},
   "outputs": [
    {
     "name": "stdout",
     "output_type": "stream",
     "text": [
      "Took 6.9141387939453125e-06 seconds to calculate.\n"
     ]
    }
   ],
   "source": [
    "import time\n",
    "def calcProd():\n",
    "    # Calculate the product of the first 100,000 numbers.\n",
    "    product = 1\n",
    "    for i in range(1, 100000):\n",
    "        product = product * i\n",
    "\n",
    "startTime = time.time()\n",
    "endTime = time.time()\n",
    "\n",
    "print('Took %s seconds to calculate.' % (endTime - startTime))"
   ]
  },
  {
   "cell_type": "markdown",
   "id": "401162fe",
   "metadata": {},
   "source": [
    "## time.sleep() 让程序暂停一会儿"
   ]
  },
  {
   "cell_type": "code",
   "execution_count": 13,
   "id": "e26aa8cb",
   "metadata": {},
   "outputs": [
    {
     "name": "stdout",
     "output_type": "stream",
     "text": [
      "Hello\n",
      "程序已运行：2s\n",
      "Hello\n",
      "程序已运行：4s\n"
     ]
    }
   ],
   "source": [
    "starttime = time.time()\n",
    "for i in range(2):\n",
    "    print(\"Hello\")\n",
    "    time.sleep(2)\n",
    "    print(f'程序已运行：{int(time.time() - starttime)}s')"
   ]
  },
  {
   "cell_type": "markdown",
   "id": "46aea0b6",
   "metadata": {},
   "source": [
    "### 程序暂停如果需要很长时间，应使用 for 循环"
   ]
  },
  {
   "cell_type": "markdown",
   "id": "b735bcca",
   "metadata": {},
   "source": [
    "> 在 IDLE 中按Ctrl-C 不会中断 time.sleep()调用。IDLE 会等待到暂停结束，再抛出KeyboardInterrupt 异常。\n",
    "> 要绕过这个问题，不要用一次 time.sleep(30)调用来暂停30 秒，而是使用 for 循环执行 30 次time.sleep(1)调用"
   ]
  },
  {
   "cell_type": "code",
   "execution_count": null,
   "id": "45d838f3",
   "metadata": {},
   "outputs": [],
   "source": [
    "# 这么写的话，可以用 ctrl-c 暂停程序\n",
    "for sec in range(30):\n",
    "    time.sleep(1)"
   ]
  }
 ],
 "metadata": {
  "kernelspec": {
   "display_name": "Python 3 (ipykernel)",
   "language": "python",
   "name": "python3"
  },
  "language_info": {
   "codemirror_mode": {
    "name": "ipython",
    "version": 3
   },
   "file_extension": ".py",
   "mimetype": "text/x-python",
   "name": "python",
   "nbconvert_exporter": "python",
   "pygments_lexer": "ipython3",
   "version": "3.11.3"
  }
 },
 "nbformat": 4,
 "nbformat_minor": 5
}
